{
 "cells": [
  {
   "cell_type": "markdown",
   "metadata": {},
   "source": [
    "# Определение стоимости автомобилей"
   ]
  },
  {
   "cell_type": "markdown",
   "metadata": {},
   "source": [
    "**Контекст**  \n",
    "Сервис по продаже автомобилей с пробегом «Не бит, не крашен» разрабатывает приложение для привлечения новых клиентов. В нём можно быстро узнать рыночную стоимость своего автомобиля. В вашем распоряжении исторические данные: технические характеристики, комплектации и цены автомобилей. Вам нужно построить модель для определения стоимости. \n",
    "\n",
    "Заказчику важны:\n",
    "\n",
    "- качество предсказания;\n",
    "- скорость предсказания;\n",
    "- время обучения.\n",
    "\n",
    "**Описание данных**  \n",
    "Данные находятся в файле /datasets/autos.csv.  \n",
    "\n",
    "Пространство признаков:\n",
    "* DateCrawled — дата скачивания анкеты из базы;\n",
    "* VehicleType — тип автомобильного кузова;\n",
    "* RegistrationYear — год регистрации автомобиля;\n",
    "* Gearbox — тип коробки передач;\n",
    "* Power — мощность (л. с.);\n",
    "* Model — модель автомобиля;\n",
    "* Kilometer — пробег (км);\n",
    "* RegistrationMonth — месяц регистрации автомобиля;\n",
    "* FuelType — тип топлива;\n",
    "* Brand — марка автомобиля;\n",
    "* Repaired — была машина в ремонте или нет;\n",
    "* DateCreated — дата создания анкеты;\n",
    "* NumberOfPictures — количество фотографий автомобиля;\n",
    "* PostalCode — почтовый индекс владельца анкеты (пользователя);\n",
    "* LastSeen — дата последней активности пользователя.\n",
    "\n",
    "Целевой признак\n",
    "* Price — цена (евро)  \n",
    "\n",
    "**Инструкция**  \n",
    "Чтобы усилить исследование, не ограничивайтесь градиентным бустингом. Попробуйте более простые модели — иногда они работают лучше. Эти редкие случаи легко пропустить, если всегда применять только бустинг. \n",
    "Поэкспериментируйте и сравните характеристики моделей: время обучения, время предсказания, точность результата.  \n",
    "\n",
    "*Основные шаги:*  \n",
    "\n",
    "1) Загрузить данные в переменную;  \n",
    "2) Изучить данные. Заполнить пропущенные значения и обработать аномалии в столбцах. Если среди признаков имеются неинформативные, удалить их;  \n",
    "3) Подготовить выборки для обучения моделей;  \n",
    "4) Обучить разные модели: одна из моделей — LightGBM, как минимум одна — не бустинг. Для каждой модели попробовать разные гиперпараметры;  \n",
    "5) Проанализировать время обучения, время предсказания и качество моделей;  \n",
    "6) Опираясь на критерии заказчика, выбратье лучшую модель, проверить её качество на тестовой выборке.  \n",
    "\n",
    "*Примечания:*\n",
    "\n",
    "    а) Для оценки качества моделей применяйте метрику RMSE;  \n",
    "    б) Значение метрики RMSE должно быть меньше 2500;  \n",
    "    в) Самостоятельно освойте библиотеку LightGBM и её средствами постройте модели градиентного бустинга;  \n",
    "    г) Время выполнения ячейки кода Jupyter Notebook можно получить специальной командой. Найдите её;  \n",
    "    д) Модель градиентного бустинга может долго обучаться, поэтому измените у неё только два-три параметра;  \n",
    "    е) Если перестанет работать Jupyter Notebook, удалите лишние переменные оператором del (del features_train). "
   ]
  },
  {
   "cell_type": "markdown",
   "metadata": {},
   "source": [
    "## Подготовка данных"
   ]
  },
  {
   "cell_type": "markdown",
   "metadata": {},
   "source": [
    "### Загрузка данных и библиотек и оценка первичной информации о данных"
   ]
  },
  {
   "cell_type": "code",
   "execution_count": 1,
   "metadata": {},
   "outputs": [],
   "source": [
    "# import\n",
    "import pandas as pd\n",
    "import numpy as np\n",
    "import matplotlib.pyplot as plt\n",
    "import os\n",
    "\n",
    "from sklearn.linear_model import LinearRegression\n",
    "from lightgbm import LGBMRegressor\n",
    "from catboost import Pool, CatBoostRegressor, cv\n",
    "from sklearn.tree import DecisionTreeRegressor\n",
    "\n",
    "from sklearn.model_selection import train_test_split\n",
    "from sklearn.model_selection import cross_val_score\n",
    "#from sklearn.preprocessing import OrdinalEncoder\n",
    "from sklearn.preprocessing import StandardScaler\n",
    "from sklearn.pipeline import Pipeline\n",
    "from sklearn.model_selection import GridSearchCV\n",
    "\n",
    "from sklearn.metrics import mean_squared_error\n",
    "\n",
    "import warnings\n",
    "warnings.filterwarnings(\"ignore\")\n",
    "\n",
    "pd.set_option('display.max_columns', None)"
   ]
  },
  {
   "cell_type": "code",
   "execution_count": 2,
   "metadata": {},
   "outputs": [
    {
     "name": "stdout",
     "output_type": "stream",
     "text": [
      "data import from jupyterhub\n"
     ]
    }
   ],
   "source": [
    "# подгружаем данные\n",
    "pth0_1 = '/datasets/autos.csv'\n",
    "pth0_2 = 'C:/Users/bezpa/Downloads/autos.csv'\n",
    "\n",
    "if os.path.exists(pth0_1):\n",
    "    data = pd.read_csv(pth0_1)\n",
    "    print('data import from jupyterhub')\n",
    "elif os.path.exists(pth0_2):\n",
    "    data = pd.read_csv(pth0_2)\n",
    "    print('data import from local storage')\n",
    "else:\n",
    "    print('Check the PATH to data file please')"
   ]
  },
  {
   "cell_type": "markdown",
   "metadata": {},
   "source": [
    "Вывод первичной информации о данных"
   ]
  },
  {
   "cell_type": "code",
   "execution_count": 3,
   "metadata": {},
   "outputs": [
    {
     "name": "stdout",
     "output_type": "stream",
     "text": [
      "           DateCrawled  Price VehicleType  RegistrationYear Gearbox  Power  \\\n",
      "0  2016-03-24 11:52:17    480         NaN              1993  manual      0   \n",
      "1  2016-03-24 10:58:45  18300       coupe              2011  manual    190   \n",
      "2  2016-03-14 12:52:21   9800         suv              2004    auto    163   \n",
      "3  2016-03-17 16:54:04   1500       small              2001  manual     75   \n",
      "4  2016-03-31 17:25:20   3600       small              2008  manual     69   \n",
      "\n",
      "   Model  Kilometer  RegistrationMonth  FuelType       Brand Repaired  \\\n",
      "0   golf     150000                  0    petrol  volkswagen      NaN   \n",
      "1    NaN     125000                  5  gasoline        audi      yes   \n",
      "2  grand     125000                  8  gasoline        jeep      NaN   \n",
      "3   golf     150000                  6    petrol  volkswagen       no   \n",
      "4  fabia      90000                  7  gasoline       skoda       no   \n",
      "\n",
      "           DateCreated  NumberOfPictures  PostalCode             LastSeen  \n",
      "0  2016-03-24 00:00:00                 0       70435  2016-04-07 03:16:57  \n",
      "1  2016-03-24 00:00:00                 0       66954  2016-04-07 01:46:50  \n",
      "2  2016-03-14 00:00:00                 0       90480  2016-04-05 12:47:46  \n",
      "3  2016-03-17 00:00:00                 0       91074  2016-03-17 17:40:17  \n",
      "4  2016-03-31 00:00:00                 0       60437  2016-04-06 10:17:21  \n",
      "<class 'pandas.core.frame.DataFrame'>\n",
      "RangeIndex: 354369 entries, 0 to 354368\n",
      "Data columns (total 16 columns):\n",
      " #   Column             Non-Null Count   Dtype \n",
      "---  ------             --------------   ----- \n",
      " 0   DateCrawled        354369 non-null  object\n",
      " 1   Price              354369 non-null  int64 \n",
      " 2   VehicleType        316879 non-null  object\n",
      " 3   RegistrationYear   354369 non-null  int64 \n",
      " 4   Gearbox            334536 non-null  object\n",
      " 5   Power              354369 non-null  int64 \n",
      " 6   Model              334664 non-null  object\n",
      " 7   Kilometer          354369 non-null  int64 \n",
      " 8   RegistrationMonth  354369 non-null  int64 \n",
      " 9   FuelType           321474 non-null  object\n",
      " 10  Brand              354369 non-null  object\n",
      " 11  Repaired           283215 non-null  object\n",
      " 12  DateCreated        354369 non-null  object\n",
      " 13  NumberOfPictures   354369 non-null  int64 \n",
      " 14  PostalCode         354369 non-null  int64 \n",
      " 15  LastSeen           354369 non-null  object\n",
      "dtypes: int64(7), object(9)\n",
      "memory usage: 43.3+ MB\n",
      "None\n",
      "               Price  RegistrationYear          Power      Kilometer  \\\n",
      "count  354369.000000     354369.000000  354369.000000  354369.000000   \n",
      "mean     4416.656776       2004.234448     110.094337  128211.172535   \n",
      "std      4514.158514         90.227958     189.850405   37905.341530   \n",
      "min         0.000000       1000.000000       0.000000    5000.000000   \n",
      "25%      1050.000000       1999.000000      69.000000  125000.000000   \n",
      "50%      2700.000000       2003.000000     105.000000  150000.000000   \n",
      "75%      6400.000000       2008.000000     143.000000  150000.000000   \n",
      "max     20000.000000       9999.000000   20000.000000  150000.000000   \n",
      "\n",
      "       RegistrationMonth  NumberOfPictures     PostalCode  \n",
      "count      354369.000000          354369.0  354369.000000  \n",
      "mean            5.714645               0.0   50508.689087  \n",
      "std             3.726421               0.0   25783.096248  \n",
      "min             0.000000               0.0    1067.000000  \n",
      "25%             3.000000               0.0   30165.000000  \n",
      "50%             6.000000               0.0   49413.000000  \n",
      "75%             9.000000               0.0   71083.000000  \n",
      "max            12.000000               0.0   99998.000000  \n"
     ]
    }
   ],
   "source": [
    "print(data.head())\n",
    "print(data.info())\n",
    "print(data.describe())"
   ]
  },
  {
   "cell_type": "markdown",
   "metadata": {},
   "source": [
    "Посчитаем фактическое кол-во пропусков, а затем количество пропусков по столбцам в процентах по отношению ко всем значениям столбца.  \n",
    "Для наглядности зальём тепловым градиентом."
   ]
  },
  {
   "cell_type": "code",
   "execution_count": 4,
   "metadata": {},
   "outputs": [
    {
     "data": {
      "text/plain": [
       "DateCrawled              0\n",
       "Price                    0\n",
       "VehicleType          37490\n",
       "RegistrationYear         0\n",
       "Gearbox              19833\n",
       "Power                    0\n",
       "Model                19705\n",
       "Kilometer                0\n",
       "RegistrationMonth        0\n",
       "FuelType             32895\n",
       "Brand                    0\n",
       "Repaired             71154\n",
       "DateCreated              0\n",
       "NumberOfPictures         0\n",
       "PostalCode               0\n",
       "LastSeen                 0\n",
       "dtype: int64"
      ]
     },
     "metadata": {},
     "output_type": "display_data"
    },
    {
     "data": {
      "text/html": [
       "<style  type=\"text/css\" >\n",
       "#T_28659_row0_col0,#T_28659_row1_col0,#T_28659_row3_col0,#T_28659_row5_col0,#T_28659_row7_col0,#T_28659_row8_col0,#T_28659_row10_col0,#T_28659_row12_col0,#T_28659_row13_col0,#T_28659_row14_col0,#T_28659_row15_col0{\n",
       "            background-color:  #3b4cc0;\n",
       "            color:  #f1f1f1;\n",
       "        }#T_28659_row2_col0{\n",
       "            background-color:  #e9d5cb;\n",
       "            color:  #000000;\n",
       "        }#T_28659_row4_col0,#T_28659_row6_col0{\n",
       "            background-color:  #9ebeff;\n",
       "            color:  #000000;\n",
       "        }#T_28659_row9_col0{\n",
       "            background-color:  #cfdaea;\n",
       "            color:  #000000;\n",
       "        }#T_28659_row11_col0{\n",
       "            background-color:  #b40426;\n",
       "            color:  #f1f1f1;\n",
       "        }</style><table id=\"T_28659_\" ><thead>    <tr>        <th class=\"blank level0\" ></th>        <th class=\"col_heading level0 col0\" >0</th>    </tr></thead><tbody>\n",
       "                <tr>\n",
       "                        <th id=\"T_28659_level0_row0\" class=\"row_heading level0 row0\" >DateCrawled</th>\n",
       "                        <td id=\"T_28659_row0_col0\" class=\"data row0 col0\" >0.000000</td>\n",
       "            </tr>\n",
       "            <tr>\n",
       "                        <th id=\"T_28659_level0_row1\" class=\"row_heading level0 row1\" >Price</th>\n",
       "                        <td id=\"T_28659_row1_col0\" class=\"data row1 col0\" >0.000000</td>\n",
       "            </tr>\n",
       "            <tr>\n",
       "                        <th id=\"T_28659_level0_row2\" class=\"row_heading level0 row2\" >VehicleType</th>\n",
       "                        <td id=\"T_28659_row2_col0\" class=\"data row2 col0\" >11.000000</td>\n",
       "            </tr>\n",
       "            <tr>\n",
       "                        <th id=\"T_28659_level0_row3\" class=\"row_heading level0 row3\" >RegistrationYear</th>\n",
       "                        <td id=\"T_28659_row3_col0\" class=\"data row3 col0\" >0.000000</td>\n",
       "            </tr>\n",
       "            <tr>\n",
       "                        <th id=\"T_28659_level0_row4\" class=\"row_heading level0 row4\" >Gearbox</th>\n",
       "                        <td id=\"T_28659_row4_col0\" class=\"data row4 col0\" >6.000000</td>\n",
       "            </tr>\n",
       "            <tr>\n",
       "                        <th id=\"T_28659_level0_row5\" class=\"row_heading level0 row5\" >Power</th>\n",
       "                        <td id=\"T_28659_row5_col0\" class=\"data row5 col0\" >0.000000</td>\n",
       "            </tr>\n",
       "            <tr>\n",
       "                        <th id=\"T_28659_level0_row6\" class=\"row_heading level0 row6\" >Model</th>\n",
       "                        <td id=\"T_28659_row6_col0\" class=\"data row6 col0\" >6.000000</td>\n",
       "            </tr>\n",
       "            <tr>\n",
       "                        <th id=\"T_28659_level0_row7\" class=\"row_heading level0 row7\" >Kilometer</th>\n",
       "                        <td id=\"T_28659_row7_col0\" class=\"data row7 col0\" >0.000000</td>\n",
       "            </tr>\n",
       "            <tr>\n",
       "                        <th id=\"T_28659_level0_row8\" class=\"row_heading level0 row8\" >RegistrationMonth</th>\n",
       "                        <td id=\"T_28659_row8_col0\" class=\"data row8 col0\" >0.000000</td>\n",
       "            </tr>\n",
       "            <tr>\n",
       "                        <th id=\"T_28659_level0_row9\" class=\"row_heading level0 row9\" >FuelType</th>\n",
       "                        <td id=\"T_28659_row9_col0\" class=\"data row9 col0\" >9.000000</td>\n",
       "            </tr>\n",
       "            <tr>\n",
       "                        <th id=\"T_28659_level0_row10\" class=\"row_heading level0 row10\" >Brand</th>\n",
       "                        <td id=\"T_28659_row10_col0\" class=\"data row10 col0\" >0.000000</td>\n",
       "            </tr>\n",
       "            <tr>\n",
       "                        <th id=\"T_28659_level0_row11\" class=\"row_heading level0 row11\" >Repaired</th>\n",
       "                        <td id=\"T_28659_row11_col0\" class=\"data row11 col0\" >20.000000</td>\n",
       "            </tr>\n",
       "            <tr>\n",
       "                        <th id=\"T_28659_level0_row12\" class=\"row_heading level0 row12\" >DateCreated</th>\n",
       "                        <td id=\"T_28659_row12_col0\" class=\"data row12 col0\" >0.000000</td>\n",
       "            </tr>\n",
       "            <tr>\n",
       "                        <th id=\"T_28659_level0_row13\" class=\"row_heading level0 row13\" >NumberOfPictures</th>\n",
       "                        <td id=\"T_28659_row13_col0\" class=\"data row13 col0\" >0.000000</td>\n",
       "            </tr>\n",
       "            <tr>\n",
       "                        <th id=\"T_28659_level0_row14\" class=\"row_heading level0 row14\" >PostalCode</th>\n",
       "                        <td id=\"T_28659_row14_col0\" class=\"data row14 col0\" >0.000000</td>\n",
       "            </tr>\n",
       "            <tr>\n",
       "                        <th id=\"T_28659_level0_row15\" class=\"row_heading level0 row15\" >LastSeen</th>\n",
       "                        <td id=\"T_28659_row15_col0\" class=\"data row15 col0\" >0.000000</td>\n",
       "            </tr>\n",
       "    </tbody></table>"
      ],
      "text/plain": [
       "<pandas.io.formats.style.Styler at 0x7f428c1c8370>"
      ]
     },
     "metadata": {},
     "output_type": "display_data"
    }
   ],
   "source": [
    "display(data.isna().sum())\n",
    "display(pd.DataFrame(round(data.isna().mean()*100,)).style.background_gradient('coolwarm'))"
   ]
  },
  {
   "cell_type": "markdown",
   "metadata": {},
   "source": [
    "**Выводы**\n",
    "\n",
    "1. Можно перевести все столбцы с датами в datetime64;  \n",
    "2. В столбце Price минимальная цена 0;\n",
    "3. В столбце RegistrationYear есть некорректные значения года регистрации, об этом говорят максимальные и минимальные значения;\n",
    "4. В столбце Power есть некорректные значения мощности двигателя, об этом говорит минимальное значение;\n",
    "5. В столбце с пробегом (Kilometer) начиная со второго квантиля (50%) значения упираются в 150000 км, скорее всего это какое-то искусственное ограничение, однако в реальной жизни параметр пробега оказывает существенное влияние на стоимость авто;\n",
    "6. В столбце RegistrationMonth встречаются нулевые значения, что противоречит логике."
   ]
  },
  {
   "cell_type": "markdown",
   "metadata": {},
   "source": [
    "### Предобработка данных"
   ]
  },
  {
   "cell_type": "markdown",
   "metadata": {},
   "source": [
    "#### Пространство признаков"
   ]
  },
  {
   "cell_type": "markdown",
   "metadata": {},
   "source": [
    "Можно определиться с пространством признаков для будущей модели, то есть определить наиболее значимые признаки.  \n",
    "Далее пройдемся по признакам, значимых для нашей модели:\n",
    "  * *VehicleType*  \n",
    "  Тип кузова определяет ее возможности. Чем их больше, тем выше цена. Но одна и та же модель может выпускаться с разныими типами кузовов.    \n",
    "  * *RegistrationYear*  \n",
    "  Год регистрации определяет возраст машины. Соответвенно, чем больше возраст, тем меньше цена. За редким исключением винтажной классики.\n",
    "  * *Gearbox*  \n",
    "  Наличие автоматической коробки передач повышает стоимость машины из-за сложности конструкции и удобства эксплуатации.\n",
    "  * *Power*  \n",
    "  Мощность в лошадиных силах напрямую влияют на цену, увеличивая её.\n",
    "  * *Model*  \n",
    "  В совокупности с типом машины и брендом може влиять на популярность у покупателей.\n",
    "  * *Kilometer*  \n",
    "  Чем больше пробег, тем меньше ее надежность и соответсвенно цена, также этот признак часто связан с возрастом авто.\n",
    "  * *FuelType*  \n",
    "  Тип топлива определяет конструкцию двигателя внутреннего сгорания, а также будущие расходы на топливо.\n",
    "  * *Brand*  \n",
    "  Концерн/компания, которая создала автомобиль показывает качество и надежность автомобиля.\n",
    "  * *Repaired*  \n",
    "  Если машина побывала в ДТП, то ее констукция уже видоизменена, следовательно, надежность и качество ниже, как и цена."
   ]
  },
  {
   "cell_type": "markdown",
   "metadata": {},
   "source": [
    "Определившись с признаковым пространством, создадим новый датафрейм, включающий указанные признаки и целевой признак."
   ]
  },
  {
   "cell_type": "code",
   "execution_count": 5,
   "metadata": {},
   "outputs": [],
   "source": [
    "df = data[['VehicleType', 'RegistrationYear', 'Gearbox', 'Power', 'Model', 'Kilometer', 'FuelType', 'Brand', 'Repaired', 'Price']]"
   ]
  },
  {
   "cell_type": "code",
   "execution_count": 6,
   "metadata": {},
   "outputs": [
    {
     "name": "stdout",
     "output_type": "stream",
     "text": [
      "<class 'pandas.core.frame.DataFrame'>\n",
      "RangeIndex: 354369 entries, 0 to 354368\n",
      "Data columns (total 10 columns):\n",
      " #   Column            Non-Null Count   Dtype \n",
      "---  ------            --------------   ----- \n",
      " 0   VehicleType       316879 non-null  object\n",
      " 1   RegistrationYear  354369 non-null  int64 \n",
      " 2   Gearbox           334536 non-null  object\n",
      " 3   Power             354369 non-null  int64 \n",
      " 4   Model             334664 non-null  object\n",
      " 5   Kilometer         354369 non-null  int64 \n",
      " 6   FuelType          321474 non-null  object\n",
      " 7   Brand             354369 non-null  object\n",
      " 8   Repaired          283215 non-null  object\n",
      " 9   Price             354369 non-null  int64 \n",
      "dtypes: int64(4), object(6)\n",
      "memory usage: 27.0+ MB\n"
     ]
    },
    {
     "data": {
      "text/plain": [
       "None"
      ]
     },
     "metadata": {},
     "output_type": "display_data"
    }
   ],
   "source": [
    "display(df.info())"
   ]
  },
  {
   "cell_type": "markdown",
   "metadata": {},
   "source": [
    "#### Оценка пропусков и дубликатов данных"
   ]
  },
  {
   "cell_type": "code",
   "execution_count": 7,
   "metadata": {},
   "outputs": [
    {
     "data": {
      "text/html": [
       "<style  type=\"text/css\" >\n",
       "#T_1c304_row0_col0{\n",
       "            background-color:  #e9d5cb;\n",
       "            color:  #000000;\n",
       "        }#T_1c304_row1_col0,#T_1c304_row3_col0,#T_1c304_row5_col0,#T_1c304_row7_col0,#T_1c304_row9_col0{\n",
       "            background-color:  #3b4cc0;\n",
       "            color:  #f1f1f1;\n",
       "        }#T_1c304_row2_col0,#T_1c304_row4_col0{\n",
       "            background-color:  #9ebeff;\n",
       "            color:  #000000;\n",
       "        }#T_1c304_row6_col0{\n",
       "            background-color:  #cfdaea;\n",
       "            color:  #000000;\n",
       "        }#T_1c304_row8_col0{\n",
       "            background-color:  #b40426;\n",
       "            color:  #f1f1f1;\n",
       "        }</style><table id=\"T_1c304_\" ><thead>    <tr>        <th class=\"blank level0\" ></th>        <th class=\"col_heading level0 col0\" >0</th>    </tr></thead><tbody>\n",
       "                <tr>\n",
       "                        <th id=\"T_1c304_level0_row0\" class=\"row_heading level0 row0\" >VehicleType</th>\n",
       "                        <td id=\"T_1c304_row0_col0\" class=\"data row0 col0\" >11.000000</td>\n",
       "            </tr>\n",
       "            <tr>\n",
       "                        <th id=\"T_1c304_level0_row1\" class=\"row_heading level0 row1\" >RegistrationYear</th>\n",
       "                        <td id=\"T_1c304_row1_col0\" class=\"data row1 col0\" >0.000000</td>\n",
       "            </tr>\n",
       "            <tr>\n",
       "                        <th id=\"T_1c304_level0_row2\" class=\"row_heading level0 row2\" >Gearbox</th>\n",
       "                        <td id=\"T_1c304_row2_col0\" class=\"data row2 col0\" >6.000000</td>\n",
       "            </tr>\n",
       "            <tr>\n",
       "                        <th id=\"T_1c304_level0_row3\" class=\"row_heading level0 row3\" >Power</th>\n",
       "                        <td id=\"T_1c304_row3_col0\" class=\"data row3 col0\" >0.000000</td>\n",
       "            </tr>\n",
       "            <tr>\n",
       "                        <th id=\"T_1c304_level0_row4\" class=\"row_heading level0 row4\" >Model</th>\n",
       "                        <td id=\"T_1c304_row4_col0\" class=\"data row4 col0\" >6.000000</td>\n",
       "            </tr>\n",
       "            <tr>\n",
       "                        <th id=\"T_1c304_level0_row5\" class=\"row_heading level0 row5\" >Kilometer</th>\n",
       "                        <td id=\"T_1c304_row5_col0\" class=\"data row5 col0\" >0.000000</td>\n",
       "            </tr>\n",
       "            <tr>\n",
       "                        <th id=\"T_1c304_level0_row6\" class=\"row_heading level0 row6\" >FuelType</th>\n",
       "                        <td id=\"T_1c304_row6_col0\" class=\"data row6 col0\" >9.000000</td>\n",
       "            </tr>\n",
       "            <tr>\n",
       "                        <th id=\"T_1c304_level0_row7\" class=\"row_heading level0 row7\" >Brand</th>\n",
       "                        <td id=\"T_1c304_row7_col0\" class=\"data row7 col0\" >0.000000</td>\n",
       "            </tr>\n",
       "            <tr>\n",
       "                        <th id=\"T_1c304_level0_row8\" class=\"row_heading level0 row8\" >Repaired</th>\n",
       "                        <td id=\"T_1c304_row8_col0\" class=\"data row8 col0\" >20.000000</td>\n",
       "            </tr>\n",
       "            <tr>\n",
       "                        <th id=\"T_1c304_level0_row9\" class=\"row_heading level0 row9\" >Price</th>\n",
       "                        <td id=\"T_1c304_row9_col0\" class=\"data row9 col0\" >0.000000</td>\n",
       "            </tr>\n",
       "    </tbody></table>"
      ],
      "text/plain": [
       "<pandas.io.formats.style.Styler at 0x7f4290240070>"
      ]
     },
     "metadata": {},
     "output_type": "display_data"
    },
    {
     "name": "stdout",
     "output_type": "stream",
     "text": [
      "Количество дубликатов: 45040\n",
      "Это составляет процентов от всех записей: 12.709915370701161\n"
     ]
    }
   ],
   "source": [
    "display(pd.DataFrame(round(df.isna().mean()*100,)).style.background_gradient('coolwarm'))\n",
    "print('Количество дубликатов:', df.duplicated().sum())\n",
    "print('Это составляет процентов от всех записей:', df.duplicated().sum() / len(df) * 100)"
   ]
  },
  {
   "cell_type": "markdown",
   "metadata": {},
   "source": [
    "Не смотря на значительное количество, явные дубликаты необходимо удалить."
   ]
  },
  {
   "cell_type": "code",
   "execution_count": 8,
   "metadata": {},
   "outputs": [
    {
     "name": "stdout",
     "output_type": "stream",
     "text": [
      "Количество дубликатов: 0\n"
     ]
    }
   ],
   "source": [
    "df = df.drop_duplicates()\n",
    "print('Количество дубликатов:', df.duplicated().sum())"
   ]
  },
  {
   "cell_type": "markdown",
   "metadata": {},
   "source": [
    "В целом, типы данных в столбцах релевантные, но имеются пропуски значений.  \n",
    "Необходимо продумать стратегии устранения пропусков для каждого отдельного признака.  \n",
    "Вероятно, заполнение пропусков лучше начать с **целевого признака**."
   ]
  },
  {
   "cell_type": "markdown",
   "metadata": {},
   "source": [
    "#### Обработка целевого признака, столбец `Price`"
   ]
  },
  {
   "cell_type": "code",
   "execution_count": 9,
   "metadata": {},
   "outputs": [
    {
     "data": {
      "image/png": "[encoded data removed]",
      "text/plain": [
       "<Figure size 432x288 with 1 Axes>"
      ]
     },
     "metadata": {
      "needs_background": "light"
     },
     "output_type": "display_data"
    }
   ],
   "source": [
    "# визуально оценим распределение значений, построим гистограмму\n",
    "plt.hist(df['Price'], bins=100, range=(0,20000))\n",
    "plt.title('Цена/количество объектов')\n",
    "plt.xlabel('Стоимость')\n",
    "plt.ylabel('Количество лотов')\n",
    "plt.show()"
   ]
  },
  {
   "cell_type": "markdown",
   "metadata": {},
   "source": [
    "Очевидно, что стоимость машин около 0 соотвествует лотам, обладающим сильными дефектами, либо относящимся к рекламным объявлениям.  \n",
    "Такие объявления можно удалить."
   ]
  },
  {
   "cell_type": "code",
   "execution_count": 10,
   "metadata": {
    "scrolled": true
   },
   "outputs": [
    {
     "name": "stdout",
     "output_type": "stream",
     "text": [
      "Лотов дешевле 10 евро: 10041\n",
      "В процентах по отношению к общему количеству строк: 0.03246058403835399\n",
      "Лотов дешевле 100 евро: 11281\n",
      "В процентах по отношению к общему количеству строк: 0.03646926088404256\n"
     ]
    }
   ],
   "source": [
    "# оценим количество\n",
    "print('Лотов дешевле 10 евро:', df.loc[data['Price'] < 10]['Price'].count())\n",
    "print('В процентах по отношению к общему количеству строк:', df.loc[data['Price'] < 10]['Price'].count() / len(df))\n",
    "print('Лотов дешевле 100 евро:', df.loc[data['Price'] < 100]['Price'].count())\n",
    "print('В процентах по отношению к общему количеству строк:', df.loc[data['Price'] < 100]['Price'].count() / len(df))"
   ]
  },
  {
   "cell_type": "markdown",
   "metadata": {},
   "source": [
    "Сложно представить хоть немного адекватный автомобиль дешевле 100 евро.  \n",
    "Удалим все объявления с ценой менее 100 евро."
   ]
  },
  {
   "cell_type": "code",
   "execution_count": 11,
   "metadata": {},
   "outputs": [
    {
     "data": {
      "text/plain": [
       "0"
      ]
     },
     "execution_count": 11,
     "metadata": {},
     "output_type": "execute_result"
    }
   ],
   "source": [
    "df = df.query('Price >= 100')\n",
    "df.loc[df['Price'] < 10]['Price'].count()"
   ]
  },
  {
   "cell_type": "markdown",
   "metadata": {},
   "source": [
    "Проверим, не изменилось ли распределение целевого признака после удаления объявлений с некорректной ценой."
   ]
  },
  {
   "cell_type": "code",
   "execution_count": 12,
   "metadata": {},
   "outputs": [
    {
     "data": {
      "image/png": "[encoded data removed]",
      "text/plain": [
       "<Figure size 432x288 with 1 Axes>"
      ]
     },
     "metadata": {
      "needs_background": "light"
     },
     "output_type": "display_data"
    }
   ],
   "source": [
    "plt.hist(df['Price'], bins=100, range=(0,20000))\n",
    "plt.title('Цена/количество объектов')\n",
    "plt.xlabel('Стоимость')\n",
    "plt.ylabel('Количество лотов')\n",
    "plt.show()"
   ]
  },
  {
   "cell_type": "markdown",
   "metadata": {},
   "source": [
    "#### Обрабатываем столбец `RegistrationYear`"
   ]
  },
  {
   "cell_type": "markdown",
   "metadata": {},
   "source": [
    "Далее обработаем данные в столбце **RegistrationYear**.   \n",
    "Не смотря на отсутствие пропусков, в столбце имеются некорректные значения."
   ]
  },
  {
   "cell_type": "code",
   "execution_count": 13,
   "metadata": {},
   "outputs": [
    {
     "data": {
      "image/png": "[encoded data removed]",
      "text/plain": [
       "<Figure size 864x504 with 1 Axes>"
      ]
     },
     "metadata": {
      "needs_background": "light"
     },
     "output_type": "display_data"
    }
   ],
   "source": [
    "# оценим визуально\n",
    "df.boxplot(['RegistrationYear'], figsize=(12,7))\n",
    "plt.title('График распределения уникальных значений года регистрации автомобилей')\n",
    "\n",
    "plt.ylabel('Года')\n",
    "plt.show()"
   ]
  },
  {
   "cell_type": "code",
   "execution_count": 14,
   "metadata": {},
   "outputs": [
    {
     "data": {
      "image/png": "[encoded data removed]",
      "text/plain": [
       "<Figure size 432x288 with 1 Axes>"
      ]
     },
     "metadata": {
      "needs_background": "light"
     },
     "output_type": "display_data"
    }
   ],
   "source": [
    "plt.hist(df['RegistrationYear'], bins=100, range=(1950,2023))\n",
    "plt.title('Распределение кол-ва объектов относительно года регистрации')\n",
    "plt.xlabel('Года')\n",
    "plt.ylabel('Количество лотов')\n",
    "plt.show()"
   ]
  },
  {
   "cell_type": "code",
   "execution_count": 15,
   "metadata": {},
   "outputs": [
    {
     "data": {
      "text/plain": [
       "'2016-04-07 14:36:58'"
      ]
     },
     "execution_count": 15,
     "metadata": {},
     "output_type": "execute_result"
    }
   ],
   "source": [
    "# проверим дату последнего скачивания анкеты\n",
    "data['DateCrawled'].max()"
   ]
  },
  {
   "cell_type": "code",
   "execution_count": 16,
   "metadata": {},
   "outputs": [
    {
     "data": {
      "text/plain": [
       "array([1000, 1001, 1039, 1111, 1234, 1255, 1300, 1400, 1500, 1600, 1602,\n",
       "       1800, 1910, 1923, 1925, 1927, 1928, 1929, 1930, 1931, 1932, 1933,\n",
       "       1934, 1935, 1936, 1937, 1938, 1940, 1941, 1942, 1943, 1944, 1945,\n",
       "       1946, 1947, 1948, 1949, 1950, 1951, 1952, 1953, 1954, 1955, 1956,\n",
       "       1957, 1958, 1959, 1960, 1961, 1962, 1963, 1964, 1965, 1966, 1967,\n",
       "       1968, 1969, 1970, 1971, 1972, 1973, 1974, 1975, 1976, 1977, 1978,\n",
       "       1979, 1980, 1981, 1982, 1983, 1984, 1985, 1986, 1987, 1988, 1989,\n",
       "       1990, 1991, 1992, 1993, 1994, 1995, 1996, 1997, 1998, 1999, 2000,\n",
       "       2001, 2002, 2003, 2004, 2005, 2006, 2007, 2008, 2009, 2010, 2011,\n",
       "       2012, 2013, 2014, 2015, 2016, 2017, 2018, 2019, 2066, 2200, 2222,\n",
       "       2290, 2500, 2800, 2900, 3000, 3200, 3700, 3800, 4000, 4100, 4500,\n",
       "       4800, 5000, 5300, 5555, 5600, 5900, 5911, 6000, 7000, 7100, 7800,\n",
       "       8200, 8500, 8888, 9000, 9450, 9999])"
      ]
     },
     "execution_count": 16,
     "metadata": {},
     "output_type": "execute_result"
    }
   ],
   "source": [
    "df.RegistrationYear.sort_values().unique()"
   ]
  },
  {
   "cell_type": "code",
   "execution_count": 17,
   "metadata": {},
   "outputs": [
    {
     "data": {
      "text/plain": [
       "1955    13\n",
       "1957    13\n",
       "5000    12\n",
       "1951    10\n",
       "1937    10\n",
       "        ..\n",
       "1949     1\n",
       "2222     1\n",
       "5300     1\n",
       "8888     1\n",
       "2290     1\n",
       "Name: RegistrationYear, Length: 70, dtype: int64"
      ]
     },
     "execution_count": 17,
     "metadata": {},
     "output_type": "execute_result"
    }
   ],
   "source": [
    "df.RegistrationYear.value_counts().tail(70)"
   ]
  },
  {
   "cell_type": "markdown",
   "metadata": {},
   "source": [
    "Как видно и графиков и цифр выше, можно исключить все значения до 1950 года и после 2016."
   ]
  },
  {
   "cell_type": "code",
   "execution_count": 18,
   "metadata": {},
   "outputs": [
    {
     "data": {
      "image/png": "[encoded data removed]",
      "text/plain": [
       "<Figure size 864x504 with 1 Axes>"
      ]
     },
     "metadata": {
      "needs_background": "light"
     },
     "output_type": "display_data"
    }
   ],
   "source": [
    "df = df.query('1950 < RegistrationYear < 2016')\n",
    "df.boxplot(['RegistrationYear'], figsize=(12,7))\n",
    "plt.title('График распределения уникальных значений года регистрации автомобилей')\n",
    "\n",
    "plt.ylabel('Года')\n",
    "plt.show()"
   ]
  },
  {
   "cell_type": "markdown",
   "metadata": {},
   "source": [
    "#### Обрабатываем пропуски в столбцах `Gearbox`, `Rapaired`, `Model`."
   ]
  },
  {
   "cell_type": "markdown",
   "metadata": {},
   "source": [
    "Есть три близкосвязанных параметра: `Brand`, `Model` & `VehicleType`. Но ни один из них, ни сочетания двух не определяют однозначно друг друга или третьего. Поэтому у нас не получится заполнить пропуски значений по этим столбцам на основании имеющихся данных."
   ]
  },
  {
   "cell_type": "code",
   "execution_count": 19,
   "metadata": {},
   "outputs": [
    {
     "data": {
      "text/plain": [
       "array(['auto', 'manual', nan], dtype=object)"
      ]
     },
     "metadata": {},
     "output_type": "display_data"
    },
    {
     "name": "stdout",
     "output_type": "stream",
     "text": [
      "manual    209809\n",
      "auto       55234\n",
      "Name: Gearbox, dtype: int64\n"
     ]
    }
   ],
   "source": [
    "display(df['Gearbox'].sort_values().unique())\n",
    "print(df['Gearbox'].value_counts())"
   ]
  },
  {
   "cell_type": "code",
   "execution_count": 20,
   "metadata": {},
   "outputs": [
    {
     "data": {
      "text/plain": [
       "array(['no', 'yes', nan], dtype=object)"
      ]
     },
     "metadata": {},
     "output_type": "display_data"
    },
    {
     "name": "stdout",
     "output_type": "stream",
     "text": [
      "no     198241\n",
      "yes     28945\n",
      "Name: Repaired, dtype: int64\n"
     ]
    }
   ],
   "source": [
    "display(df['Repaired'].sort_values().unique())\n",
    "print(df['Repaired'].value_counts())"
   ]
  },
  {
   "cell_type": "code",
   "execution_count": 21,
   "metadata": {},
   "outputs": [
    {
     "name": "stdout",
     "output_type": "stream",
     "text": [
      "other                 21149\n",
      "golf                  20564\n",
      "3er                   15386\n",
      "polo                   9089\n",
      "corsa                  8363\n",
      "                      ...  \n",
      "kalina                    5\n",
      "serie_3                   3\n",
      "rangerover                3\n",
      "serie_1                   1\n",
      "range_rover_evoque        1\n",
      "Name: Model, Length: 250, dtype: int64\n"
     ]
    }
   ],
   "source": [
    "print(df['Model'].value_counts())"
   ]
  },
  {
   "cell_type": "code",
   "execution_count": 22,
   "metadata": {
    "scrolled": true
   },
   "outputs": [
    {
     "data": {
      "text/html": [
       "<div>\n",
       "<style scoped>\n",
       "    .dataframe tbody tr th:only-of-type {\n",
       "        vertical-align: middle;\n",
       "    }\n",
       "\n",
       "    .dataframe tbody tr th {\n",
       "        vertical-align: top;\n",
       "    }\n",
       "\n",
       "    .dataframe thead th {\n",
       "        text-align: right;\n",
       "    }\n",
       "</style>\n",
       "<table border=\"1\" class=\"dataframe\">\n",
       "  <thead>\n",
       "    <tr style=\"text-align: right;\">\n",
       "      <th></th>\n",
       "      <th>VehicleType</th>\n",
       "      <th>RegistrationYear</th>\n",
       "      <th>Gearbox</th>\n",
       "      <th>Power</th>\n",
       "      <th>Model</th>\n",
       "      <th>Kilometer</th>\n",
       "      <th>FuelType</th>\n",
       "      <th>Brand</th>\n",
       "      <th>Repaired</th>\n",
       "      <th>Price</th>\n",
       "    </tr>\n",
       "  </thead>\n",
       "  <tbody>\n",
       "    <tr>\n",
       "      <th>24</th>\n",
       "      <td>sedan</td>\n",
       "      <td>1990</td>\n",
       "      <td>manual</td>\n",
       "      <td>118</td>\n",
       "      <td>other</td>\n",
       "      <td>150000</td>\n",
       "      <td>petrol</td>\n",
       "      <td>mercedes_benz</td>\n",
       "      <td>yes</td>\n",
       "      <td>500</td>\n",
       "    </tr>\n",
       "    <tr>\n",
       "      <th>38</th>\n",
       "      <td>other</td>\n",
       "      <td>2002</td>\n",
       "      <td>manual</td>\n",
       "      <td>129</td>\n",
       "      <td>other</td>\n",
       "      <td>150000</td>\n",
       "      <td>gasoline</td>\n",
       "      <td>volkswagen</td>\n",
       "      <td>no</td>\n",
       "      <td>11900</td>\n",
       "    </tr>\n",
       "    <tr>\n",
       "      <th>39</th>\n",
       "      <td>bus</td>\n",
       "      <td>1984</td>\n",
       "      <td>manual</td>\n",
       "      <td>70</td>\n",
       "      <td>other</td>\n",
       "      <td>150000</td>\n",
       "      <td>gasoline</td>\n",
       "      <td>mercedes_benz</td>\n",
       "      <td>no</td>\n",
       "      <td>1500</td>\n",
       "    </tr>\n",
       "    <tr>\n",
       "      <th>67</th>\n",
       "      <td>suv</td>\n",
       "      <td>2000</td>\n",
       "      <td>manual</td>\n",
       "      <td>105</td>\n",
       "      <td>other</td>\n",
       "      <td>150000</td>\n",
       "      <td>petrol</td>\n",
       "      <td>honda</td>\n",
       "      <td>no</td>\n",
       "      <td>2100</td>\n",
       "    </tr>\n",
       "    <tr>\n",
       "      <th>68</th>\n",
       "      <td>sedan</td>\n",
       "      <td>1992</td>\n",
       "      <td>auto</td>\n",
       "      <td>109</td>\n",
       "      <td>other</td>\n",
       "      <td>150000</td>\n",
       "      <td>petrol</td>\n",
       "      <td>mercedes_benz</td>\n",
       "      <td>NaN</td>\n",
       "      <td>1280</td>\n",
       "    </tr>\n",
       "    <tr>\n",
       "      <th>86</th>\n",
       "      <td>bus</td>\n",
       "      <td>2001</td>\n",
       "      <td>manual</td>\n",
       "      <td>87</td>\n",
       "      <td>other</td>\n",
       "      <td>150000</td>\n",
       "      <td>gasoline</td>\n",
       "      <td>mitsubishi</td>\n",
       "      <td>no</td>\n",
       "      <td>1800</td>\n",
       "    </tr>\n",
       "    <tr>\n",
       "      <th>91</th>\n",
       "      <td>sedan</td>\n",
       "      <td>1984</td>\n",
       "      <td>auto</td>\n",
       "      <td>180</td>\n",
       "      <td>other</td>\n",
       "      <td>150000</td>\n",
       "      <td>petrol</td>\n",
       "      <td>opel</td>\n",
       "      <td>NaN</td>\n",
       "      <td>1222</td>\n",
       "    </tr>\n",
       "    <tr>\n",
       "      <th>114</th>\n",
       "      <td>coupe</td>\n",
       "      <td>1991</td>\n",
       "      <td>manual</td>\n",
       "      <td>160</td>\n",
       "      <td>other</td>\n",
       "      <td>150000</td>\n",
       "      <td>petrol</td>\n",
       "      <td>volkswagen</td>\n",
       "      <td>no</td>\n",
       "      <td>3500</td>\n",
       "    </tr>\n",
       "    <tr>\n",
       "      <th>162</th>\n",
       "      <td>small</td>\n",
       "      <td>1994</td>\n",
       "      <td>manual</td>\n",
       "      <td>0</td>\n",
       "      <td>other</td>\n",
       "      <td>150000</td>\n",
       "      <td>petrol</td>\n",
       "      <td>mitsubishi</td>\n",
       "      <td>NaN</td>\n",
       "      <td>300</td>\n",
       "    </tr>\n",
       "    <tr>\n",
       "      <th>177</th>\n",
       "      <td>bus</td>\n",
       "      <td>1997</td>\n",
       "      <td>manual</td>\n",
       "      <td>0</td>\n",
       "      <td>other</td>\n",
       "      <td>150000</td>\n",
       "      <td>petrol</td>\n",
       "      <td>opel</td>\n",
       "      <td>NaN</td>\n",
       "      <td>300</td>\n",
       "    </tr>\n",
       "  </tbody>\n",
       "</table>\n",
       "</div>"
      ],
      "text/plain": [
       "    VehicleType  RegistrationYear Gearbox  Power  Model  Kilometer  FuelType  \\\n",
       "24        sedan              1990  manual    118  other     150000    petrol   \n",
       "38        other              2002  manual    129  other     150000  gasoline   \n",
       "39          bus              1984  manual     70  other     150000  gasoline   \n",
       "67          suv              2000  manual    105  other     150000    petrol   \n",
       "68        sedan              1992    auto    109  other     150000    petrol   \n",
       "86          bus              2001  manual     87  other     150000  gasoline   \n",
       "91        sedan              1984    auto    180  other     150000    petrol   \n",
       "114       coupe              1991  manual    160  other     150000    petrol   \n",
       "162       small              1994  manual      0  other     150000    petrol   \n",
       "177         bus              1997  manual      0  other     150000    petrol   \n",
       "\n",
       "             Brand Repaired  Price  \n",
       "24   mercedes_benz      yes    500  \n",
       "38      volkswagen       no  11900  \n",
       "39   mercedes_benz       no   1500  \n",
       "67           honda       no   2100  \n",
       "68   mercedes_benz      NaN   1280  \n",
       "86      mitsubishi       no   1800  \n",
       "91            opel      NaN   1222  \n",
       "114     volkswagen       no   3500  \n",
       "162     mitsubishi      NaN    300  \n",
       "177           opel      NaN    300  "
      ]
     },
     "metadata": {},
     "output_type": "display_data"
    }
   ],
   "source": [
    "display(df.query('Model == \"other\"').head(10))"
   ]
  },
  {
   "cell_type": "markdown",
   "metadata": {},
   "source": [
    "В категории \"other\" мешанина из брендов, типов кузовов и других принаков.  \n",
    "Согласно только что полученной информации о количестве значений каждой категории по интересующим нас признакам, можно предложить следующие шаги по заполнению пропущенных значений:"
   ]
  },
  {
   "cell_type": "code",
   "execution_count": 23,
   "metadata": {},
   "outputs": [
    {
     "data": {
      "text/html": [
       "<style  type=\"text/css\" >\n",
       "#T_4da24_row0_col0{\n",
       "            background-color:  #c9d7f0;\n",
       "            color:  #000000;\n",
       "        }#T_4da24_row1_col0,#T_4da24_row2_col0,#T_4da24_row3_col0,#T_4da24_row4_col0,#T_4da24_row5_col0,#T_4da24_row7_col0,#T_4da24_row8_col0,#T_4da24_row9_col0{\n",
       "            background-color:  #3b4cc0;\n",
       "            color:  #f1f1f1;\n",
       "        }#T_4da24_row6_col0{\n",
       "            background-color:  #b40426;\n",
       "            color:  #f1f1f1;\n",
       "        }</style><table id=\"T_4da24_\" ><thead>    <tr>        <th class=\"blank level0\" ></th>        <th class=\"col_heading level0 col0\" >0</th>    </tr></thead><tbody>\n",
       "                <tr>\n",
       "                        <th id=\"T_4da24_level0_row0\" class=\"row_heading level0 row0\" >VehicleType</th>\n",
       "                        <td id=\"T_4da24_row0_col0\" class=\"data row0 col0\" >3.000000</td>\n",
       "            </tr>\n",
       "            <tr>\n",
       "                        <th id=\"T_4da24_level0_row1\" class=\"row_heading level0 row1\" >RegistrationYear</th>\n",
       "                        <td id=\"T_4da24_row1_col0\" class=\"data row1 col0\" >0.000000</td>\n",
       "            </tr>\n",
       "            <tr>\n",
       "                        <th id=\"T_4da24_level0_row2\" class=\"row_heading level0 row2\" >Gearbox</th>\n",
       "                        <td id=\"T_4da24_row2_col0\" class=\"data row2 col0\" >0.000000</td>\n",
       "            </tr>\n",
       "            <tr>\n",
       "                        <th id=\"T_4da24_level0_row3\" class=\"row_heading level0 row3\" >Power</th>\n",
       "                        <td id=\"T_4da24_row3_col0\" class=\"data row3 col0\" >0.000000</td>\n",
       "            </tr>\n",
       "            <tr>\n",
       "                        <th id=\"T_4da24_level0_row4\" class=\"row_heading level0 row4\" >Model</th>\n",
       "                        <td id=\"T_4da24_row4_col0\" class=\"data row4 col0\" >0.000000</td>\n",
       "            </tr>\n",
       "            <tr>\n",
       "                        <th id=\"T_4da24_level0_row5\" class=\"row_heading level0 row5\" >Kilometer</th>\n",
       "                        <td id=\"T_4da24_row5_col0\" class=\"data row5 col0\" >0.000000</td>\n",
       "            </tr>\n",
       "            <tr>\n",
       "                        <th id=\"T_4da24_level0_row6\" class=\"row_heading level0 row6\" >FuelType</th>\n",
       "                        <td id=\"T_4da24_row6_col0\" class=\"data row6 col0\" >7.000000</td>\n",
       "            </tr>\n",
       "            <tr>\n",
       "                        <th id=\"T_4da24_level0_row7\" class=\"row_heading level0 row7\" >Brand</th>\n",
       "                        <td id=\"T_4da24_row7_col0\" class=\"data row7 col0\" >0.000000</td>\n",
       "            </tr>\n",
       "            <tr>\n",
       "                        <th id=\"T_4da24_level0_row8\" class=\"row_heading level0 row8\" >Repaired</th>\n",
       "                        <td id=\"T_4da24_row8_col0\" class=\"data row8 col0\" >0.000000</td>\n",
       "            </tr>\n",
       "            <tr>\n",
       "                        <th id=\"T_4da24_level0_row9\" class=\"row_heading level0 row9\" >Price</th>\n",
       "                        <td id=\"T_4da24_row9_col0\" class=\"data row9 col0\" >0.000000</td>\n",
       "            </tr>\n",
       "    </tbody></table>"
      ],
      "text/plain": [
       "<pandas.io.formats.style.Styler at 0x7f41fc6bdd90>"
      ]
     },
     "metadata": {},
     "output_type": "display_data"
    }
   ],
   "source": [
    "df.fillna({'Gearbox':'manual', \n",
    "           'Repaired':'no', \n",
    "           'Model':'other'}, inplace=True)\n",
    "display(pd.DataFrame(round(df.isna().mean()*100,)).style.background_gradient('coolwarm'))"
   ]
  },
  {
   "cell_type": "markdown",
   "metadata": {},
   "source": [
    "#### Столбцы `VehicleType` & `FuelType`."
   ]
  },
  {
   "cell_type": "markdown",
   "metadata": {},
   "source": [
    "Остались пропуски только в столбцах `VehicleType` и `FuelType`.  \n",
    "\n",
    "Тут можно попробовать создать сводные таблицы и заполнить пропуски на основании закономерностей среди уже известных данных."
   ]
  },
  {
   "cell_type": "code",
   "execution_count": 24,
   "metadata": {},
   "outputs": [
    {
     "data": {
      "text/plain": [
       "sedan          76168\n",
       "small          65366\n",
       "wagon          54846\n",
       "bus            25364\n",
       "convertible    17831\n",
       "coupe          14132\n",
       "suv            10543\n",
       "other           2915\n",
       "Name: VehicleType, dtype: int64"
      ]
     },
     "metadata": {},
     "output_type": "display_data"
    },
    {
     "data": {
      "text/plain": [
       "9553"
      ]
     },
     "metadata": {},
     "output_type": "display_data"
    }
   ],
   "source": [
    "# оценим кол-во пропущенных значений относительно всех значений в столбце VehicleType, \n",
    "# попробуем оценить степень влияния на дальнейшее обучение,\n",
    "# если мы присвоим всем пропущенным значениям какую-то одну категорию\n",
    "\n",
    "display(df['VehicleType'].value_counts())\n",
    "display(df['VehicleType'].isna().sum())"
   ]
  },
  {
   "cell_type": "markdown",
   "metadata": {},
   "source": [
    "30000 пропусков - достаточно значимое кол-во, нельзя просто так их присвоить в какую-то категорию,\n",
    "построим сводную таблицу для того, чтобы наглядно увидеть у каких брендов, какие модели, какой кузов и сколько их."
   ]
  },
  {
   "cell_type": "code",
   "execution_count": 25,
   "metadata": {},
   "outputs": [],
   "source": [
    "#vehicle_type_pt = df.pivot_table(index=['VehicleType'],\n",
    "#                                  columns=['Brand'],\n",
    "#                                  values=['Price'],\n",
    "#                                  aggfunc=['count'])\n",
    "\n",
    "# переименуем столбцы сводной таблицы\n",
    "#vehicle_type_pt = vehicle_type_pt['count']['Price']\n",
    "#display(vehicle_type_pt)"
   ]
  },
  {
   "cell_type": "code",
   "execution_count": 26,
   "metadata": {},
   "outputs": [],
   "source": [
    "# заполним пустые ячейки 0 для удобства\n",
    "#df.fillna({'VehicleType':0},inplace=True)\n",
    "\n",
    "# посмотрим описание сводной таблицы\n",
    "#display(vehicle_type_pt.info())\n",
    "\n",
    "# составим функцию которая будет вместо 0 вставлять тот тип кузова, который \n",
    "# наиболее распрастранен для конкретого бренда авто\n",
    "#def fillna_by_brand(row, row_number, vehicle_type_pt):\n",
    "#    brand = row['Brand']\n",
    "#    fill_value = row[row_number]\n",
    "#    if row[row_number] == 0:\n",
    "#        fill_value = vehicle_type_pt[brand].idxmax()\n",
    "#    return fill_value"
   ]
  },
  {
   "cell_type": "code",
   "execution_count": 27,
   "metadata": {},
   "outputs": [],
   "source": [
    "df['VehicleType'] = df['VehicleType'].fillna(df.groupby(by=['Brand'])['VehicleType'].transform(lambda x: x.value_counts().idxmax()))"
   ]
  },
  {
   "cell_type": "code",
   "execution_count": 28,
   "metadata": {},
   "outputs": [
    {
     "data": {
      "text/plain": [
       "0"
      ]
     },
     "metadata": {},
     "output_type": "display_data"
    },
    {
     "data": {
      "text/plain": [
       "sedan          80882\n",
       "small          69273\n",
       "wagon          55622\n",
       "bus            25409\n",
       "convertible    17859\n",
       "coupe          14132\n",
       "suv            10626\n",
       "other           2915\n",
       "Name: VehicleType, dtype: int64"
      ]
     },
     "metadata": {},
     "output_type": "display_data"
    }
   ],
   "source": [
    "# Применим функцию\n",
    "#df['VehicleType'] = df.apply(fillna_by_brand,\n",
    "#                             args=[0, vehicle_type_pt],\n",
    "#                             axis=1)\n",
    "display(df['VehicleType'].isna().sum())\n",
    "display(df['VehicleType'].value_counts())"
   ]
  },
  {
   "cell_type": "code",
   "execution_count": 29,
   "metadata": {},
   "outputs": [
    {
     "data": {
      "text/plain": [
       "18844"
      ]
     },
     "metadata": {},
     "output_type": "display_data"
    },
    {
     "data": {
      "text/plain": [
       "petrol      172479\n",
       "gasoline     79961\n",
       "lpg           4532\n",
       "cng            478\n",
       "hybrid         202\n",
       "other          139\n",
       "electric        83\n",
       "Name: FuelType, dtype: int64"
      ]
     },
     "metadata": {},
     "output_type": "display_data"
    }
   ],
   "source": [
    "# повторяем для столбца FuelType\n",
    "display(df['FuelType'].isna().sum())\n",
    "display(df['FuelType'].value_counts())"
   ]
  },
  {
   "cell_type": "code",
   "execution_count": 30,
   "metadata": {},
   "outputs": [],
   "source": [
    "df['FuelType'] = df['FuelType'].fillna(df.groupby(by=['Brand'])['FuelType'].transform(lambda x: x.value_counts().idxmax()))"
   ]
  },
  {
   "cell_type": "code",
   "execution_count": 31,
   "metadata": {},
   "outputs": [
    {
     "data": {
      "text/plain": [
       "0"
      ]
     },
     "metadata": {},
     "output_type": "display_data"
    },
    {
     "data": {
      "text/plain": [
       "petrol      191303\n",
       "gasoline     79981\n",
       "lpg           4532\n",
       "cng            478\n",
       "hybrid         202\n",
       "other          139\n",
       "electric        83\n",
       "Name: FuelType, dtype: int64"
      ]
     },
     "execution_count": 31,
     "metadata": {},
     "output_type": "execute_result"
    }
   ],
   "source": [
    "# проверяем\n",
    "display(df['FuelType'].isna().sum())\n",
    "df['FuelType'].value_counts()"
   ]
  },
  {
   "cell_type": "code",
   "execution_count": 32,
   "metadata": {},
   "outputs": [
    {
     "data": {
      "text/html": [
       "<style  type=\"text/css\" >\n",
       "#T_11a55_row0_col0,#T_11a55_row1_col0,#T_11a55_row2_col0,#T_11a55_row3_col0,#T_11a55_row4_col0,#T_11a55_row5_col0,#T_11a55_row6_col0,#T_11a55_row7_col0,#T_11a55_row8_col0,#T_11a55_row9_col0{\n",
       "            background-color:  #3b4cc0;\n",
       "            color:  #f1f1f1;\n",
       "        }</style><table id=\"T_11a55_\" ><thead>    <tr>        <th class=\"blank level0\" ></th>        <th class=\"col_heading level0 col0\" >0</th>    </tr></thead><tbody>\n",
       "                <tr>\n",
       "                        <th id=\"T_11a55_level0_row0\" class=\"row_heading level0 row0\" >VehicleType</th>\n",
       "                        <td id=\"T_11a55_row0_col0\" class=\"data row0 col0\" >0.000000</td>\n",
       "            </tr>\n",
       "            <tr>\n",
       "                        <th id=\"T_11a55_level0_row1\" class=\"row_heading level0 row1\" >RegistrationYear</th>\n",
       "                        <td id=\"T_11a55_row1_col0\" class=\"data row1 col0\" >0.000000</td>\n",
       "            </tr>\n",
       "            <tr>\n",
       "                        <th id=\"T_11a55_level0_row2\" class=\"row_heading level0 row2\" >Gearbox</th>\n",
       "                        <td id=\"T_11a55_row2_col0\" class=\"data row2 col0\" >0.000000</td>\n",
       "            </tr>\n",
       "            <tr>\n",
       "                        <th id=\"T_11a55_level0_row3\" class=\"row_heading level0 row3\" >Power</th>\n",
       "                        <td id=\"T_11a55_row3_col0\" class=\"data row3 col0\" >0.000000</td>\n",
       "            </tr>\n",
       "            <tr>\n",
       "                        <th id=\"T_11a55_level0_row4\" class=\"row_heading level0 row4\" >Model</th>\n",
       "                        <td id=\"T_11a55_row4_col0\" class=\"data row4 col0\" >0.000000</td>\n",
       "            </tr>\n",
       "            <tr>\n",
       "                        <th id=\"T_11a55_level0_row5\" class=\"row_heading level0 row5\" >Kilometer</th>\n",
       "                        <td id=\"T_11a55_row5_col0\" class=\"data row5 col0\" >0.000000</td>\n",
       "            </tr>\n",
       "            <tr>\n",
       "                        <th id=\"T_11a55_level0_row6\" class=\"row_heading level0 row6\" >FuelType</th>\n",
       "                        <td id=\"T_11a55_row6_col0\" class=\"data row6 col0\" >0.000000</td>\n",
       "            </tr>\n",
       "            <tr>\n",
       "                        <th id=\"T_11a55_level0_row7\" class=\"row_heading level0 row7\" >Brand</th>\n",
       "                        <td id=\"T_11a55_row7_col0\" class=\"data row7 col0\" >0.000000</td>\n",
       "            </tr>\n",
       "            <tr>\n",
       "                        <th id=\"T_11a55_level0_row8\" class=\"row_heading level0 row8\" >Repaired</th>\n",
       "                        <td id=\"T_11a55_row8_col0\" class=\"data row8 col0\" >0.000000</td>\n",
       "            </tr>\n",
       "            <tr>\n",
       "                        <th id=\"T_11a55_level0_row9\" class=\"row_heading level0 row9\" >Price</th>\n",
       "                        <td id=\"T_11a55_row9_col0\" class=\"data row9 col0\" >0.000000</td>\n",
       "            </tr>\n",
       "    </tbody></table>"
      ],
      "text/plain": [
       "<pandas.io.formats.style.Styler at 0x7f41fd4bfbe0>"
      ]
     },
     "metadata": {},
     "output_type": "display_data"
    }
   ],
   "source": [
    "# проверяем, остались ли ещё пропуски в данных\n",
    "display(pd.DataFrame(round(df.isna().mean()*100,)).style.background_gradient('coolwarm'))"
   ]
  },
  {
   "cell_type": "markdown",
   "metadata": {},
   "source": [
    "#### Обработка данных в столбце `Power`"
   ]
  },
  {
   "cell_type": "code",
   "execution_count": 33,
   "metadata": {},
   "outputs": [
    {
     "data": {
      "image/png": "[encoded data removed]",
      "text/plain": [
       "<Figure size 864x648 with 1 Axes>"
      ]
     },
     "metadata": {
      "needs_background": "light"
     },
     "output_type": "display_data"
    }
   ],
   "source": [
    "# давайте ещё раз посмотрим на описание данных, а также визуализируем распределение\n",
    "df['Power'].hist(bins=100, figsize=(12,9))\n",
    "plt.title('Распределение кол-ва объектов относительно мощности двигателя')\n",
    "plt.xlabel('Мощность')\n",
    "plt.ylabel('Количество лотов')\n",
    "plt.show()"
   ]
  },
  {
   "cell_type": "code",
   "execution_count": 34,
   "metadata": {},
   "outputs": [
    {
     "data": {
      "image/png": "[encoded data removed]",
      "text/plain": [
       "<Figure size 864x504 with 1 Axes>"
      ]
     },
     "metadata": {
      "needs_background": "light"
     },
     "output_type": "display_data"
    },
    {
     "data": {
      "text/plain": [
       "count    276718.000000\n",
       "mean        114.179945\n",
       "std         193.206901\n",
       "min           0.000000\n",
       "25%          75.000000\n",
       "50%         105.000000\n",
       "75%         143.000000\n",
       "max       20000.000000\n",
       "Name: Power, dtype: float64"
      ]
     },
     "execution_count": 34,
     "metadata": {},
     "output_type": "execute_result"
    }
   ],
   "source": [
    "df.boxplot(['Power'], figsize=(12,7))\n",
    "plt.title('График распределения уникальных значений мощности двигателей')\n",
    "\n",
    "plt.ylabel('Мощность')\n",
    "plt.show()\n",
    "\n",
    "df['Power'].describe()"
   ]
  },
  {
   "cell_type": "markdown",
   "metadata": {},
   "source": [
    "Очевидно, что присутствуют сильные выбросы значений.  \n",
    "Согласно имеющейся в интрнете инф-и, текущий рекорд мощности среди легковых автомобилей 2028 лошадиных сил (Dagger GT компании TranStar Racing LLC). Для начала ограничимся этим значением, после дополнительно скорректируем."
   ]
  },
  {
   "cell_type": "code",
   "execution_count": 35,
   "metadata": {},
   "outputs": [
    {
     "data": {
      "image/png": "[encoded data removed]",
      "text/plain": [
       "<Figure size 864x648 with 1 Axes>"
      ]
     },
     "metadata": {
      "needs_background": "light"
     },
     "output_type": "display_data"
    },
    {
     "data": {
      "text/plain": [
       "count    276634.000000\n",
       "mean        111.444884\n",
       "std          72.053298\n",
       "min           0.000000\n",
       "25%          75.000000\n",
       "50%         105.000000\n",
       "75%         143.000000\n",
       "max        2018.000000\n",
       "Name: Power, dtype: float64"
      ]
     },
     "execution_count": 35,
     "metadata": {},
     "output_type": "execute_result"
    }
   ],
   "source": [
    "df = df.query('Power < 2029')\n",
    "df['Power'].hist(bins=100, figsize=(12,9))\n",
    "plt.title('Распределение кол-ва объектов относительно мощности двигателя')\n",
    "plt.xlabel('Мощность')\n",
    "plt.ylabel('Количество лотов')\n",
    "plt.show()\n",
    "\n",
    "df['Power'].describe()"
   ]
  },
  {
   "cell_type": "markdown",
   "metadata": {},
   "source": [
    "Избавимся от лотов с нулевой мощностью и опустим верхний предел до 500"
   ]
  },
  {
   "cell_type": "code",
   "execution_count": 36,
   "metadata": {},
   "outputs": [
    {
     "data": {
      "image/png": "[encoded data removed]",
      "text/plain": [
       "<Figure size 864x648 with 1 Axes>"
      ]
     },
     "metadata": {
      "needs_background": "light"
     },
     "output_type": "display_data"
    },
    {
     "data": {
      "text/plain": [
       "count    250239.000000\n",
       "mean        121.881114\n",
       "std          53.737804\n",
       "min           1.000000\n",
       "25%          80.000000\n",
       "50%         115.000000\n",
       "75%         150.000000\n",
       "max         490.000000\n",
       "Name: Power, dtype: float64"
      ]
     },
     "execution_count": 36,
     "metadata": {},
     "output_type": "execute_result"
    }
   ],
   "source": [
    "df = df.query('0 < Power < 500')\n",
    "df['Power'].hist(bins=100, figsize=(12,9))\n",
    "plt.title('Распределение кол-ва объектов относительно мощности двигателя')\n",
    "plt.xlabel('Мощность')\n",
    "plt.ylabel('Количество лотов')\n",
    "plt.show()\n",
    "\n",
    "df['Power'].describe()"
   ]
  },
  {
   "cell_type": "code",
   "execution_count": 37,
   "metadata": {},
   "outputs": [
    {
     "data": {
      "text/html": [
       "<div>\n",
       "<style scoped>\n",
       "    .dataframe tbody tr th:only-of-type {\n",
       "        vertical-align: middle;\n",
       "    }\n",
       "\n",
       "    .dataframe tbody tr th {\n",
       "        vertical-align: top;\n",
       "    }\n",
       "\n",
       "    .dataframe thead th {\n",
       "        text-align: right;\n",
       "    }\n",
       "</style>\n",
       "<table border=\"1\" class=\"dataframe\">\n",
       "  <thead>\n",
       "    <tr style=\"text-align: right;\">\n",
       "      <th></th>\n",
       "      <th>VehicleType</th>\n",
       "      <th>RegistrationYear</th>\n",
       "      <th>Gearbox</th>\n",
       "      <th>Power</th>\n",
       "      <th>Model</th>\n",
       "      <th>Kilometer</th>\n",
       "      <th>FuelType</th>\n",
       "      <th>Brand</th>\n",
       "      <th>Repaired</th>\n",
       "      <th>Price</th>\n",
       "    </tr>\n",
       "  </thead>\n",
       "  <tbody>\n",
       "    <tr>\n",
       "      <th>0</th>\n",
       "      <td>coupe</td>\n",
       "      <td>2011</td>\n",
       "      <td>manual</td>\n",
       "      <td>190</td>\n",
       "      <td>other</td>\n",
       "      <td>125000</td>\n",
       "      <td>gasoline</td>\n",
       "      <td>audi</td>\n",
       "      <td>yes</td>\n",
       "      <td>18300</td>\n",
       "    </tr>\n",
       "    <tr>\n",
       "      <th>1</th>\n",
       "      <td>suv</td>\n",
       "      <td>2004</td>\n",
       "      <td>auto</td>\n",
       "      <td>163</td>\n",
       "      <td>grand</td>\n",
       "      <td>125000</td>\n",
       "      <td>gasoline</td>\n",
       "      <td>jeep</td>\n",
       "      <td>no</td>\n",
       "      <td>9800</td>\n",
       "    </tr>\n",
       "    <tr>\n",
       "      <th>2</th>\n",
       "      <td>small</td>\n",
       "      <td>2001</td>\n",
       "      <td>manual</td>\n",
       "      <td>75</td>\n",
       "      <td>golf</td>\n",
       "      <td>150000</td>\n",
       "      <td>petrol</td>\n",
       "      <td>volkswagen</td>\n",
       "      <td>no</td>\n",
       "      <td>1500</td>\n",
       "    </tr>\n",
       "    <tr>\n",
       "      <th>3</th>\n",
       "      <td>small</td>\n",
       "      <td>2008</td>\n",
       "      <td>manual</td>\n",
       "      <td>69</td>\n",
       "      <td>fabia</td>\n",
       "      <td>90000</td>\n",
       "      <td>gasoline</td>\n",
       "      <td>skoda</td>\n",
       "      <td>no</td>\n",
       "      <td>3600</td>\n",
       "    </tr>\n",
       "    <tr>\n",
       "      <th>4</th>\n",
       "      <td>sedan</td>\n",
       "      <td>1995</td>\n",
       "      <td>manual</td>\n",
       "      <td>102</td>\n",
       "      <td>3er</td>\n",
       "      <td>150000</td>\n",
       "      <td>petrol</td>\n",
       "      <td>bmw</td>\n",
       "      <td>yes</td>\n",
       "      <td>650</td>\n",
       "    </tr>\n",
       "    <tr>\n",
       "      <th>5</th>\n",
       "      <td>convertible</td>\n",
       "      <td>2004</td>\n",
       "      <td>manual</td>\n",
       "      <td>109</td>\n",
       "      <td>2_reihe</td>\n",
       "      <td>150000</td>\n",
       "      <td>petrol</td>\n",
       "      <td>peugeot</td>\n",
       "      <td>no</td>\n",
       "      <td>2200</td>\n",
       "    </tr>\n",
       "    <tr>\n",
       "      <th>6</th>\n",
       "      <td>bus</td>\n",
       "      <td>2014</td>\n",
       "      <td>manual</td>\n",
       "      <td>125</td>\n",
       "      <td>c_max</td>\n",
       "      <td>30000</td>\n",
       "      <td>petrol</td>\n",
       "      <td>ford</td>\n",
       "      <td>no</td>\n",
       "      <td>14500</td>\n",
       "    </tr>\n",
       "    <tr>\n",
       "      <th>7</th>\n",
       "      <td>small</td>\n",
       "      <td>1998</td>\n",
       "      <td>manual</td>\n",
       "      <td>101</td>\n",
       "      <td>golf</td>\n",
       "      <td>150000</td>\n",
       "      <td>petrol</td>\n",
       "      <td>volkswagen</td>\n",
       "      <td>no</td>\n",
       "      <td>999</td>\n",
       "    </tr>\n",
       "    <tr>\n",
       "      <th>8</th>\n",
       "      <td>sedan</td>\n",
       "      <td>2004</td>\n",
       "      <td>manual</td>\n",
       "      <td>105</td>\n",
       "      <td>3_reihe</td>\n",
       "      <td>150000</td>\n",
       "      <td>petrol</td>\n",
       "      <td>mazda</td>\n",
       "      <td>no</td>\n",
       "      <td>2000</td>\n",
       "    </tr>\n",
       "    <tr>\n",
       "      <th>9</th>\n",
       "      <td>wagon</td>\n",
       "      <td>2005</td>\n",
       "      <td>manual</td>\n",
       "      <td>140</td>\n",
       "      <td>passat</td>\n",
       "      <td>150000</td>\n",
       "      <td>gasoline</td>\n",
       "      <td>volkswagen</td>\n",
       "      <td>yes</td>\n",
       "      <td>2799</td>\n",
       "    </tr>\n",
       "  </tbody>\n",
       "</table>\n",
       "</div>"
      ],
      "text/plain": [
       "   VehicleType  RegistrationYear Gearbox  Power    Model  Kilometer  FuelType  \\\n",
       "0        coupe              2011  manual    190    other     125000  gasoline   \n",
       "1          suv              2004    auto    163    grand     125000  gasoline   \n",
       "2        small              2001  manual     75     golf     150000    petrol   \n",
       "3        small              2008  manual     69    fabia      90000  gasoline   \n",
       "4        sedan              1995  manual    102      3er     150000    petrol   \n",
       "5  convertible              2004  manual    109  2_reihe     150000    petrol   \n",
       "6          bus              2014  manual    125    c_max      30000    petrol   \n",
       "7        small              1998  manual    101     golf     150000    petrol   \n",
       "8        sedan              2004  manual    105  3_reihe     150000    petrol   \n",
       "9        wagon              2005  manual    140   passat     150000  gasoline   \n",
       "\n",
       "        Brand Repaired  Price  \n",
       "0        audi      yes  18300  \n",
       "1        jeep       no   9800  \n",
       "2  volkswagen       no   1500  \n",
       "3       skoda       no   3600  \n",
       "4         bmw      yes    650  \n",
       "5     peugeot       no   2200  \n",
       "6        ford       no  14500  \n",
       "7  volkswagen       no    999  \n",
       "8       mazda       no   2000  \n",
       "9  volkswagen      yes   2799  "
      ]
     },
     "metadata": {},
     "output_type": "display_data"
    },
    {
     "name": "stdout",
     "output_type": "stream",
     "text": [
      "<class 'pandas.core.frame.DataFrame'>\n",
      "RangeIndex: 250239 entries, 0 to 250238\n",
      "Data columns (total 10 columns):\n",
      " #   Column            Non-Null Count   Dtype \n",
      "---  ------            --------------   ----- \n",
      " 0   VehicleType       250239 non-null  object\n",
      " 1   RegistrationYear  250239 non-null  int64 \n",
      " 2   Gearbox           250239 non-null  object\n",
      " 3   Power             250239 non-null  int64 \n",
      " 4   Model             250239 non-null  object\n",
      " 5   Kilometer         250239 non-null  int64 \n",
      " 6   FuelType          250239 non-null  object\n",
      " 7   Brand             250239 non-null  object\n",
      " 8   Repaired          250239 non-null  object\n",
      " 9   Price             250239 non-null  int64 \n",
      "dtypes: int64(4), object(6)\n",
      "memory usage: 19.1+ MB\n"
     ]
    }
   ],
   "source": [
    "# сбрасываем индексы после удаления объектов, проверяем информацию о получившемся датафрейме\n",
    "df = df.reset_index(drop=True)\n",
    "display(df.head(10))\n",
    "df.info()"
   ]
  },
  {
   "cell_type": "markdown",
   "metadata": {},
   "source": [
    "#### Преобразование признаков `Gearbox` & `Repaired` в булевые"
   ]
  },
  {
   "cell_type": "markdown",
   "metadata": {},
   "source": [
    "Есть две колонки, для которых наиболе адекватным будет преобразование в булевые значения признака, это - `Gearbox` & `Repaired`.    \n",
    "Так и поступим."
   ]
  },
  {
   "cell_type": "code",
   "execution_count": 38,
   "metadata": {},
   "outputs": [
    {
     "data": {
      "text/plain": [
       "1    198686\n",
       "0     51553\n",
       "Name: ManualGearbox, dtype: int64"
      ]
     },
     "metadata": {},
     "output_type": "display_data"
    },
    {
     "data": {
      "text/plain": [
       "manual    198686\n",
       "auto       51553\n",
       "Name: Gearbox, dtype: int64"
      ]
     },
     "execution_count": 38,
     "metadata": {},
     "output_type": "execute_result"
    }
   ],
   "source": [
    "# создадим новый столбец 'ManualGearbox', где 1 - это manual, 0 - это auto\n",
    "df['ManualGearbox'] = 0\n",
    "df.loc[df['Gearbox'] == 'manual', 'ManualGearbox'] = 1\n",
    "\n",
    "# считаем значения в новом и оригинальном столбце, сравниваем по количеству объектов классы\n",
    "display(df['ManualGearbox'].value_counts())\n",
    "df['Gearbox'].value_counts()"
   ]
  },
  {
   "cell_type": "code",
   "execution_count": 39,
   "metadata": {},
   "outputs": [
    {
     "data": {
      "text/plain": [
       "0    224707\n",
       "1     25532\n",
       "Name: Restored, dtype: int64"
      ]
     },
     "metadata": {},
     "output_type": "display_data"
    },
    {
     "data": {
      "text/plain": [
       "no     224707\n",
       "yes     25532\n",
       "Name: Repaired, dtype: int64"
      ]
     },
     "execution_count": 39,
     "metadata": {},
     "output_type": "execute_result"
    }
   ],
   "source": [
    "# создадим новый столбец 'Restored', где 1 - это был ремонт, 0 - это нет\n",
    "df['Restored'] = 0\n",
    "df.loc[df['Repaired'] == 'yes', 'Restored'] = 1\n",
    "\n",
    "# считаем значения в новом и оригинальном столбце, сравниваем по количеству объектов классы\n",
    "display(df['Restored'].value_counts())\n",
    "df['Repaired'].value_counts()"
   ]
  },
  {
   "cell_type": "code",
   "execution_count": 40,
   "metadata": {},
   "outputs": [
    {
     "name": "stdout",
     "output_type": "stream",
     "text": [
      "<class 'pandas.core.frame.DataFrame'>\n",
      "RangeIndex: 250239 entries, 0 to 250238\n",
      "Data columns (total 10 columns):\n",
      " #   Column            Non-Null Count   Dtype \n",
      "---  ------            --------------   ----- \n",
      " 0   VehicleType       250239 non-null  object\n",
      " 1   RegistrationYear  250239 non-null  int64 \n",
      " 2   Power             250239 non-null  int64 \n",
      " 3   Model             250239 non-null  object\n",
      " 4   Kilometer         250239 non-null  int64 \n",
      " 5   FuelType          250239 non-null  object\n",
      " 6   Brand             250239 non-null  object\n",
      " 7   Price             250239 non-null  int64 \n",
      " 8   ManualGearbox     250239 non-null  int64 \n",
      " 9   Restored          250239 non-null  int64 \n",
      "dtypes: int64(6), object(4)\n",
      "memory usage: 19.1+ MB\n"
     ]
    }
   ],
   "source": [
    "# удаляем старые столбцы\n",
    "df = df.drop(['Gearbox','Repaired'], axis=1)\n",
    "df.info()\n",
    "mem_us_o = df.memory_usage(deep=True).sum() # сохраним объём используемой памяти оригинальным df в переменную"
   ]
  },
  {
   "cell_type": "markdown",
   "metadata": {},
   "source": [
    "Можно было бы преобразовать здесь все категориальные признаки в числовые, но ранее от ревьюера поступила рекомендация делать это после разделения выборок на обучающую, валидационную и тестовую."
   ]
  },
  {
   "cell_type": "markdown",
   "metadata": {},
   "source": [
    "#### Уменьшение потребляемой памяти"
   ]
  },
  {
   "cell_type": "markdown",
   "metadata": {},
   "source": [
    "Сейчас у нас все цифровые признаки имеют тип int64, но мы можем использовать и другие типы целочисленных данных: int32, int16, int8. Это позволит уменьшить объём потребляемых ресурсов компьютера, тем самым ускорит обработку данных и обучение модели.  \n",
    "Операция называется \"Оптимизация хранения числовых данных с использованием подтипов\", используем функцию `pd.to_numeric()` с параметром `downcast='integer'` для нисходящего преобразования числовых типов."
   ]
  },
  {
   "cell_type": "code",
   "execution_count": 41,
   "metadata": {},
   "outputs": [
    {
     "name": "stdout",
     "output_type": "stream",
     "text": [
      "<class 'pandas.core.frame.DataFrame'>\n",
      "RangeIndex: 250239 entries, 0 to 250238\n",
      "Data columns (total 10 columns):\n",
      " #   Column            Non-Null Count   Dtype \n",
      "---  ------            --------------   ----- \n",
      " 0   VehicleType       250239 non-null  object\n",
      " 1   RegistrationYear  250239 non-null  int16 \n",
      " 2   Power             250239 non-null  int16 \n",
      " 3   Model             250239 non-null  object\n",
      " 4   Kilometer         250239 non-null  int32 \n",
      " 5   FuelType          250239 non-null  object\n",
      " 6   Brand             250239 non-null  object\n",
      " 7   Price             250239 non-null  int16 \n",
      " 8   ManualGearbox     250239 non-null  int8  \n",
      " 9   Restored          250239 non-null  int8  \n",
      "dtypes: int16(3), int32(1), int8(2), object(4)\n",
      "memory usage: 10.5+ MB\n",
      "Уменьшение использования памяти на 12.03%\n"
     ]
    }
   ],
   "source": [
    "columns = ['RegistrationYear', 'Power', 'Kilometer', 'Price', 'ManualGearbox', 'Restored']\n",
    "\n",
    "for column in columns:\n",
    "    df[column] = pd.to_numeric(df[column], downcast='integer')\n",
    "    \n",
    "df.info()\n",
    "\n",
    "mem_us_d = df.memory_usage(deep=True).sum() # сохраним объём используемой памяти downcast df в переменную\n",
    "# посчитаем разницу\n",
    "print('Уменьшение использования памяти на {:.2%}'.format(1 - mem_us_d/mem_us_o))"
   ]
  },
  {
   "cell_type": "markdown",
   "metadata": {},
   "source": [
    "### Выводы  \n",
    "1) Данные были проанализированы, определены значимые для обучения модели признаки;  \n",
    "2) В выбранном пространстве признаков были обработаны пропуски, аномалии и некорректные значения, удалены дубликаты;  \n",
    "3) Частично заменены категориальные признаки на булевые;  \n",
    "4) Обработали финалный датафрейм, изменив типы данных, уменьшив тем самым объём занимаемой памяти."
   ]
  },
  {
   "cell_type": "markdown",
   "metadata": {},
   "source": [
    "## Обучение моделей"
   ]
  },
  {
   "cell_type": "markdown",
   "metadata": {},
   "source": [
    "### Подготовка пространства признаков и его разделение на выборки"
   ]
  },
  {
   "cell_type": "markdown",
   "metadata": {},
   "source": [
    "Среди важных заказчику параметров имеются скорость обучения и скорость предсказания модели. Они оба зависят от того, на сколько оптимизированы и подготовлены данные перед обучением. Напрямую нам неуказывается на необходимость преобразования абсолютно всех категориальных признаков в числовой вид, однако очевидно, что машине удобнее работать с числовым представлением информации. Тут же возникает вопрос - каким методом кодировать категориальные данные?  \n",
    "\n",
    "Постараемся подобрать для каждого типа категориальных данных свой тип кодирования:\n",
    "* Оригинальные - original_features;  \n",
    "* Закодированные методом target encoding - te_features;\n",
    "* Закодированные методом oe-hot-encoding (OHE) - ohe_features."
   ]
  },
  {
   "cell_type": "code",
   "execution_count": 42,
   "metadata": {},
   "outputs": [],
   "source": [
    "# оригинальные признаки и целевой признак\n",
    "original_features = df.drop('Price', axis=1)\n",
    "target = df['Price']"
   ]
  },
  {
   "cell_type": "code",
   "execution_count": 43,
   "metadata": {},
   "outputs": [],
   "source": [
    "# кодируем методом target encoding столбцы Brand & Model\n",
    "original_features[\"Enc_Brand\"] = original_features.groupby(\"Brand\")[\"ManualGearbox\"].transform(\"mean\")\n",
    "original_features[\"Enc_Model\"] = original_features.groupby(\"Model\")[\"ManualGearbox\"].transform(\"mean\")"
   ]
  },
  {
   "cell_type": "code",
   "execution_count": 44,
   "metadata": {},
   "outputs": [
    {
     "data": {
      "text/html": [
       "<div>\n",
       "<style scoped>\n",
       "    .dataframe tbody tr th:only-of-type {\n",
       "        vertical-align: middle;\n",
       "    }\n",
       "\n",
       "    .dataframe tbody tr th {\n",
       "        vertical-align: top;\n",
       "    }\n",
       "\n",
       "    .dataframe thead th {\n",
       "        text-align: right;\n",
       "    }\n",
       "</style>\n",
       "<table border=\"1\" class=\"dataframe\">\n",
       "  <thead>\n",
       "    <tr style=\"text-align: right;\">\n",
       "      <th></th>\n",
       "      <th>VehicleType</th>\n",
       "      <th>RegistrationYear</th>\n",
       "      <th>Power</th>\n",
       "      <th>Kilometer</th>\n",
       "      <th>FuelType</th>\n",
       "      <th>ManualGearbox</th>\n",
       "      <th>Restored</th>\n",
       "      <th>Enc_Brand</th>\n",
       "      <th>Enc_Model</th>\n",
       "    </tr>\n",
       "  </thead>\n",
       "  <tbody>\n",
       "    <tr>\n",
       "      <th>0</th>\n",
       "      <td>coupe</td>\n",
       "      <td>2011</td>\n",
       "      <td>190</td>\n",
       "      <td>125000</td>\n",
       "      <td>gasoline</td>\n",
       "      <td>1</td>\n",
       "      <td>1</td>\n",
       "      <td>0.692110</td>\n",
       "      <td>0.779183</td>\n",
       "    </tr>\n",
       "    <tr>\n",
       "      <th>1</th>\n",
       "      <td>suv</td>\n",
       "      <td>2004</td>\n",
       "      <td>163</td>\n",
       "      <td>125000</td>\n",
       "      <td>gasoline</td>\n",
       "      <td>0</td>\n",
       "      <td>0</td>\n",
       "      <td>0.348231</td>\n",
       "      <td>0.379455</td>\n",
       "    </tr>\n",
       "    <tr>\n",
       "      <th>2</th>\n",
       "      <td>small</td>\n",
       "      <td>2001</td>\n",
       "      <td>75</td>\n",
       "      <td>150000</td>\n",
       "      <td>petrol</td>\n",
       "      <td>1</td>\n",
       "      <td>0</td>\n",
       "      <td>0.864954</td>\n",
       "      <td>0.877871</td>\n",
       "    </tr>\n",
       "    <tr>\n",
       "      <th>3</th>\n",
       "      <td>small</td>\n",
       "      <td>2008</td>\n",
       "      <td>69</td>\n",
       "      <td>90000</td>\n",
       "      <td>gasoline</td>\n",
       "      <td>1</td>\n",
       "      <td>0</td>\n",
       "      <td>0.885981</td>\n",
       "      <td>0.950120</td>\n",
       "    </tr>\n",
       "    <tr>\n",
       "      <th>4</th>\n",
       "      <td>sedan</td>\n",
       "      <td>1995</td>\n",
       "      <td>102</td>\n",
       "      <td>150000</td>\n",
       "      <td>petrol</td>\n",
       "      <td>1</td>\n",
       "      <td>1</td>\n",
       "      <td>0.682595</td>\n",
       "      <td>0.790228</td>\n",
       "    </tr>\n",
       "  </tbody>\n",
       "</table>\n",
       "</div>"
      ],
      "text/plain": [
       "  VehicleType  RegistrationYear  Power  Kilometer  FuelType  ManualGearbox  \\\n",
       "0       coupe              2011    190     125000  gasoline              1   \n",
       "1         suv              2004    163     125000  gasoline              0   \n",
       "2       small              2001     75     150000    petrol              1   \n",
       "3       small              2008     69      90000  gasoline              1   \n",
       "4       sedan              1995    102     150000    petrol              1   \n",
       "\n",
       "   Restored  Enc_Brand  Enc_Model  \n",
       "0         1   0.692110   0.779183  \n",
       "1         0   0.348231   0.379455  \n",
       "2         0   0.864954   0.877871  \n",
       "3         0   0.885981   0.950120  \n",
       "4         1   0.682595   0.790228  "
      ]
     },
     "metadata": {},
     "output_type": "display_data"
    }
   ],
   "source": [
    "# удаляем ненужные оригинальные столбцы\n",
    "original_features = original_features.drop(['Brand','Model'], axis=1)\n",
    "\n",
    "display(original_features.head(5))"
   ]
  },
  {
   "cell_type": "code",
   "execution_count": 45,
   "metadata": {},
   "outputs": [],
   "source": [
    "# деление на обучающую и тестовую выборки\n",
    "original_features_train, original_features_test, target_train, target_test = train_test_split(\n",
    "    original_features, target, test_size=0.25, random_state=12345)"
   ]
  },
  {
   "cell_type": "code",
   "execution_count": 46,
   "metadata": {},
   "outputs": [
    {
     "data": {
      "text/html": [
       "<div>\n",
       "<style scoped>\n",
       "    .dataframe tbody tr th:only-of-type {\n",
       "        vertical-align: middle;\n",
       "    }\n",
       "\n",
       "    .dataframe tbody tr th {\n",
       "        vertical-align: top;\n",
       "    }\n",
       "\n",
       "    .dataframe thead th {\n",
       "        text-align: right;\n",
       "    }\n",
       "</style>\n",
       "<table border=\"1\" class=\"dataframe\">\n",
       "  <thead>\n",
       "    <tr style=\"text-align: right;\">\n",
       "      <th></th>\n",
       "      <th>VehicleType</th>\n",
       "      <th>RegistrationYear</th>\n",
       "      <th>Power</th>\n",
       "      <th>Kilometer</th>\n",
       "      <th>FuelType</th>\n",
       "      <th>ManualGearbox</th>\n",
       "      <th>Restored</th>\n",
       "      <th>Enc_Brand</th>\n",
       "      <th>Enc_Model</th>\n",
       "    </tr>\n",
       "  </thead>\n",
       "  <tbody>\n",
       "    <tr>\n",
       "      <th>124401</th>\n",
       "      <td>small</td>\n",
       "      <td>-1.660437</td>\n",
       "      <td>-0.127726</td>\n",
       "      <td>0.613573</td>\n",
       "      <td>petrol</td>\n",
       "      <td>1</td>\n",
       "      <td>0</td>\n",
       "      <td>0.891222</td>\n",
       "      <td>0.922822</td>\n",
       "    </tr>\n",
       "    <tr>\n",
       "      <th>74446</th>\n",
       "      <td>small</td>\n",
       "      <td>0.376859</td>\n",
       "      <td>-0.463078</td>\n",
       "      <td>-1.793114</td>\n",
       "      <td>petrol</td>\n",
       "      <td>1</td>\n",
       "      <td>0</td>\n",
       "      <td>0.793029</td>\n",
       "      <td>0.949612</td>\n",
       "    </tr>\n",
       "    <tr>\n",
       "      <th>34416</th>\n",
       "      <td>small</td>\n",
       "      <td>-0.250001</td>\n",
       "      <td>-1.469135</td>\n",
       "      <td>0.613573</td>\n",
       "      <td>petrol</td>\n",
       "      <td>1</td>\n",
       "      <td>0</td>\n",
       "      <td>0.891222</td>\n",
       "      <td>0.942231</td>\n",
       "    </tr>\n",
       "    <tr>\n",
       "      <th>243794</th>\n",
       "      <td>sedan</td>\n",
       "      <td>0.847004</td>\n",
       "      <td>0.393933</td>\n",
       "      <td>0.613573</td>\n",
       "      <td>gasoline</td>\n",
       "      <td>1</td>\n",
       "      <td>0</td>\n",
       "      <td>0.682595</td>\n",
       "      <td>0.868690</td>\n",
       "    </tr>\n",
       "    <tr>\n",
       "      <th>98152</th>\n",
       "      <td>wagon</td>\n",
       "      <td>1.473864</td>\n",
       "      <td>0.002689</td>\n",
       "      <td>-1.793114</td>\n",
       "      <td>petrol</td>\n",
       "      <td>1</td>\n",
       "      <td>1</td>\n",
       "      <td>0.864954</td>\n",
       "      <td>0.757919</td>\n",
       "    </tr>\n",
       "  </tbody>\n",
       "</table>\n",
       "</div>"
      ],
      "text/plain": [
       "       VehicleType  RegistrationYear     Power  Kilometer  FuelType  \\\n",
       "124401       small         -1.660437 -0.127726   0.613573    petrol   \n",
       "74446        small          0.376859 -0.463078  -1.793114    petrol   \n",
       "34416        small         -0.250001 -1.469135   0.613573    petrol   \n",
       "243794       sedan          0.847004  0.393933   0.613573  gasoline   \n",
       "98152        wagon          1.473864  0.002689  -1.793114    petrol   \n",
       "\n",
       "        ManualGearbox  Restored  Enc_Brand  Enc_Model  \n",
       "124401              1         0   0.891222   0.922822  \n",
       "74446               1         0   0.793029   0.949612  \n",
       "34416               1         0   0.891222   0.942231  \n",
       "243794              1         0   0.682595   0.868690  \n",
       "98152               1         1   0.864954   0.757919  "
      ]
     },
     "metadata": {},
     "output_type": "display_data"
    },
    {
     "name": "stdout",
     "output_type": "stream",
     "text": [
      "Обущающая выборка в процентах: 75.00%\n"
     ]
    },
    {
     "data": {
      "text/html": [
       "<div>\n",
       "<style scoped>\n",
       "    .dataframe tbody tr th:only-of-type {\n",
       "        vertical-align: middle;\n",
       "    }\n",
       "\n",
       "    .dataframe tbody tr th {\n",
       "        vertical-align: top;\n",
       "    }\n",
       "\n",
       "    .dataframe thead th {\n",
       "        text-align: right;\n",
       "    }\n",
       "</style>\n",
       "<table border=\"1\" class=\"dataframe\">\n",
       "  <thead>\n",
       "    <tr style=\"text-align: right;\">\n",
       "      <th></th>\n",
       "      <th>VehicleType</th>\n",
       "      <th>RegistrationYear</th>\n",
       "      <th>Power</th>\n",
       "      <th>Kilometer</th>\n",
       "      <th>FuelType</th>\n",
       "      <th>ManualGearbox</th>\n",
       "      <th>Restored</th>\n",
       "      <th>Enc_Brand</th>\n",
       "      <th>Enc_Model</th>\n",
       "    </tr>\n",
       "  </thead>\n",
       "  <tbody>\n",
       "    <tr>\n",
       "      <th>238564</th>\n",
       "      <td>coupe</td>\n",
       "      <td>0.847004</td>\n",
       "      <td>0.896961</td>\n",
       "      <td>0.613573</td>\n",
       "      <td>petrol</td>\n",
       "      <td>0</td>\n",
       "      <td>0</td>\n",
       "      <td>0.692110</td>\n",
       "      <td>0.583524</td>\n",
       "    </tr>\n",
       "    <tr>\n",
       "      <th>174863</th>\n",
       "      <td>convertible</td>\n",
       "      <td>-0.876861</td>\n",
       "      <td>-0.258141</td>\n",
       "      <td>0.613573</td>\n",
       "      <td>petrol</td>\n",
       "      <td>1</td>\n",
       "      <td>0</td>\n",
       "      <td>0.937724</td>\n",
       "      <td>0.934312</td>\n",
       "    </tr>\n",
       "    <tr>\n",
       "      <th>205280</th>\n",
       "      <td>small</td>\n",
       "      <td>-0.406716</td>\n",
       "      <td>-0.593493</td>\n",
       "      <td>0.613573</td>\n",
       "      <td>petrol</td>\n",
       "      <td>1</td>\n",
       "      <td>0</td>\n",
       "      <td>0.891222</td>\n",
       "      <td>0.950963</td>\n",
       "    </tr>\n",
       "    <tr>\n",
       "      <th>128017</th>\n",
       "      <td>suv</td>\n",
       "      <td>0.533574</td>\n",
       "      <td>1.903018</td>\n",
       "      <td>0.613573</td>\n",
       "      <td>gasoline</td>\n",
       "      <td>0</td>\n",
       "      <td>0</td>\n",
       "      <td>0.864954</td>\n",
       "      <td>0.187500</td>\n",
       "    </tr>\n",
       "    <tr>\n",
       "      <th>1771</th>\n",
       "      <td>wagon</td>\n",
       "      <td>0.847004</td>\n",
       "      <td>0.393933</td>\n",
       "      <td>0.613573</td>\n",
       "      <td>petrol</td>\n",
       "      <td>1</td>\n",
       "      <td>0</td>\n",
       "      <td>0.692110</td>\n",
       "      <td>0.742147</td>\n",
       "    </tr>\n",
       "  </tbody>\n",
       "</table>\n",
       "</div>"
      ],
      "text/plain": [
       "        VehicleType  RegistrationYear     Power  Kilometer  FuelType  \\\n",
       "238564        coupe          0.847004  0.896961   0.613573    petrol   \n",
       "174863  convertible         -0.876861 -0.258141   0.613573    petrol   \n",
       "205280        small         -0.406716 -0.593493   0.613573    petrol   \n",
       "128017          suv          0.533574  1.903018   0.613573  gasoline   \n",
       "1771          wagon          0.847004  0.393933   0.613573    petrol   \n",
       "\n",
       "        ManualGearbox  Restored  Enc_Brand  Enc_Model  \n",
       "238564              0         0   0.692110   0.583524  \n",
       "174863              1         0   0.937724   0.934312  \n",
       "205280              1         0   0.891222   0.950963  \n",
       "128017              0         0   0.864954   0.187500  \n",
       "1771                1         0   0.692110   0.742147  "
      ]
     },
     "metadata": {},
     "output_type": "display_data"
    },
    {
     "name": "stdout",
     "output_type": "stream",
     "text": [
      "Обущающая выборка в процентах: 25.00%\n"
     ]
    }
   ],
   "source": [
    "# масштабируем числовые данные\n",
    "# список числовых колонок за исключением булевых \n",
    "num_col = ['RegistrationYear','Power','Kilometer']\n",
    "\n",
    "# обучаем\n",
    "scaler = StandardScaler()\n",
    "scaler.fit(original_features_train[num_col])\n",
    "\n",
    "# масштабируем выборки\n",
    "original_features_train[num_col] = scaler.transform(original_features_train[num_col])\n",
    "original_features_test[num_col] = scaler.transform(original_features_test[num_col])\n",
    "\n",
    "display(original_features_train.head())\n",
    "print('Обущающая выборка в процентах: {:.2%}'.format(original_features_train.shape[0] / original_features.shape[0]))\n",
    "display(original_features_test.head())\n",
    "print('Обущающая выборка в процентах: {:.2%}'.format(original_features_test.shape[0] / original_features.shape[0]))"
   ]
  },
  {
   "cell_type": "code",
   "execution_count": 47,
   "metadata": {},
   "outputs": [],
   "source": [
    "# приступим к по-выборочному кодированию категориальных признаков\n",
    "encod_features_train = original_features_train.copy()\n",
    "encod_features_test = original_features_test.copy()"
   ]
  },
  {
   "cell_type": "code",
   "execution_count": 49,
   "metadata": {},
   "outputs": [],
   "source": [
    "# Остальные категориальные признаки можно закодировать OHE\n",
    "def ohe_enc(data, column):\n",
    "    df = pd.get_dummies(data[column], prefix=column, drop_first=True)\n",
    "    data = data.drop(column, axis=1)\n",
    "    return data.join(df)"
   ]
  },
  {
   "cell_type": "code",
   "execution_count": 50,
   "metadata": {},
   "outputs": [
    {
     "data": {
      "text/html": [
       "<div>\n",
       "<style scoped>\n",
       "    .dataframe tbody tr th:only-of-type {\n",
       "        vertical-align: middle;\n",
       "    }\n",
       "\n",
       "    .dataframe tbody tr th {\n",
       "        vertical-align: top;\n",
       "    }\n",
       "\n",
       "    .dataframe thead th {\n",
       "        text-align: right;\n",
       "    }\n",
       "</style>\n",
       "<table border=\"1\" class=\"dataframe\">\n",
       "  <thead>\n",
       "    <tr style=\"text-align: right;\">\n",
       "      <th></th>\n",
       "      <th>RegistrationYear</th>\n",
       "      <th>Power</th>\n",
       "      <th>Kilometer</th>\n",
       "      <th>ManualGearbox</th>\n",
       "      <th>Restored</th>\n",
       "      <th>Enc_Brand</th>\n",
       "      <th>Enc_Model</th>\n",
       "      <th>VehicleType_convertible</th>\n",
       "      <th>VehicleType_coupe</th>\n",
       "      <th>VehicleType_other</th>\n",
       "      <th>VehicleType_sedan</th>\n",
       "      <th>VehicleType_small</th>\n",
       "      <th>VehicleType_suv</th>\n",
       "      <th>VehicleType_wagon</th>\n",
       "      <th>FuelType_electric</th>\n",
       "      <th>FuelType_gasoline</th>\n",
       "      <th>FuelType_hybrid</th>\n",
       "      <th>FuelType_lpg</th>\n",
       "      <th>FuelType_other</th>\n",
       "      <th>FuelType_petrol</th>\n",
       "    </tr>\n",
       "  </thead>\n",
       "  <tbody>\n",
       "    <tr>\n",
       "      <th>124401</th>\n",
       "      <td>-1.660437</td>\n",
       "      <td>-0.127726</td>\n",
       "      <td>0.613573</td>\n",
       "      <td>1</td>\n",
       "      <td>0</td>\n",
       "      <td>0.891222</td>\n",
       "      <td>0.922822</td>\n",
       "      <td>0</td>\n",
       "      <td>0</td>\n",
       "      <td>0</td>\n",
       "      <td>0</td>\n",
       "      <td>1</td>\n",
       "      <td>0</td>\n",
       "      <td>0</td>\n",
       "      <td>0</td>\n",
       "      <td>0</td>\n",
       "      <td>0</td>\n",
       "      <td>0</td>\n",
       "      <td>0</td>\n",
       "      <td>1</td>\n",
       "    </tr>\n",
       "    <tr>\n",
       "      <th>74446</th>\n",
       "      <td>0.376859</td>\n",
       "      <td>-0.463078</td>\n",
       "      <td>-1.793114</td>\n",
       "      <td>1</td>\n",
       "      <td>0</td>\n",
       "      <td>0.793029</td>\n",
       "      <td>0.949612</td>\n",
       "      <td>0</td>\n",
       "      <td>0</td>\n",
       "      <td>0</td>\n",
       "      <td>0</td>\n",
       "      <td>1</td>\n",
       "      <td>0</td>\n",
       "      <td>0</td>\n",
       "      <td>0</td>\n",
       "      <td>0</td>\n",
       "      <td>0</td>\n",
       "      <td>0</td>\n",
       "      <td>0</td>\n",
       "      <td>1</td>\n",
       "    </tr>\n",
       "    <tr>\n",
       "      <th>34416</th>\n",
       "      <td>-0.250001</td>\n",
       "      <td>-1.469135</td>\n",
       "      <td>0.613573</td>\n",
       "      <td>1</td>\n",
       "      <td>0</td>\n",
       "      <td>0.891222</td>\n",
       "      <td>0.942231</td>\n",
       "      <td>0</td>\n",
       "      <td>0</td>\n",
       "      <td>0</td>\n",
       "      <td>0</td>\n",
       "      <td>1</td>\n",
       "      <td>0</td>\n",
       "      <td>0</td>\n",
       "      <td>0</td>\n",
       "      <td>0</td>\n",
       "      <td>0</td>\n",
       "      <td>0</td>\n",
       "      <td>0</td>\n",
       "      <td>1</td>\n",
       "    </tr>\n",
       "    <tr>\n",
       "      <th>243794</th>\n",
       "      <td>0.847004</td>\n",
       "      <td>0.393933</td>\n",
       "      <td>0.613573</td>\n",
       "      <td>1</td>\n",
       "      <td>0</td>\n",
       "      <td>0.682595</td>\n",
       "      <td>0.868690</td>\n",
       "      <td>0</td>\n",
       "      <td>0</td>\n",
       "      <td>0</td>\n",
       "      <td>1</td>\n",
       "      <td>0</td>\n",
       "      <td>0</td>\n",
       "      <td>0</td>\n",
       "      <td>0</td>\n",
       "      <td>1</td>\n",
       "      <td>0</td>\n",
       "      <td>0</td>\n",
       "      <td>0</td>\n",
       "      <td>0</td>\n",
       "    </tr>\n",
       "    <tr>\n",
       "      <th>98152</th>\n",
       "      <td>1.473864</td>\n",
       "      <td>0.002689</td>\n",
       "      <td>-1.793114</td>\n",
       "      <td>1</td>\n",
       "      <td>1</td>\n",
       "      <td>0.864954</td>\n",
       "      <td>0.757919</td>\n",
       "      <td>0</td>\n",
       "      <td>0</td>\n",
       "      <td>0</td>\n",
       "      <td>0</td>\n",
       "      <td>0</td>\n",
       "      <td>0</td>\n",
       "      <td>1</td>\n",
       "      <td>0</td>\n",
       "      <td>0</td>\n",
       "      <td>0</td>\n",
       "      <td>0</td>\n",
       "      <td>0</td>\n",
       "      <td>1</td>\n",
       "    </tr>\n",
       "  </tbody>\n",
       "</table>\n",
       "</div>"
      ],
      "text/plain": [
       "        RegistrationYear     Power  Kilometer  ManualGearbox  Restored  \\\n",
       "124401         -1.660437 -0.127726   0.613573              1         0   \n",
       "74446           0.376859 -0.463078  -1.793114              1         0   \n",
       "34416          -0.250001 -1.469135   0.613573              1         0   \n",
       "243794          0.847004  0.393933   0.613573              1         0   \n",
       "98152           1.473864  0.002689  -1.793114              1         1   \n",
       "\n",
       "        Enc_Brand  Enc_Model  VehicleType_convertible  VehicleType_coupe  \\\n",
       "124401   0.891222   0.922822                        0                  0   \n",
       "74446    0.793029   0.949612                        0                  0   \n",
       "34416    0.891222   0.942231                        0                  0   \n",
       "243794   0.682595   0.868690                        0                  0   \n",
       "98152    0.864954   0.757919                        0                  0   \n",
       "\n",
       "        VehicleType_other  VehicleType_sedan  VehicleType_small  \\\n",
       "124401                  0                  0                  1   \n",
       "74446                   0                  0                  1   \n",
       "34416                   0                  0                  1   \n",
       "243794                  0                  1                  0   \n",
       "98152                   0                  0                  0   \n",
       "\n",
       "        VehicleType_suv  VehicleType_wagon  FuelType_electric  \\\n",
       "124401                0                  0                  0   \n",
       "74446                 0                  0                  0   \n",
       "34416                 0                  0                  0   \n",
       "243794                0                  0                  0   \n",
       "98152                 0                  1                  0   \n",
       "\n",
       "        FuelType_gasoline  FuelType_hybrid  FuelType_lpg  FuelType_other  \\\n",
       "124401                  0                0             0               0   \n",
       "74446                   0                0             0               0   \n",
       "34416                   0                0             0               0   \n",
       "243794                  1                0             0               0   \n",
       "98152                   0                0             0               0   \n",
       "\n",
       "        FuelType_petrol  \n",
       "124401                1  \n",
       "74446                 1  \n",
       "34416                 1  \n",
       "243794                0  \n",
       "98152                 1  "
      ]
     },
     "metadata": {},
     "output_type": "display_data"
    },
    {
     "data": {
      "text/html": [
       "<div>\n",
       "<style scoped>\n",
       "    .dataframe tbody tr th:only-of-type {\n",
       "        vertical-align: middle;\n",
       "    }\n",
       "\n",
       "    .dataframe tbody tr th {\n",
       "        vertical-align: top;\n",
       "    }\n",
       "\n",
       "    .dataframe thead th {\n",
       "        text-align: right;\n",
       "    }\n",
       "</style>\n",
       "<table border=\"1\" class=\"dataframe\">\n",
       "  <thead>\n",
       "    <tr style=\"text-align: right;\">\n",
       "      <th></th>\n",
       "      <th>RegistrationYear</th>\n",
       "      <th>Power</th>\n",
       "      <th>Kilometer</th>\n",
       "      <th>ManualGearbox</th>\n",
       "      <th>Restored</th>\n",
       "      <th>Enc_Brand</th>\n",
       "      <th>Enc_Model</th>\n",
       "      <th>VehicleType_convertible</th>\n",
       "      <th>VehicleType_coupe</th>\n",
       "      <th>VehicleType_other</th>\n",
       "      <th>VehicleType_sedan</th>\n",
       "      <th>VehicleType_small</th>\n",
       "      <th>VehicleType_suv</th>\n",
       "      <th>VehicleType_wagon</th>\n",
       "      <th>FuelType_electric</th>\n",
       "      <th>FuelType_gasoline</th>\n",
       "      <th>FuelType_hybrid</th>\n",
       "      <th>FuelType_lpg</th>\n",
       "      <th>FuelType_other</th>\n",
       "      <th>FuelType_petrol</th>\n",
       "    </tr>\n",
       "  </thead>\n",
       "  <tbody>\n",
       "    <tr>\n",
       "      <th>238564</th>\n",
       "      <td>0.847004</td>\n",
       "      <td>0.896961</td>\n",
       "      <td>0.613573</td>\n",
       "      <td>0</td>\n",
       "      <td>0</td>\n",
       "      <td>0.692110</td>\n",
       "      <td>0.583524</td>\n",
       "      <td>0</td>\n",
       "      <td>1</td>\n",
       "      <td>0</td>\n",
       "      <td>0</td>\n",
       "      <td>0</td>\n",
       "      <td>0</td>\n",
       "      <td>0</td>\n",
       "      <td>0</td>\n",
       "      <td>0</td>\n",
       "      <td>0</td>\n",
       "      <td>0</td>\n",
       "      <td>0</td>\n",
       "      <td>1</td>\n",
       "    </tr>\n",
       "    <tr>\n",
       "      <th>174863</th>\n",
       "      <td>-0.876861</td>\n",
       "      <td>-0.258141</td>\n",
       "      <td>0.613573</td>\n",
       "      <td>1</td>\n",
       "      <td>0</td>\n",
       "      <td>0.937724</td>\n",
       "      <td>0.934312</td>\n",
       "      <td>1</td>\n",
       "      <td>0</td>\n",
       "      <td>0</td>\n",
       "      <td>0</td>\n",
       "      <td>0</td>\n",
       "      <td>0</td>\n",
       "      <td>0</td>\n",
       "      <td>0</td>\n",
       "      <td>0</td>\n",
       "      <td>0</td>\n",
       "      <td>0</td>\n",
       "      <td>0</td>\n",
       "      <td>1</td>\n",
       "    </tr>\n",
       "    <tr>\n",
       "      <th>205280</th>\n",
       "      <td>-0.406716</td>\n",
       "      <td>-0.593493</td>\n",
       "      <td>0.613573</td>\n",
       "      <td>1</td>\n",
       "      <td>0</td>\n",
       "      <td>0.891222</td>\n",
       "      <td>0.950963</td>\n",
       "      <td>0</td>\n",
       "      <td>0</td>\n",
       "      <td>0</td>\n",
       "      <td>0</td>\n",
       "      <td>1</td>\n",
       "      <td>0</td>\n",
       "      <td>0</td>\n",
       "      <td>0</td>\n",
       "      <td>0</td>\n",
       "      <td>0</td>\n",
       "      <td>0</td>\n",
       "      <td>0</td>\n",
       "      <td>1</td>\n",
       "    </tr>\n",
       "    <tr>\n",
       "      <th>128017</th>\n",
       "      <td>0.533574</td>\n",
       "      <td>1.903018</td>\n",
       "      <td>0.613573</td>\n",
       "      <td>0</td>\n",
       "      <td>0</td>\n",
       "      <td>0.864954</td>\n",
       "      <td>0.187500</td>\n",
       "      <td>0</td>\n",
       "      <td>0</td>\n",
       "      <td>0</td>\n",
       "      <td>0</td>\n",
       "      <td>0</td>\n",
       "      <td>1</td>\n",
       "      <td>0</td>\n",
       "      <td>0</td>\n",
       "      <td>1</td>\n",
       "      <td>0</td>\n",
       "      <td>0</td>\n",
       "      <td>0</td>\n",
       "      <td>0</td>\n",
       "    </tr>\n",
       "    <tr>\n",
       "      <th>1771</th>\n",
       "      <td>0.847004</td>\n",
       "      <td>0.393933</td>\n",
       "      <td>0.613573</td>\n",
       "      <td>1</td>\n",
       "      <td>0</td>\n",
       "      <td>0.692110</td>\n",
       "      <td>0.742147</td>\n",
       "      <td>0</td>\n",
       "      <td>0</td>\n",
       "      <td>0</td>\n",
       "      <td>0</td>\n",
       "      <td>0</td>\n",
       "      <td>0</td>\n",
       "      <td>1</td>\n",
       "      <td>0</td>\n",
       "      <td>0</td>\n",
       "      <td>0</td>\n",
       "      <td>0</td>\n",
       "      <td>0</td>\n",
       "      <td>1</td>\n",
       "    </tr>\n",
       "  </tbody>\n",
       "</table>\n",
       "</div>"
      ],
      "text/plain": [
       "        RegistrationYear     Power  Kilometer  ManualGearbox  Restored  \\\n",
       "238564          0.847004  0.896961   0.613573              0         0   \n",
       "174863         -0.876861 -0.258141   0.613573              1         0   \n",
       "205280         -0.406716 -0.593493   0.613573              1         0   \n",
       "128017          0.533574  1.903018   0.613573              0         0   \n",
       "1771            0.847004  0.393933   0.613573              1         0   \n",
       "\n",
       "        Enc_Brand  Enc_Model  VehicleType_convertible  VehicleType_coupe  \\\n",
       "238564   0.692110   0.583524                        0                  1   \n",
       "174863   0.937724   0.934312                        1                  0   \n",
       "205280   0.891222   0.950963                        0                  0   \n",
       "128017   0.864954   0.187500                        0                  0   \n",
       "1771     0.692110   0.742147                        0                  0   \n",
       "\n",
       "        VehicleType_other  VehicleType_sedan  VehicleType_small  \\\n",
       "238564                  0                  0                  0   \n",
       "174863                  0                  0                  0   \n",
       "205280                  0                  0                  1   \n",
       "128017                  0                  0                  0   \n",
       "1771                    0                  0                  0   \n",
       "\n",
       "        VehicleType_suv  VehicleType_wagon  FuelType_electric  \\\n",
       "238564                0                  0                  0   \n",
       "174863                0                  0                  0   \n",
       "205280                0                  0                  0   \n",
       "128017                1                  0                  0   \n",
       "1771                  0                  1                  0   \n",
       "\n",
       "        FuelType_gasoline  FuelType_hybrid  FuelType_lpg  FuelType_other  \\\n",
       "238564                  0                0             0               0   \n",
       "174863                  0                0             0               0   \n",
       "205280                  0                0             0               0   \n",
       "128017                  1                0             0               0   \n",
       "1771                    0                0             0               0   \n",
       "\n",
       "        FuelType_petrol  \n",
       "238564                1  \n",
       "174863                1  \n",
       "205280                1  \n",
       "128017                0  \n",
       "1771                  1  "
      ]
     },
     "metadata": {},
     "output_type": "display_data"
    }
   ],
   "source": [
    "columns = ['VehicleType','FuelType']\n",
    "encod_features_train = ohe_enc(encod_features_train, 'VehicleType')\n",
    "encod_features_test = ohe_enc(encod_features_test, 'VehicleType')\n",
    "encod_features_train = ohe_enc(encod_features_train, 'FuelType')\n",
    "encod_features_test = ohe_enc(encod_features_test, 'FuelType')\n",
    "\n",
    "display(encod_features_train.head(5))\n",
    "display(encod_features_test.head(5))"
   ]
  },
  {
   "cell_type": "markdown",
   "metadata": {},
   "source": [
    "### Подготовка моделей и проведение испытаний"
   ]
  },
  {
   "cell_type": "markdown",
   "metadata": {},
   "source": [
    "#### Линейная регрессия"
   ]
  },
  {
   "cell_type": "code",
   "execution_count": 64,
   "metadata": {},
   "outputs": [
    {
     "name": "stdout",
     "output_type": "stream",
     "text": [
      "# Train LR for root_mean_squared_error\n",
      "\n",
      "Mean RMSE from CV of LinearRegression on ordianl encoding features = 2895.4698776401883\n",
      "CPU times: user 692 ms, sys: 767 ms, total: 1.46 s\n",
      "Wall time: 1.36 s\n"
     ]
    }
   ],
   "source": [
    "%%time\n",
    "\n",
    "regressor = LinearRegression()\n",
    "print('# Train LR for root_mean_squared_error')\n",
    "print()\n",
    "cv_rmse_lr = (cross_val_score(regressor, \n",
    "                             encod_features_train, \n",
    "                             target_train, \n",
    "                             cv=5, \n",
    "                             scoring='neg_mean_squared_error').mean() * -1) ** 0.5\n",
    "print('Mean RMSE from CV of LinearRegression on ordianl encoding features =', cv_rmse_lr)"
   ]
  },
  {
   "cell_type": "code",
   "execution_count": 65,
   "metadata": {},
   "outputs": [
    {
     "name": "stdout",
     "output_type": "stream",
     "text": [
      "#Train LR scalled features for root_mean_squared_error\n",
      "\n",
      "Mean RMSE from CV of LinearRegression on one-hot encoding scalled features = 2895.4698776401883\n",
      "CPU times: user 978 ms, sys: 850 ms, total: 1.83 s\n",
      "Wall time: 1.78 s\n"
     ]
    }
   ],
   "source": [
    "%%time\n",
    "\n",
    "# попробуем масштабирование признаков\n",
    "regressor = LinearRegression()\n",
    "scaller = StandardScaler()\n",
    "pipeline = Pipeline([(\"standard_scaller\", scaller),(\"linear_regression\", regressor)])\n",
    "print('#Train LR scalled features for root_mean_squared_error')\n",
    "print()\n",
    "cv_rmse_lr_s = (cross_val_score(pipeline,\n",
    "                                encod_features_train, \n",
    "                                target_train, \n",
    "                                cv=5, \n",
    "                                scoring='neg_mean_squared_error').mean() * -1) ** 0.5\n",
    "print('Mean RMSE from CV of LinearRegression on one-hot encoding scalled features =', cv_rmse_lr_s)"
   ]
  },
  {
   "cell_type": "markdown",
   "metadata": {},
   "source": [
    "##### Вывод  \n",
    "Масштабирование не повлияло на результат предсказаний, но потребовало на 0.18 секунды больше времени."
   ]
  },
  {
   "cell_type": "markdown",
   "metadata": {},
   "source": [
    "#### Решающее дерево"
   ]
  },
  {
   "cell_type": "code",
   "execution_count": 66,
   "metadata": {},
   "outputs": [
    {
     "name": "stdout",
     "output_type": "stream",
     "text": [
      "# Tuning hyper-parameters of DecissionTree model for root_mean_squared_error\n",
      "\n",
      "Best parameters set found on development set:\n",
      "\n",
      "{'criterion': 'mse', 'max_depth': 14, 'random_state': 12345}\n",
      "\n",
      "Grid scores on development set:\n",
      "\n",
      "3156.25 for {'criterion': 'mse', 'max_depth': 2, 'random_state': 12345}\n",
      "2804.58 for {'criterion': 'mse', 'max_depth': 3, 'random_state': 12345}\n",
      "2543.08 for {'criterion': 'mse', 'max_depth': 4, 'random_state': 12345}\n",
      "2377.45 for {'criterion': 'mse', 'max_depth': 5, 'random_state': 12345}\n",
      "2258.36 for {'criterion': 'mse', 'max_depth': 6, 'random_state': 12345}\n",
      "2158.14 for {'criterion': 'mse', 'max_depth': 7, 'random_state': 12345}\n",
      "2072.35 for {'criterion': 'mse', 'max_depth': 8, 'random_state': 12345}\n",
      "2002.37 for {'criterion': 'mse', 'max_depth': 9, 'random_state': 12345}\n",
      "1945.06 for {'criterion': 'mse', 'max_depth': 10, 'random_state': 12345}\n",
      "1909.84 for {'criterion': 'mse', 'max_depth': 11, 'random_state': 12345}\n",
      "1882.28 for {'criterion': 'mse', 'max_depth': 12, 'random_state': 12345}\n",
      "1877.74 for {'criterion': 'mse', 'max_depth': 13, 'random_state': 12345}\n",
      "1872.00 for {'criterion': 'mse', 'max_depth': 14, 'random_state': 12345}\n",
      "1880.68 for {'criterion': 'mse', 'max_depth': 15, 'random_state': 12345}\n",
      "1900.32 for {'criterion': 'mse', 'max_depth': 16, 'random_state': 12345}\n",
      "1921.41 for {'criterion': 'mse', 'max_depth': 17, 'random_state': 12345}\n",
      "1943.41 for {'criterion': 'mse', 'max_depth': 18, 'random_state': 12345}\n",
      "1952.93 for {'criterion': 'mse', 'max_depth': 19, 'random_state': 12345}\n",
      "\n",
      "1871.9988307781573\n",
      "CPU times: user 35.6 s, sys: 42.1 ms, total: 35.6 s\n",
      "Wall time: 39.4 s\n"
     ]
    }
   ],
   "source": [
    "%%time\n",
    "\n",
    "regressor = DecisionTreeRegressor() \n",
    "max_depth_list = [x for x in range(2, 20)] # однострочный цикл для значений в указанном диапазоне\n",
    "hyperparams = [{'criterion':['mse'], \n",
    "                'max_depth':max_depth_list, \n",
    "                'random_state':[12345]}]\n",
    "\n",
    "# подбираем гиперпараметры модели\n",
    "print('# Tuning hyper-parameters of DecissionTree model for root_mean_squared_error')\n",
    "print()\n",
    "clf = GridSearchCV(regressor, hyperparams, scoring='neg_mean_squared_error')\n",
    "clf.fit(encod_features_train, target_train)\n",
    "print(\"Best parameters set found on development set:\")\n",
    "print()\n",
    "print(clf.best_params_)\n",
    "print()\n",
    "print(\"Grid scores on development set:\")\n",
    "print()\n",
    "# будем запрашивать нужные нам переменные из clf\n",
    "mean_val = clf.cv_results_['mean_test_score']\n",
    "std_val = clf.cv_results_['std_test_score']\n",
    "for mean, std, params in zip(mean_val, std_val, clf.cv_results_['params']): # zip нужен для склеивания разных парамтеров в список\n",
    "    print(\"%0.2f for %r\"% ((mean*-1)** 0.5, params))\n",
    "print()\n",
    "\n",
    "cv_rmse_dtr = (max(mean_val)*-1) ** 0.5\n",
    "print(cv_rmse_dtr)"
   ]
  },
  {
   "cell_type": "markdown",
   "metadata": {},
   "source": [
    "##### Вывод  \n",
    "Лучший результат равен 1880.62, при параметрах {'criterion': 'mse', 'max_depth': 14, 'random_state': 12345}"
   ]
  },
  {
   "cell_type": "markdown",
   "metadata": {},
   "source": [
    "#### CatBoostRegressor"
   ]
  },
  {
   "cell_type": "markdown",
   "metadata": {},
   "source": [
    "Можно ознакомиться с материалами:  \n",
    "* https://habr.com/ru/companies/otus/articles/527554/\n",
    "* https://dzen.ru/media/id/5ee6f73b7cadb75a66e4c7e3/tiuning-catboost-gradientnogo-bustinga-ot-iandeks-60fbefbf3b939a51fa258d80"
   ]
  },
  {
   "cell_type": "code",
   "execution_count": 68,
   "metadata": {},
   "outputs": [
    {
     "name": "stdout",
     "output_type": "stream",
     "text": [
      "# Tuning hyper-parameters for root_mean_squared_error\n",
      "\n",
      "Best parameters set found on development set:\n",
      "\n",
      "{'learning_rate': 0.1, 'random_state': 12345, 'verbose': False}\n",
      "\n",
      "Grid scores on development set:\n",
      "\n",
      "1605.48 for {'learning_rate': 0.1, 'random_state': 12345, 'verbose': False}\n",
      "1606.77 for {'learning_rate': 0.5, 'random_state': 12345, 'verbose': False}\n",
      "1634.98 for {'learning_rate': 0.8, 'random_state': 12345, 'verbose': False}\n",
      "\n",
      "CPU times: user 5min 34s, sys: 1.57 s, total: 5min 35s\n",
      "Wall time: 5min 53s\n"
     ]
    }
   ],
   "source": [
    "%%time\n",
    "\n",
    "# Модель на закодированных данных\n",
    "\n",
    "regressor = CatBoostRegressor() \n",
    "hyperparams = [{'learning_rate':[0.1, 0.5, 0.8],\n",
    "                'random_state':[12345],\n",
    "                'verbose':[False]}]\n",
    "\n",
    "print('# Tuning hyper-parameters for root_mean_squared_error')\n",
    "print()\n",
    "clf = GridSearchCV(regressor, hyperparams, scoring='neg_mean_squared_error')\n",
    "clf.fit(encod_features_train, target_train)\n",
    "print(\"Best parameters set found on development set:\")\n",
    "print()\n",
    "print(clf.best_params_)\n",
    "print()\n",
    "print(\"Grid scores on development set:\")\n",
    "print()\n",
    "mean_val = clf.cv_results_['mean_test_score']\n",
    "std_val = clf.cv_results_['std_test_score']\n",
    "for mean, std, params in zip(mean_val, std_val, clf.cv_results_['params']):\n",
    "    print(\"%0.2f for %r\"% ((mean*-1)** 0.5, params))\n",
    "print()\n",
    "\n",
    "cv_rmse_cbr_encod = (max(mean_val)*-1) ** 0.5"
   ]
  },
  {
   "cell_type": "markdown",
   "metadata": {},
   "source": [
    "##### Вывод  \n",
    "Лучший показатель RMSE равен 1605.48 у модели, обученной на преобразованном пространстве признаков."
   ]
  },
  {
   "cell_type": "markdown",
   "metadata": {},
   "source": [
    "#### LGBM"
   ]
  },
  {
   "cell_type": "code",
   "execution_count": 67,
   "metadata": {},
   "outputs": [
    {
     "name": "stdout",
     "output_type": "stream",
     "text": [
      "# Tuning hyper-parameters for root_mean_squared_error\n",
      "\n",
      "Best parameters set found on development set:\n",
      "\n",
      "{'learning_rate': 0.3, 'num_leaves': 100, 'random_state': 12345}\n",
      "\n",
      "Grid scores on development set:\n",
      "\n",
      "1696.81 for {'learning_rate': 0.3, 'num_leaves': 11, 'random_state': 12345}\n",
      "1612.95 for {'learning_rate': 0.3, 'num_leaves': 50, 'random_state': 12345}\n",
      "1597.54 for {'learning_rate': 0.3, 'num_leaves': 100, 'random_state': 12345}\n",
      "\n",
      "CPU times: user 21min, sys: 3.91 s, total: 21min 3s\n",
      "Wall time: 21min 13s\n"
     ]
    }
   ],
   "source": [
    "%%time\n",
    "\n",
    "regressor = LGBMRegressor() \n",
    "hyperparams = [{'num_leaves':[11, 50, 100], \n",
    "                'learning_rate':[0.3],\n",
    "                'random_state':[12345]}]\n",
    "\n",
    "print('# Tuning hyper-parameters for root_mean_squared_error')\n",
    "print()\n",
    "clf = GridSearchCV(regressor, hyperparams, scoring='neg_mean_squared_error')\n",
    "clf.fit(encod_features_train, target_train)\n",
    "print(\"Best parameters set found on development set:\")\n",
    "print()\n",
    "print(clf.best_params_)\n",
    "print()\n",
    "print(\"Grid scores on development set:\")\n",
    "print()\n",
    "mean_val = clf.cv_results_['mean_test_score']\n",
    "std_val = clf.cv_results_['std_test_score']\n",
    "for mean, std, params in zip(mean_val, std_val, clf.cv_results_['params']):\n",
    "    print(\"%0.2f for %r\"% ((mean*-1)** 0.5, params))\n",
    "print()\n",
    "\n",
    "cv_rmse_lgbmr = (max(mean_val)*-1) ** 0.5"
   ]
  },
  {
   "cell_type": "markdown",
   "metadata": {},
   "source": [
    "##### Вывод  \n",
    "Наилучший показатель целевого параметра RMSE составляет 1615.76."
   ]
  },
  {
   "cell_type": "markdown",
   "metadata": {},
   "source": [
    "### Предсказание на лучших параметрах"
   ]
  },
  {
   "cell_type": "markdown",
   "metadata": {},
   "source": [
    "#### Линейная регрессия"
   ]
  },
  {
   "cell_type": "code",
   "execution_count": 57,
   "metadata": {},
   "outputs": [
    {
     "name": "stdout",
     "output_type": "stream",
     "text": [
      "CPU times: user 155 ms, sys: 55.1 ms, total: 211 ms\n",
      "Wall time: 161 ms\n"
     ]
    },
    {
     "data": {
      "text/plain": [
       "LinearRegression()"
      ]
     },
     "execution_count": 57,
     "metadata": {},
     "output_type": "execute_result"
    }
   ],
   "source": [
    "%%time\n",
    "\n",
    "model = LinearRegression()\n",
    "model.fit(encod_features_train, target_train)"
   ]
  },
  {
   "cell_type": "code",
   "execution_count": 58,
   "metadata": {},
   "outputs": [
    {
     "name": "stdout",
     "output_type": "stream",
     "text": [
      "CPU times: user 21.3 ms, sys: 19.6 ms, total: 41 ms\n",
      "Wall time: 90.9 ms\n"
     ]
    }
   ],
   "source": [
    "%%time\n",
    "\n",
    "target_predict = model.predict(encod_features_test)\n",
    "pred_rmse_lr = mean_squared_error(target_test, target_predict) ** 0.5"
   ]
  },
  {
   "cell_type": "markdown",
   "metadata": {},
   "source": [
    "#### Решающее дерево"
   ]
  },
  {
   "cell_type": "code",
   "execution_count": 59,
   "metadata": {},
   "outputs": [
    {
     "name": "stdout",
     "output_type": "stream",
     "text": [
      "CPU times: user 662 ms, sys: 66.8 ms, total: 729 ms\n",
      "Wall time: 790 ms\n"
     ]
    },
    {
     "data": {
      "text/plain": [
       "DecisionTreeRegressor(max_depth=14, random_state=12345)"
      ]
     },
     "execution_count": 59,
     "metadata": {},
     "output_type": "execute_result"
    }
   ],
   "source": [
    "%%time\n",
    "\n",
    "# Модель на принаках, закодированных по методу OHE\n",
    "model_dt = DecisionTreeRegressor(criterion='mse', \n",
    "                              max_depth=14, \n",
    "                              random_state=12345) \n",
    "model_dt.fit(encod_features_train, target_train)"
   ]
  },
  {
   "cell_type": "code",
   "execution_count": 60,
   "metadata": {},
   "outputs": [
    {
     "name": "stdout",
     "output_type": "stream",
     "text": [
      "CPU times: user 15 ms, sys: 16 µs, total: 15 ms\n",
      "Wall time: 14.1 ms\n"
     ]
    }
   ],
   "source": [
    "%%time\n",
    "target_predict = model_dt.predict(encod_features_test)\n",
    "pred_rmse_dtr = mean_squared_error(target_test, target_predict) ** 0.5 "
   ]
  },
  {
   "cell_type": "markdown",
   "metadata": {},
   "source": [
    "#### CatBoost"
   ]
  },
  {
   "cell_type": "code",
   "execution_count": 61,
   "metadata": {},
   "outputs": [
    {
     "name": "stdout",
     "output_type": "stream",
     "text": [
      "CPU times: user 24.5 s, sys: 100 ms, total: 24.6 s\n",
      "Wall time: 25.7 s\n"
     ]
    },
    {
     "data": {
      "text/plain": [
       "<catboost.core.CatBoostRegressor at 0x7f41fc05f9d0>"
      ]
     },
     "execution_count": 61,
     "metadata": {},
     "output_type": "execute_result"
    }
   ],
   "source": [
    "%%time\n",
    "\n",
    "model_cbr = CatBoostRegressor(learning_rate=0.1, \n",
    "                          random_state=12345, \n",
    "                          verbose=False) \n",
    "model_cbr.fit(encod_features_train, target_train)"
   ]
  },
  {
   "cell_type": "code",
   "execution_count": 62,
   "metadata": {},
   "outputs": [
    {
     "name": "stdout",
     "output_type": "stream",
     "text": [
      "CPU times: user 65.5 ms, sys: 782 µs, total: 66.3 ms\n",
      "Wall time: 64.6 ms\n"
     ]
    }
   ],
   "source": [
    "%%time\n",
    "\n",
    "target_predict = model_cbr.predict(encod_features_test)\n",
    "pred_rmse_cbr = mean_squared_error(target_test, target_predict) ** 0.5"
   ]
  },
  {
   "cell_type": "markdown",
   "metadata": {},
   "source": [
    "#### LGBM"
   ]
  },
  {
   "cell_type": "code",
   "execution_count": 54,
   "metadata": {},
   "outputs": [
    {
     "name": "stdout",
     "output_type": "stream",
     "text": [
      "CPU times: user 7min 12s, sys: 1.3 s, total: 7min 14s\n",
      "Wall time: 7min 16s\n"
     ]
    },
    {
     "data": {
      "text/plain": [
       "LGBMRegressor(learning_rate=0.3, num_leaves=100, random_state=12345)"
      ]
     },
     "execution_count": 54,
     "metadata": {},
     "output_type": "execute_result"
    }
   ],
   "source": [
    "%%time\n",
    "\n",
    "model_lgbm = LGBMRegressor(learning_rate=0.3, \n",
    "                      num_leaves=100, \n",
    "                      random_state=12345)\n",
    "model_lgbm.fit(encod_features_train, target_train)"
   ]
  },
  {
   "cell_type": "code",
   "execution_count": 55,
   "metadata": {},
   "outputs": [
    {
     "name": "stdout",
     "output_type": "stream",
     "text": [
      "CPU times: user 608 ms, sys: 0 ns, total: 608 ms\n",
      "Wall time: 577 ms\n"
     ]
    }
   ],
   "source": [
    "%%time\n",
    "\n",
    "target_predict = model_lgbm.predict(encod_features_test)\n",
    "pred_rmse_lgbm = mean_squared_error(target_test, target_predict) ** 0.5"
   ]
  },
  {
   "cell_type": "markdown",
   "metadata": {},
   "source": [
    "Все данные собраны, можно их собрать в единую таблицу для наглядности и сделать общий вывод."
   ]
  },
  {
   "cell_type": "markdown",
   "metadata": {},
   "source": [
    "## Анализ моделей"
   ]
  },
  {
   "cell_type": "code",
   "execution_count": 69,
   "metadata": {},
   "outputs": [
    {
     "data": {
      "text/html": [
       "<div>\n",
       "<style scoped>\n",
       "    .dataframe tbody tr th:only-of-type {\n",
       "        vertical-align: middle;\n",
       "    }\n",
       "\n",
       "    .dataframe tbody tr th {\n",
       "        vertical-align: top;\n",
       "    }\n",
       "\n",
       "    .dataframe thead th {\n",
       "        text-align: right;\n",
       "    }\n",
       "</style>\n",
       "<table border=\"1\" class=\"dataframe\">\n",
       "  <thead>\n",
       "    <tr style=\"text-align: right;\">\n",
       "      <th></th>\n",
       "      <th>RMSE на CV, евро</th>\n",
       "      <th>Время обучения на CV, сек</th>\n",
       "      <th>RMSE модели на тестовой выборке, евро</th>\n",
       "      <th>Время обучения модели, сек</th>\n",
       "      <th>Время предсказания модели, сек</th>\n",
       "    </tr>\n",
       "  </thead>\n",
       "  <tbody>\n",
       "    <tr>\n",
       "      <th>LinearRegression</th>\n",
       "      <td>2895.469878</td>\n",
       "      <td>1.67</td>\n",
       "      <td>2886.683622</td>\n",
       "      <td>0.199</td>\n",
       "      <td>0.016</td>\n",
       "    </tr>\n",
       "    <tr>\n",
       "      <th>DecisionTreeRegressor</th>\n",
       "      <td>1871.998831</td>\n",
       "      <td>32.20</td>\n",
       "      <td>1817.146673</td>\n",
       "      <td>0.532</td>\n",
       "      <td>0.015</td>\n",
       "    </tr>\n",
       "    <tr>\n",
       "      <th>CatBoostRegressor</th>\n",
       "      <td>1605.482966</td>\n",
       "      <td>305.00</td>\n",
       "      <td>1575.341884</td>\n",
       "      <td>22.700</td>\n",
       "      <td>0.059</td>\n",
       "    </tr>\n",
       "    <tr>\n",
       "      <th>LGBMRegressor</th>\n",
       "      <td>1597.544230</td>\n",
       "      <td>65.00</td>\n",
       "      <td>1561.063457</td>\n",
       "      <td>13.500</td>\n",
       "      <td>0.404</td>\n",
       "    </tr>\n",
       "  </tbody>\n",
       "</table>\n",
       "</div>"
      ],
      "text/plain": [
       "                       RMSE на CV, евро  Время обучения на CV, сек  \\\n",
       "LinearRegression            2895.469878                       1.67   \n",
       "DecisionTreeRegressor       1871.998831                      32.20   \n",
       "CatBoostRegressor           1605.482966                     305.00   \n",
       "LGBMRegressor               1597.544230                      65.00   \n",
       "\n",
       "                       RMSE модели на тестовой выборке, евро  \\\n",
       "LinearRegression                                 2886.683622   \n",
       "DecisionTreeRegressor                            1817.146673   \n",
       "CatBoostRegressor                                1575.341884   \n",
       "LGBMRegressor                                    1561.063457   \n",
       "\n",
       "                       Время обучения модели, сек  \\\n",
       "LinearRegression                            0.199   \n",
       "DecisionTreeRegressor                       0.532   \n",
       "CatBoostRegressor                          22.700   \n",
       "LGBMRegressor                              13.500   \n",
       "\n",
       "                       Время предсказания модели, сек  \n",
       "LinearRegression                                0.016  \n",
       "DecisionTreeRegressor                           0.015  \n",
       "CatBoostRegressor                               0.059  \n",
       "LGBMRegressor                                   0.404  "
      ]
     },
     "execution_count": 69,
     "metadata": {},
     "output_type": "execute_result"
    }
   ],
   "source": [
    "index = ['LinearRegression',\n",
    "         'DecisionTreeRegressor',\n",
    "         'CatBoostRegressor',\n",
    "         'LGBMRegressor']\n",
    "data = {'RMSE на CV, евро':[cv_rmse_lr,\n",
    "                            cv_rmse_dtr,\n",
    "                            cv_rmse_cbr_encod,\n",
    "                            cv_rmse_lgbmr],\n",
    "        'Время обучения на CV, сек':[1.67,\n",
    "                                     32.2,\n",
    "                                     305,\n",
    "                                     65],\n",
    "        'RMSE модели на тестовой выборке, евро':[pred_rmse_lr,\n",
    "                                                pred_rmse_dtr,\n",
    "                                                pred_rmse_cbr,\n",
    "                                                pred_rmse_lgbm],\n",
    "        'Время обучения модели, сек':[0.199,\n",
    "                                      0.532,\n",
    "                                      22.7,\n",
    "                                      13.5],\n",
    "        'Время предсказания модели, сек':[0.016,\n",
    "                                          0.015,\n",
    "                                          0.059,\n",
    "                                          0.404]}\n",
    "\n",
    "scores_table = pd.DataFrame(data=data, index=index)\n",
    "scores_table"
   ]
  },
  {
   "cell_type": "markdown",
   "metadata": {},
   "source": [
    "### Вывод  \n",
    "По таблице отчётливо видно, что наилучшими показателями обладают 2 модели: `CatBoost` и `LGBM`, но время, точность первой даже выше, можно считать, что целевому показателю RMSE она ближе всех к победе. Но по затрачиваемому времени на обучение она сильно уступает `LGBM`, практически в 2 раза.  \n",
    "**Рекомендую к использованию `CatBoost`**, так как по RMSE она точнее `LGBM`, также время на обучение требуется в 2 раза больше, но время предсказывания в 8 быстрее."
   ]
  },
  {
   "cell_type": "markdown",
   "metadata": {},
   "source": [
    "## Общие выводы по проекту  \n",
    "\n",
    "Перед нами стояла задача - построить модель для определения стоимости автомобиля, с лушими показателями качества предсказания, скорости и врмени обучения.  \n",
    "В нашем распоряжении были исторические данные: технические характеристики, комплектации и цены автомобилей.\n",
    "\n",
    "Мы использовали технологию градиетного бустинга в моделях `CatBoost Regressor` и `LightGBM Regressor`, и сравнили её с базовыми моделями `Linear Regression` и `DecisionTree Regressor`.\n",
    "\n",
    "По итогам качества и скорости обучения на тестовых данных - с небольшим отрывом от `CatBoost Regressor` побеждает модель `LightGBM Regressor`, но сильно уступает по скорости обучения, в скорости предсказания также лидирует `CatBoost Regressor`.  \n",
    "\n",
    "Лучший показатель работы модели по RMSE равен 1561.06 c временем обучения 13.5 с, временем предсказания 0.404 с.\n",
    "RMSE `CatBoost Regressor` 1575.34, время обучения 22.7 с, время предсказания 0.059с.\n",
    "\n",
    "Таким образом для компании \"Не бит, не крашен\" можем смело рекомендовать модель `CatBoostRegressor`, т.к. можно немного поступиться со скоростью обучения в пользу достижения скорости работы на новых данных при сохранении высоких показателей по качеству предсказания."
   ]
  }
 ],
 "metadata": {
  "ExecuteTimeLog": [
   {
    "duration": 1344,
    "start_time": "2023-05-16T18:43:04.016Z"
   },
   {
    "duration": 4,
    "start_time": "2023-05-16T18:43:39.264Z"
   },
   {
    "duration": 1334,
    "start_time": "2023-05-16T18:45:35.448Z"
   },
   {
    "duration": 300,
    "start_time": "2023-05-16T18:49:05.612Z"
   },
   {
    "duration": 138,
    "start_time": "2023-05-16T19:35:08.490Z"
   },
   {
    "duration": 235,
    "start_time": "2023-05-16T19:35:31.248Z"
   },
   {
    "duration": 515,
    "start_time": "2023-05-16T19:36:20.613Z"
   },
   {
    "duration": 216,
    "start_time": "2023-05-16T19:39:16.353Z"
   },
   {
    "duration": 255,
    "start_time": "2023-05-16T19:40:07.025Z"
   },
   {
    "duration": 280,
    "start_time": "2023-05-16T19:40:37.100Z"
   },
   {
    "duration": 449,
    "start_time": "2023-05-16T20:02:38.032Z"
   },
   {
    "duration": 496,
    "start_time": "2023-05-16T20:03:00.590Z"
   },
   {
    "duration": 1502,
    "start_time": "2023-05-18T17:56:22.620Z"
   },
   {
    "duration": 3892,
    "start_time": "2023-05-18T17:56:24.125Z"
   },
   {
    "duration": 240,
    "start_time": "2023-05-18T17:56:28.019Z"
   },
   {
    "duration": 699,
    "start_time": "2023-05-18T17:56:28.260Z"
   },
   {
    "duration": 570,
    "start_time": "2023-05-18T17:56:28.962Z"
   },
   {
    "duration": 1408,
    "start_time": "2023-05-18T18:12:32.919Z"
   },
   {
    "duration": 973,
    "start_time": "2023-05-18T18:12:34.330Z"
   },
   {
    "duration": 238,
    "start_time": "2023-05-18T18:12:35.305Z"
   },
   {
    "duration": 479,
    "start_time": "2023-05-18T18:12:35.545Z"
   },
   {
    "duration": 550,
    "start_time": "2023-05-18T18:12:36.026Z"
   },
   {
    "duration": 189,
    "start_time": "2023-05-18T19:14:01.377Z"
   },
   {
    "duration": 21,
    "start_time": "2023-05-18T19:17:18.823Z"
   },
   {
    "duration": 380,
    "start_time": "2023-05-18T19:19:49.569Z"
   },
   {
    "duration": 17,
    "start_time": "2023-05-18T19:21:10.925Z"
   },
   {
    "duration": 649,
    "start_time": "2023-05-18T19:21:16.223Z"
   },
   {
    "duration": 537,
    "start_time": "2023-05-18T19:21:35.673Z"
   },
   {
    "duration": 473,
    "start_time": "2023-05-18T19:21:49.658Z"
   },
   {
    "duration": 69,
    "start_time": "2023-05-18T19:22:34.142Z"
   },
   {
    "duration": 528,
    "start_time": "2023-05-18T19:22:40.548Z"
   },
   {
    "duration": 453,
    "start_time": "2023-05-18T19:23:11.681Z"
   },
   {
    "duration": 711,
    "start_time": "2023-05-18T19:23:20.094Z"
   },
   {
    "duration": 438,
    "start_time": "2023-05-18T19:39:34.315Z"
   },
   {
    "duration": 607,
    "start_time": "2023-05-18T19:40:58.924Z"
   },
   {
    "duration": 538,
    "start_time": "2023-05-18T19:41:14.329Z"
   },
   {
    "duration": 1737,
    "start_time": "2023-05-18T19:41:33.984Z"
   },
   {
    "duration": 2363,
    "start_time": "2023-05-18T19:41:35.724Z"
   },
   {
    "duration": 276,
    "start_time": "2023-05-18T19:41:38.093Z"
   },
   {
    "duration": 575,
    "start_time": "2023-05-18T19:41:38.371Z"
   },
   {
    "duration": 24,
    "start_time": "2023-05-18T19:41:38.949Z"
   },
   {
    "duration": 755,
    "start_time": "2023-05-18T19:41:38.975Z"
   },
   {
    "duration": 471,
    "start_time": "2023-05-18T19:41:39.732Z"
   },
   {
    "duration": 127,
    "start_time": "2023-05-18T20:10:08.659Z"
   },
   {
    "duration": 47,
    "start_time": "2023-05-18T20:10:21.026Z"
   },
   {
    "duration": 28,
    "start_time": "2023-05-18T20:10:40.768Z"
   },
   {
    "duration": 53,
    "start_time": "2023-05-18T20:11:09.660Z"
   },
   {
    "duration": 48,
    "start_time": "2023-05-18T20:11:57.505Z"
   },
   {
    "duration": 27,
    "start_time": "2023-05-18T20:12:32.348Z"
   },
   {
    "duration": 50,
    "start_time": "2023-05-18T20:12:42.526Z"
   },
   {
    "duration": 61,
    "start_time": "2023-05-18T20:14:14.634Z"
   },
   {
    "duration": 57,
    "start_time": "2023-05-18T20:14:37.685Z"
   },
   {
    "duration": 25,
    "start_time": "2023-05-18T20:15:12.353Z"
   },
   {
    "duration": 50,
    "start_time": "2023-05-18T20:15:23.693Z"
   },
   {
    "duration": 25,
    "start_time": "2023-05-18T20:19:33.500Z"
   },
   {
    "duration": 53,
    "start_time": "2023-05-18T20:19:38.995Z"
   },
   {
    "duration": 1666,
    "start_time": "2023-05-19T11:05:18.073Z"
   },
   {
    "duration": 3871,
    "start_time": "2023-05-19T11:05:19.741Z"
   },
   {
    "duration": 255,
    "start_time": "2023-05-19T11:05:23.614Z"
   },
   {
    "duration": 786,
    "start_time": "2023-05-19T11:05:23.878Z"
   },
   {
    "duration": 37,
    "start_time": "2023-05-19T11:05:24.666Z"
   },
   {
    "duration": 631,
    "start_time": "2023-05-19T11:05:24.705Z"
   },
   {
    "duration": 471,
    "start_time": "2023-05-19T11:05:25.338Z"
   },
   {
    "duration": 1235,
    "start_time": "2023-05-19T11:05:56.103Z"
   },
   {
    "duration": 42,
    "start_time": "2023-05-19T11:06:09.693Z"
   },
   {
    "duration": 36,
    "start_time": "2023-05-19T11:06:48.300Z"
   },
   {
    "duration": 1138,
    "start_time": "2023-05-19T11:16:21.538Z"
   },
   {
    "duration": 656,
    "start_time": "2023-05-19T11:17:02.975Z"
   },
   {
    "duration": 336,
    "start_time": "2023-05-19T11:21:44.894Z"
   },
   {
    "duration": 429,
    "start_time": "2023-05-19T11:21:48.588Z"
   },
   {
    "duration": 15,
    "start_time": "2023-05-19T11:27:34.565Z"
   },
   {
    "duration": 12,
    "start_time": "2023-05-19T11:27:44.573Z"
   },
   {
    "duration": 7,
    "start_time": "2023-05-19T11:28:26.854Z"
   },
   {
    "duration": 1466,
    "start_time": "2023-05-19T11:28:32.727Z"
   },
   {
    "duration": 912,
    "start_time": "2023-05-19T11:28:34.195Z"
   },
   {
    "duration": 231,
    "start_time": "2023-05-19T11:28:35.109Z"
   },
   {
    "duration": 288,
    "start_time": "2023-05-19T11:28:35.342Z"
   },
   {
    "duration": 27,
    "start_time": "2023-05-19T11:28:35.632Z"
   },
   {
    "duration": 598,
    "start_time": "2023-05-19T11:28:35.660Z"
   },
   {
    "duration": 351,
    "start_time": "2023-05-19T11:28:36.260Z"
   },
   {
    "duration": 406,
    "start_time": "2023-05-19T11:28:36.613Z"
   },
   {
    "duration": 0,
    "start_time": "2023-05-19T11:28:37.021Z"
   },
   {
    "duration": 355,
    "start_time": "2023-05-19T11:29:18.071Z"
   },
   {
    "duration": 304,
    "start_time": "2023-05-19T11:29:31.418Z"
   },
   {
    "duration": 284,
    "start_time": "2023-05-19T11:30:32.271Z"
   },
   {
    "duration": 277,
    "start_time": "2023-05-19T11:30:51.941Z"
   },
   {
    "duration": 287,
    "start_time": "2023-05-19T11:30:56.597Z"
   },
   {
    "duration": 353,
    "start_time": "2023-05-19T11:31:01.544Z"
   },
   {
    "duration": 395,
    "start_time": "2023-05-19T11:31:12.099Z"
   },
   {
    "duration": 381,
    "start_time": "2023-05-19T16:04:53.443Z"
   },
   {
    "duration": 247,
    "start_time": "2023-05-19T16:05:57.823Z"
   },
   {
    "duration": 283,
    "start_time": "2023-05-19T16:08:16.600Z"
   },
   {
    "duration": 408,
    "start_time": "2023-05-19T16:08:34.280Z"
   },
   {
    "duration": 389,
    "start_time": "2023-05-19T16:09:14.112Z"
   },
   {
    "duration": 17,
    "start_time": "2023-05-19T16:58:30.211Z"
   },
   {
    "duration": 17,
    "start_time": "2023-05-19T16:58:40.122Z"
   },
   {
    "duration": 48,
    "start_time": "2023-05-19T17:01:41.937Z"
   },
   {
    "duration": 30,
    "start_time": "2023-05-19T17:01:53.280Z"
   },
   {
    "duration": 51,
    "start_time": "2023-05-19T17:02:17.185Z"
   },
   {
    "duration": 54,
    "start_time": "2023-05-19T17:02:24.498Z"
   },
   {
    "duration": 56,
    "start_time": "2023-05-19T17:02:35.901Z"
   },
   {
    "duration": 56,
    "start_time": "2023-05-19T17:04:55.601Z"
   },
   {
    "duration": 54,
    "start_time": "2023-05-19T17:05:09.496Z"
   },
   {
    "duration": 55,
    "start_time": "2023-05-19T17:05:24.128Z"
   },
   {
    "duration": 26,
    "start_time": "2023-05-19T17:10:31.303Z"
   },
   {
    "duration": 272,
    "start_time": "2023-05-19T17:27:23.689Z"
   },
   {
    "duration": 426,
    "start_time": "2023-05-19T18:22:49.395Z"
   },
   {
    "duration": 32,
    "start_time": "2023-05-19T18:24:22.283Z"
   },
   {
    "duration": 11,
    "start_time": "2023-05-19T18:24:29.842Z"
   },
   {
    "duration": 37,
    "start_time": "2023-05-19T18:24:49.526Z"
   },
   {
    "duration": 14,
    "start_time": "2023-05-19T18:33:52.743Z"
   },
   {
    "duration": 14,
    "start_time": "2023-05-19T18:34:38.824Z"
   },
   {
    "duration": 8,
    "start_time": "2023-05-19T18:35:00.470Z"
   },
   {
    "duration": 8,
    "start_time": "2023-05-19T18:35:13.046Z"
   },
   {
    "duration": 9,
    "start_time": "2023-05-19T18:35:17.175Z"
   },
   {
    "duration": 9,
    "start_time": "2023-05-19T18:35:28.562Z"
   },
   {
    "duration": 10,
    "start_time": "2023-05-19T18:35:46.750Z"
   },
   {
    "duration": 10,
    "start_time": "2023-05-19T18:35:56.232Z"
   },
   {
    "duration": 9,
    "start_time": "2023-05-19T18:37:57.601Z"
   },
   {
    "duration": 8,
    "start_time": "2023-05-19T18:38:33.245Z"
   },
   {
    "duration": 262,
    "start_time": "2023-05-19T18:40:30.153Z"
   },
   {
    "duration": 257,
    "start_time": "2023-05-19T18:41:07.753Z"
   },
   {
    "duration": 277,
    "start_time": "2023-05-19T18:41:34.984Z"
   },
   {
    "duration": 424,
    "start_time": "2023-05-19T18:44:14.745Z"
   },
   {
    "duration": 67,
    "start_time": "2023-05-19T19:01:26.895Z"
   },
   {
    "duration": 63,
    "start_time": "2023-05-19T19:03:22.886Z"
   },
   {
    "duration": 5,
    "start_time": "2023-05-19T19:27:24.295Z"
   },
   {
    "duration": 4,
    "start_time": "2023-05-19T19:27:42.431Z"
   },
   {
    "duration": 11,
    "start_time": "2023-05-19T19:28:17.778Z"
   },
   {
    "duration": 191,
    "start_time": "2023-05-19T20:17:22.944Z"
   },
   {
    "duration": 35,
    "start_time": "2023-05-19T20:18:22.900Z"
   },
   {
    "duration": 769,
    "start_time": "2023-05-19T20:20:44.158Z"
   },
   {
    "duration": 32,
    "start_time": "2023-05-19T20:21:04.584Z"
   },
   {
    "duration": 34,
    "start_time": "2023-05-19T20:22:44.259Z"
   },
   {
    "duration": 105,
    "start_time": "2023-05-19T20:26:20.403Z"
   },
   {
    "duration": 91,
    "start_time": "2023-05-19T20:26:36.715Z"
   },
   {
    "duration": 271,
    "start_time": "2023-05-19T20:27:04.883Z"
   },
   {
    "duration": 857,
    "start_time": "2023-05-19T20:28:01.500Z"
   },
   {
    "duration": 30,
    "start_time": "2023-05-19T20:28:51.742Z"
   },
   {
    "duration": 20,
    "start_time": "2023-05-19T20:30:05.146Z"
   },
   {
    "duration": 29,
    "start_time": "2023-05-19T20:30:21.470Z"
   },
   {
    "duration": 32,
    "start_time": "2023-05-19T20:30:35.582Z"
   },
   {
    "duration": 32,
    "start_time": "2023-05-19T20:31:49.070Z"
   },
   {
    "duration": 24,
    "start_time": "2023-05-19T20:32:22.814Z"
   },
   {
    "duration": 1475,
    "start_time": "2023-05-19T20:33:50.546Z"
   },
   {
    "duration": 879,
    "start_time": "2023-05-19T20:33:52.023Z"
   },
   {
    "duration": 219,
    "start_time": "2023-05-19T20:33:52.904Z"
   },
   {
    "duration": 258,
    "start_time": "2023-05-19T20:33:53.125Z"
   },
   {
    "duration": 23,
    "start_time": "2023-05-19T20:33:53.385Z"
   },
   {
    "duration": 520,
    "start_time": "2023-05-19T20:33:53.410Z"
   },
   {
    "duration": 373,
    "start_time": "2023-05-19T20:33:53.932Z"
   },
   {
    "duration": 289,
    "start_time": "2023-05-19T20:33:54.307Z"
   },
   {
    "duration": 58,
    "start_time": "2023-05-19T20:33:54.598Z"
   },
   {
    "duration": 43,
    "start_time": "2023-05-19T20:33:54.659Z"
   },
   {
    "duration": 368,
    "start_time": "2023-05-19T20:33:54.704Z"
   },
   {
    "duration": 386,
    "start_time": "2023-05-19T20:33:55.078Z"
   },
   {
    "duration": 297,
    "start_time": "2023-05-19T20:33:55.466Z"
   },
   {
    "duration": 32,
    "start_time": "2023-05-19T20:33:55.765Z"
   },
   {
    "duration": 8,
    "start_time": "2023-05-19T20:33:55.799Z"
   },
   {
    "duration": 440,
    "start_time": "2023-05-19T20:33:55.809Z"
   },
   {
    "duration": 33,
    "start_time": "2023-05-19T20:33:56.251Z"
   },
   {
    "duration": 26,
    "start_time": "2023-05-19T20:33:56.286Z"
   },
   {
    "duration": 35,
    "start_time": "2023-05-19T20:33:56.314Z"
   },
   {
    "duration": 47,
    "start_time": "2023-05-19T20:33:56.351Z"
   },
   {
    "duration": 109,
    "start_time": "2023-05-19T20:33:56.400Z"
   },
   {
    "duration": 24,
    "start_time": "2023-05-19T20:34:38.586Z"
   },
   {
    "duration": 1345,
    "start_time": "2023-05-19T20:36:13.391Z"
   },
   {
    "duration": 855,
    "start_time": "2023-05-19T20:36:14.738Z"
   },
   {
    "duration": 240,
    "start_time": "2023-05-19T20:36:15.595Z"
   },
   {
    "duration": 287,
    "start_time": "2023-05-19T20:36:15.837Z"
   },
   {
    "duration": 25,
    "start_time": "2023-05-19T20:36:16.126Z"
   },
   {
    "duration": 586,
    "start_time": "2023-05-19T20:36:16.152Z"
   },
   {
    "duration": 361,
    "start_time": "2023-05-19T20:36:16.741Z"
   },
   {
    "duration": 287,
    "start_time": "2023-05-19T20:36:17.105Z"
   },
   {
    "duration": 64,
    "start_time": "2023-05-19T20:36:17.394Z"
   },
   {
    "duration": 31,
    "start_time": "2023-05-19T20:36:17.477Z"
   },
   {
    "duration": 367,
    "start_time": "2023-05-19T20:36:17.510Z"
   },
   {
    "duration": 338,
    "start_time": "2023-05-19T20:36:17.879Z"
   },
   {
    "duration": 270,
    "start_time": "2023-05-19T20:36:18.219Z"
   },
   {
    "duration": 28,
    "start_time": "2023-05-19T20:36:18.491Z"
   },
   {
    "duration": 9,
    "start_time": "2023-05-19T20:36:18.521Z"
   },
   {
    "duration": 427,
    "start_time": "2023-05-19T20:36:18.532Z"
   },
   {
    "duration": 33,
    "start_time": "2023-05-19T20:36:18.961Z"
   },
   {
    "duration": 27,
    "start_time": "2023-05-19T20:36:18.996Z"
   },
   {
    "duration": 28,
    "start_time": "2023-05-19T20:36:19.025Z"
   },
   {
    "duration": 45,
    "start_time": "2023-05-19T20:36:19.055Z"
   },
   {
    "duration": 120,
    "start_time": "2023-05-19T20:36:19.102Z"
   },
   {
    "duration": 26,
    "start_time": "2023-05-19T20:36:19.224Z"
   },
   {
    "duration": 130,
    "start_time": "2023-05-19T21:37:15.661Z"
   },
   {
    "duration": 49,
    "start_time": "2023-05-19T21:37:26.179Z"
   },
   {
    "duration": 108,
    "start_time": "2023-05-19T21:39:23.650Z"
   },
   {
    "duration": 104,
    "start_time": "2023-05-19T21:41:01.991Z"
   },
   {
    "duration": 112,
    "start_time": "2023-05-19T21:41:29.996Z"
   },
   {
    "duration": 52,
    "start_time": "2023-05-19T21:42:18.242Z"
   },
   {
    "duration": 114,
    "start_time": "2023-05-19T21:42:48.888Z"
   },
   {
    "duration": 140,
    "start_time": "2023-05-19T21:42:57.315Z"
   },
   {
    "duration": 56,
    "start_time": "2023-05-20T07:43:37.105Z"
   },
   {
    "duration": 2043,
    "start_time": "2023-05-20T07:43:47.221Z"
   },
   {
    "duration": 1413,
    "start_time": "2023-05-20T07:43:49.266Z"
   },
   {
    "duration": 263,
    "start_time": "2023-05-20T07:43:50.682Z"
   },
   {
    "duration": 319,
    "start_time": "2023-05-20T07:43:50.947Z"
   },
   {
    "duration": 26,
    "start_time": "2023-05-20T07:43:51.271Z"
   },
   {
    "duration": 596,
    "start_time": "2023-05-20T07:43:51.299Z"
   },
   {
    "duration": 414,
    "start_time": "2023-05-20T07:43:51.897Z"
   },
   {
    "duration": 338,
    "start_time": "2023-05-20T07:43:52.313Z"
   },
   {
    "duration": 73,
    "start_time": "2023-05-20T07:43:52.653Z"
   },
   {
    "duration": 51,
    "start_time": "2023-05-20T07:43:52.728Z"
   },
   {
    "duration": 422,
    "start_time": "2023-05-20T07:43:52.782Z"
   },
   {
    "duration": 453,
    "start_time": "2023-05-20T07:43:53.206Z"
   },
   {
    "duration": 345,
    "start_time": "2023-05-20T07:43:53.660Z"
   },
   {
    "duration": 32,
    "start_time": "2023-05-20T07:43:54.007Z"
   },
   {
    "duration": 32,
    "start_time": "2023-05-20T07:43:54.041Z"
   },
   {
    "duration": 539,
    "start_time": "2023-05-20T07:43:54.075Z"
   },
   {
    "duration": 248,
    "start_time": "2023-05-20T07:43:54.617Z"
   },
   {
    "duration": 29,
    "start_time": "2023-05-20T07:43:54.887Z"
   },
   {
    "duration": 33,
    "start_time": "2023-05-20T07:43:54.918Z"
   },
   {
    "duration": 41,
    "start_time": "2023-05-20T07:43:54.953Z"
   },
   {
    "duration": 129,
    "start_time": "2023-05-20T07:43:54.997Z"
   },
   {
    "duration": 55,
    "start_time": "2023-05-20T07:43:55.128Z"
   },
   {
    "duration": 146,
    "start_time": "2023-05-20T07:43:55.185Z"
   },
   {
    "duration": 225,
    "start_time": "2023-05-20T07:44:41.569Z"
   },
   {
    "duration": 1619,
    "start_time": "2023-05-20T07:45:51.137Z"
   },
   {
    "duration": 1007,
    "start_time": "2023-05-20T07:45:52.759Z"
   },
   {
    "duration": 254,
    "start_time": "2023-05-20T07:45:53.770Z"
   },
   {
    "duration": 302,
    "start_time": "2023-05-20T07:45:54.027Z"
   },
   {
    "duration": 41,
    "start_time": "2023-05-20T07:45:54.331Z"
   },
   {
    "duration": 590,
    "start_time": "2023-05-20T07:45:54.374Z"
   },
   {
    "duration": 364,
    "start_time": "2023-05-20T07:45:54.966Z"
   },
   {
    "duration": 322,
    "start_time": "2023-05-20T07:45:55.332Z"
   },
   {
    "duration": 78,
    "start_time": "2023-05-20T07:45:55.657Z"
   },
   {
    "duration": 60,
    "start_time": "2023-05-20T07:45:55.740Z"
   },
   {
    "duration": 486,
    "start_time": "2023-05-20T07:45:55.803Z"
   },
   {
    "duration": 494,
    "start_time": "2023-05-20T07:45:56.291Z"
   },
   {
    "duration": 317,
    "start_time": "2023-05-20T07:45:56.787Z"
   },
   {
    "duration": 34,
    "start_time": "2023-05-20T07:45:57.106Z"
   },
   {
    "duration": 9,
    "start_time": "2023-05-20T07:45:57.143Z"
   },
   {
    "duration": 499,
    "start_time": "2023-05-20T07:45:57.172Z"
   },
   {
    "duration": 234,
    "start_time": "2023-05-20T07:45:57.672Z"
   },
   {
    "duration": 211,
    "start_time": "2023-05-20T07:45:57.909Z"
   },
   {
    "duration": 48,
    "start_time": "2023-05-20T07:45:58.122Z"
   },
   {
    "duration": 35,
    "start_time": "2023-05-20T07:45:58.173Z"
   },
   {
    "duration": 126,
    "start_time": "2023-05-20T07:45:58.210Z"
   },
   {
    "duration": 53,
    "start_time": "2023-05-20T07:45:58.338Z"
   },
   {
    "duration": 138,
    "start_time": "2023-05-20T07:45:58.393Z"
   },
   {
    "duration": 69,
    "start_time": "2023-05-20T07:48:38.771Z"
   },
   {
    "duration": 369,
    "start_time": "2023-05-20T07:48:54.666Z"
   },
   {
    "duration": 114,
    "start_time": "2023-05-20T08:19:34.627Z"
   },
   {
    "duration": 75,
    "start_time": "2023-05-22T17:31:31.897Z"
   },
   {
    "duration": 1703,
    "start_time": "2023-05-22T17:31:42.018Z"
   },
   {
    "duration": 1107,
    "start_time": "2023-05-22T17:31:43.725Z"
   },
   {
    "duration": 233,
    "start_time": "2023-05-22T17:31:44.833Z"
   },
   {
    "duration": 306,
    "start_time": "2023-05-22T17:31:45.068Z"
   },
   {
    "duration": 20,
    "start_time": "2023-05-22T17:31:45.376Z"
   },
   {
    "duration": 104,
    "start_time": "2023-05-22T17:31:45.398Z"
   },
   {
    "duration": 467,
    "start_time": "2023-05-22T17:31:45.504Z"
   },
   {
    "duration": 365,
    "start_time": "2023-05-22T17:31:45.973Z"
   },
   {
    "duration": 317,
    "start_time": "2023-05-22T17:31:46.340Z"
   },
   {
    "duration": 66,
    "start_time": "2023-05-22T17:31:46.659Z"
   },
   {
    "duration": 26,
    "start_time": "2023-05-22T17:31:46.726Z"
   },
   {
    "duration": 338,
    "start_time": "2023-05-22T17:31:46.754Z"
   },
   {
    "duration": 387,
    "start_time": "2023-05-22T17:31:47.095Z"
   },
   {
    "duration": 280,
    "start_time": "2023-05-22T17:31:47.485Z"
   },
   {
    "duration": 27,
    "start_time": "2023-05-22T17:31:47.766Z"
   },
   {
    "duration": 31,
    "start_time": "2023-05-22T17:31:47.795Z"
   },
   {
    "duration": 441,
    "start_time": "2023-05-22T17:31:47.829Z"
   },
   {
    "duration": 229,
    "start_time": "2023-05-22T17:31:48.272Z"
   },
   {
    "duration": 210,
    "start_time": "2023-05-22T17:31:48.502Z"
   },
   {
    "duration": 40,
    "start_time": "2023-05-22T17:31:48.713Z"
   },
   {
    "duration": 48,
    "start_time": "2023-05-22T17:31:48.755Z"
   },
   {
    "duration": 153,
    "start_time": "2023-05-22T17:31:48.805Z"
   },
   {
    "duration": 46,
    "start_time": "2023-05-22T17:31:48.959Z"
   },
   {
    "duration": 143,
    "start_time": "2023-05-22T17:31:49.007Z"
   },
   {
    "duration": 102,
    "start_time": "2023-05-22T17:38:38.099Z"
   },
   {
    "duration": 106,
    "start_time": "2023-05-22T17:41:04.356Z"
   },
   {
    "duration": 32,
    "start_time": "2023-05-22T17:48:56.113Z"
   },
   {
    "duration": 52426,
    "start_time": "2023-05-22T17:48:58.405Z"
   },
   {
    "duration": 18,
    "start_time": "2023-05-22T17:50:52.547Z"
   },
   {
    "duration": 66142,
    "start_time": "2023-05-22T17:50:54.522Z"
   },
   {
    "duration": 57,
    "start_time": "2023-05-22T19:51:11.867Z"
   },
   {
    "duration": 23,
    "start_time": "2023-05-22T19:51:21.397Z"
   },
   {
    "duration": 26,
    "start_time": "2023-05-22T19:52:27.041Z"
   },
   {
    "duration": 24,
    "start_time": "2023-05-22T19:56:18.809Z"
   },
   {
    "duration": 4670,
    "start_time": "2023-05-22T19:56:26.506Z"
   },
   {
    "duration": 2810,
    "start_time": "2023-05-22T19:57:51.786Z"
   },
   {
    "duration": 99,
    "start_time": "2023-05-22T19:58:23.906Z"
   },
   {
    "duration": 15,
    "start_time": "2023-05-22T19:58:44.922Z"
   },
   {
    "duration": 2680,
    "start_time": "2023-05-22T19:58:45.697Z"
   },
   {
    "duration": 2818,
    "start_time": "2023-05-22T19:59:58.632Z"
   },
   {
    "duration": 2875,
    "start_time": "2023-05-22T20:00:38.208Z"
   },
   {
    "duration": 2618,
    "start_time": "2023-05-22T20:01:11.970Z"
   },
   {
    "duration": 138,
    "start_time": "2023-05-22T20:04:13.898Z"
   },
   {
    "duration": 112,
    "start_time": "2023-05-22T20:09:02.564Z"
   },
   {
    "duration": 11,
    "start_time": "2023-05-22T20:09:03.824Z"
   },
   {
    "duration": 9,
    "start_time": "2023-05-22T20:09:20.793Z"
   },
   {
    "duration": 2608,
    "start_time": "2023-05-22T20:09:26.817Z"
   },
   {
    "duration": 2656,
    "start_time": "2023-05-22T20:09:52.145Z"
   },
   {
    "duration": 2670,
    "start_time": "2023-05-22T20:11:03.216Z"
   },
   {
    "duration": 2791,
    "start_time": "2023-05-22T20:11:25.161Z"
   },
   {
    "duration": 2656,
    "start_time": "2023-05-22T20:41:27.694Z"
   },
   {
    "duration": 2830,
    "start_time": "2023-05-22T20:46:33.557Z"
   },
   {
    "duration": 2754,
    "start_time": "2023-05-22T20:47:24.891Z"
   },
   {
    "duration": 2681,
    "start_time": "2023-05-22T20:49:46.021Z"
   },
   {
    "duration": 2650,
    "start_time": "2023-05-22T20:50:16.931Z"
   },
   {
    "duration": 2866,
    "start_time": "2023-05-22T20:50:23.773Z"
   },
   {
    "duration": 125,
    "start_time": "2023-05-22T20:50:29.615Z"
   },
   {
    "duration": 2899,
    "start_time": "2023-05-22T20:50:35.288Z"
   },
   {
    "duration": 76,
    "start_time": "2023-05-22T20:52:13.027Z"
   },
   {
    "duration": 2893,
    "start_time": "2023-05-22T20:56:54.242Z"
   },
   {
    "duration": 2841,
    "start_time": "2023-05-22T20:57:48.840Z"
   },
   {
    "duration": 1334,
    "start_time": "2023-05-22T20:58:49.856Z"
   },
   {
    "duration": 839,
    "start_time": "2023-05-22T20:58:51.192Z"
   },
   {
    "duration": 238,
    "start_time": "2023-05-22T20:58:52.032Z"
   },
   {
    "duration": 309,
    "start_time": "2023-05-22T20:58:52.272Z"
   },
   {
    "duration": 22,
    "start_time": "2023-05-22T20:58:52.583Z"
   },
   {
    "duration": 119,
    "start_time": "2023-05-22T20:58:52.607Z"
   },
   {
    "duration": 503,
    "start_time": "2023-05-22T20:58:52.727Z"
   },
   {
    "duration": 410,
    "start_time": "2023-05-22T20:58:53.232Z"
   },
   {
    "duration": 298,
    "start_time": "2023-05-22T20:58:53.643Z"
   },
   {
    "duration": 54,
    "start_time": "2023-05-22T20:58:53.943Z"
   },
   {
    "duration": 43,
    "start_time": "2023-05-22T20:58:53.999Z"
   },
   {
    "duration": 359,
    "start_time": "2023-05-22T20:58:54.043Z"
   },
   {
    "duration": 385,
    "start_time": "2023-05-22T20:58:54.404Z"
   },
   {
    "duration": 327,
    "start_time": "2023-05-22T20:58:54.792Z"
   },
   {
    "duration": 31,
    "start_time": "2023-05-22T20:58:55.120Z"
   },
   {
    "duration": 8,
    "start_time": "2023-05-22T20:58:55.152Z"
   },
   {
    "duration": 469,
    "start_time": "2023-05-22T20:58:55.162Z"
   },
   {
    "duration": 219,
    "start_time": "2023-05-22T20:58:55.633Z"
   },
   {
    "duration": 205,
    "start_time": "2023-05-22T20:58:55.854Z"
   },
   {
    "duration": 41,
    "start_time": "2023-05-22T20:58:56.062Z"
   },
   {
    "duration": 26,
    "start_time": "2023-05-22T20:58:56.124Z"
   },
   {
    "duration": 136,
    "start_time": "2023-05-22T20:58:56.152Z"
   },
   {
    "duration": 48,
    "start_time": "2023-05-22T20:58:56.290Z"
   },
   {
    "duration": 111,
    "start_time": "2023-05-22T20:58:56.340Z"
   },
   {
    "duration": 17,
    "start_time": "2023-05-22T20:58:56.453Z"
   },
   {
    "duration": 4905,
    "start_time": "2023-05-22T20:58:56.472Z"
   },
   {
    "duration": 149,
    "start_time": "2023-05-22T20:59:01.379Z"
   },
   {
    "duration": 6628,
    "start_time": "2023-05-22T20:59:01.530Z"
   },
   {
    "duration": 80,
    "start_time": "2023-05-22T20:59:08.159Z"
   },
   {
    "duration": 55,
    "start_time": "2023-05-22T21:00:36.824Z"
   },
   {
    "duration": 101,
    "start_time": "2023-05-22T21:00:41.493Z"
   },
   {
    "duration": 46,
    "start_time": "2023-05-22T21:01:05.190Z"
   },
   {
    "duration": 101,
    "start_time": "2023-05-22T21:01:08.425Z"
   },
   {
    "duration": 2821,
    "start_time": "2023-05-22T21:01:11.926Z"
   },
   {
    "duration": 88,
    "start_time": "2023-05-22T21:01:14.749Z"
   },
   {
    "duration": 1427,
    "start_time": "2023-05-22T21:01:36.397Z"
   },
   {
    "duration": 841,
    "start_time": "2023-05-22T21:01:37.827Z"
   },
   {
    "duration": 288,
    "start_time": "2023-05-22T21:01:38.671Z"
   },
   {
    "duration": 300,
    "start_time": "2023-05-22T21:01:38.962Z"
   },
   {
    "duration": 21,
    "start_time": "2023-05-22T21:01:39.263Z"
   },
   {
    "duration": 114,
    "start_time": "2023-05-22T21:01:39.288Z"
   },
   {
    "duration": 498,
    "start_time": "2023-05-22T21:01:39.404Z"
   },
   {
    "duration": 406,
    "start_time": "2023-05-22T21:01:39.904Z"
   },
   {
    "duration": 315,
    "start_time": "2023-05-22T21:01:40.312Z"
   },
   {
    "duration": 55,
    "start_time": "2023-05-22T21:01:40.630Z"
   },
   {
    "duration": 63,
    "start_time": "2023-05-22T21:01:40.686Z"
   },
   {
    "duration": 396,
    "start_time": "2023-05-22T21:01:40.751Z"
   },
   {
    "duration": 403,
    "start_time": "2023-05-22T21:01:41.148Z"
   },
   {
    "duration": 283,
    "start_time": "2023-05-22T21:01:41.553Z"
   },
   {
    "duration": 31,
    "start_time": "2023-05-22T21:01:41.838Z"
   },
   {
    "duration": 10,
    "start_time": "2023-05-22T21:01:41.870Z"
   },
   {
    "duration": 463,
    "start_time": "2023-05-22T21:01:41.882Z"
   },
   {
    "duration": 254,
    "start_time": "2023-05-22T21:01:42.347Z"
   },
   {
    "duration": 210,
    "start_time": "2023-05-22T21:01:42.603Z"
   },
   {
    "duration": 34,
    "start_time": "2023-05-22T21:01:42.815Z"
   },
   {
    "duration": 26,
    "start_time": "2023-05-22T21:01:42.851Z"
   },
   {
    "duration": 151,
    "start_time": "2023-05-22T21:01:42.879Z"
   },
   {
    "duration": 49,
    "start_time": "2023-05-22T21:01:43.031Z"
   },
   {
    "duration": 132,
    "start_time": "2023-05-22T21:01:43.081Z"
   },
   {
    "duration": 21,
    "start_time": "2023-05-22T21:01:43.215Z"
   },
   {
    "duration": 5040,
    "start_time": "2023-05-22T21:01:43.238Z"
   },
   {
    "duration": 59,
    "start_time": "2023-05-22T21:01:48.280Z"
   },
   {
    "duration": 123,
    "start_time": "2023-05-22T21:01:48.342Z"
   },
   {
    "duration": 4722,
    "start_time": "2023-05-22T21:01:48.467Z"
   },
   {
    "duration": 88,
    "start_time": "2023-05-22T21:01:53.190Z"
   },
   {
    "duration": 1638,
    "start_time": "2023-05-23T17:57:14.745Z"
   },
   {
    "duration": 2775,
    "start_time": "2023-05-23T17:57:16.385Z"
   },
   {
    "duration": 249,
    "start_time": "2023-05-23T17:57:19.162Z"
   },
   {
    "duration": 272,
    "start_time": "2023-05-23T17:57:19.413Z"
   },
   {
    "duration": 20,
    "start_time": "2023-05-23T17:57:19.688Z"
   },
   {
    "duration": 91,
    "start_time": "2023-05-23T17:57:19.709Z"
   },
   {
    "duration": 422,
    "start_time": "2023-05-23T17:57:19.802Z"
   },
   {
    "duration": 356,
    "start_time": "2023-05-23T17:57:20.225Z"
   },
   {
    "duration": 270,
    "start_time": "2023-05-23T17:57:20.583Z"
   },
   {
    "duration": 59,
    "start_time": "2023-05-23T17:57:20.855Z"
   },
   {
    "duration": 29,
    "start_time": "2023-05-23T17:57:20.916Z"
   },
   {
    "duration": 350,
    "start_time": "2023-05-23T17:57:20.946Z"
   },
   {
    "duration": 352,
    "start_time": "2023-05-23T17:57:21.298Z"
   },
   {
    "duration": 295,
    "start_time": "2023-05-23T17:57:21.652Z"
   },
   {
    "duration": 38,
    "start_time": "2023-05-23T17:57:21.948Z"
   },
   {
    "duration": 8,
    "start_time": "2023-05-23T17:57:21.988Z"
   },
   {
    "duration": 393,
    "start_time": "2023-05-23T17:57:21.997Z"
   },
   {
    "duration": 192,
    "start_time": "2023-05-23T17:57:22.391Z"
   },
   {
    "duration": 165,
    "start_time": "2023-05-23T17:57:22.585Z"
   },
   {
    "duration": 37,
    "start_time": "2023-05-23T17:57:22.752Z"
   },
   {
    "duration": 25,
    "start_time": "2023-05-23T17:57:22.791Z"
   },
   {
    "duration": 113,
    "start_time": "2023-05-23T17:57:22.818Z"
   },
   {
    "duration": 49,
    "start_time": "2023-05-23T17:57:22.932Z"
   },
   {
    "duration": 106,
    "start_time": "2023-05-23T17:57:22.983Z"
   },
   {
    "duration": 15,
    "start_time": "2023-05-23T17:57:23.091Z"
   },
   {
    "duration": 4645,
    "start_time": "2023-05-23T17:57:23.108Z"
   },
   {
    "duration": 43,
    "start_time": "2023-05-23T17:57:27.754Z"
   },
   {
    "duration": 99,
    "start_time": "2023-05-23T17:57:27.798Z"
   },
   {
    "duration": 4448,
    "start_time": "2023-05-23T17:57:27.899Z"
   },
   {
    "duration": 62,
    "start_time": "2023-05-23T17:57:32.348Z"
   },
   {
    "duration": 117,
    "start_time": "2023-05-23T17:57:32.412Z"
   },
   {
    "duration": 281,
    "start_time": "2023-05-23T17:57:46.988Z"
   },
   {
    "duration": 411,
    "start_time": "2023-05-23T17:59:43.122Z"
   },
   {
    "duration": 262,
    "start_time": "2023-05-23T18:00:09.468Z"
   },
   {
    "duration": 380,
    "start_time": "2023-05-23T18:00:33.201Z"
   },
   {
    "duration": 315,
    "start_time": "2023-05-23T18:00:37.569Z"
   },
   {
    "duration": 313,
    "start_time": "2023-05-23T18:01:55.490Z"
   },
   {
    "duration": 339,
    "start_time": "2023-05-23T20:25:25.722Z"
   },
   {
    "duration": 319,
    "start_time": "2023-05-23T20:25:40.843Z"
   },
   {
    "duration": 305,
    "start_time": "2023-05-23T20:28:44.082Z"
   },
   {
    "duration": 518,
    "start_time": "2023-05-23T20:29:10.420Z"
   },
   {
    "duration": 343,
    "start_time": "2023-05-23T20:29:25.641Z"
   },
   {
    "duration": 54,
    "start_time": "2023-05-23T20:30:38.170Z"
   },
   {
    "duration": 53,
    "start_time": "2023-05-23T20:31:36.402Z"
   },
   {
    "duration": 60,
    "start_time": "2023-05-23T20:35:06.669Z"
   },
   {
    "duration": 65,
    "start_time": "2023-05-23T20:35:32.995Z"
   },
   {
    "duration": 64,
    "start_time": "2023-05-23T20:35:43.380Z"
   },
   {
    "duration": 70,
    "start_time": "2023-05-23T20:36:52.654Z"
   },
   {
    "duration": 164,
    "start_time": "2023-05-23T20:44:51.444Z"
   },
   {
    "duration": 43,
    "start_time": "2023-05-23T21:18:23.842Z"
   },
   {
    "duration": 48,
    "start_time": "2023-05-23T21:19:13.710Z"
   },
   {
    "duration": 41,
    "start_time": "2023-05-23T21:21:33.671Z"
   },
   {
    "duration": 48,
    "start_time": "2023-05-23T21:21:55.623Z"
   },
   {
    "duration": 66,
    "start_time": "2023-05-23T21:22:39.501Z"
   },
   {
    "duration": 72,
    "start_time": "2023-05-23T21:23:50.022Z"
   },
   {
    "duration": 51,
    "start_time": "2023-05-23T21:23:57.128Z"
   },
   {
    "duration": 17,
    "start_time": "2023-05-23T21:24:15.926Z"
   },
   {
    "duration": 1405,
    "start_time": "2023-05-23T21:24:35.208Z"
   },
   {
    "duration": 845,
    "start_time": "2023-05-23T21:24:36.616Z"
   },
   {
    "duration": 265,
    "start_time": "2023-05-23T21:24:37.464Z"
   },
   {
    "duration": 264,
    "start_time": "2023-05-23T21:24:37.731Z"
   },
   {
    "duration": 25,
    "start_time": "2023-05-23T21:24:37.997Z"
   },
   {
    "duration": 89,
    "start_time": "2023-05-23T21:24:38.024Z"
   },
   {
    "duration": 394,
    "start_time": "2023-05-23T21:24:38.114Z"
   },
   {
    "duration": 309,
    "start_time": "2023-05-23T21:24:38.510Z"
   },
   {
    "duration": 293,
    "start_time": "2023-05-23T21:24:38.821Z"
   },
   {
    "duration": 72,
    "start_time": "2023-05-23T21:24:39.116Z"
   },
   {
    "duration": 30,
    "start_time": "2023-05-23T21:24:39.190Z"
   },
   {
    "duration": 386,
    "start_time": "2023-05-23T21:24:39.222Z"
   },
   {
    "duration": 414,
    "start_time": "2023-05-23T21:24:39.610Z"
   },
   {
    "duration": 294,
    "start_time": "2023-05-23T21:24:40.026Z"
   },
   {
    "duration": 31,
    "start_time": "2023-05-23T21:24:40.321Z"
   },
   {
    "duration": 25,
    "start_time": "2023-05-23T21:24:40.353Z"
   },
   {
    "duration": 448,
    "start_time": "2023-05-23T21:24:40.380Z"
   },
   {
    "duration": 210,
    "start_time": "2023-05-23T21:24:40.830Z"
   },
   {
    "duration": 175,
    "start_time": "2023-05-23T21:24:41.042Z"
   },
   {
    "duration": 28,
    "start_time": "2023-05-23T21:24:41.219Z"
   },
   {
    "duration": 49,
    "start_time": "2023-05-23T21:24:41.248Z"
   },
   {
    "duration": 110,
    "start_time": "2023-05-23T21:24:41.299Z"
   },
   {
    "duration": 36,
    "start_time": "2023-05-23T21:24:41.411Z"
   },
   {
    "duration": 130,
    "start_time": "2023-05-23T21:24:41.449Z"
   },
   {
    "duration": 15,
    "start_time": "2023-05-23T21:24:41.580Z"
   },
   {
    "duration": 4756,
    "start_time": "2023-05-23T21:24:41.596Z"
   },
   {
    "duration": 46,
    "start_time": "2023-05-23T21:24:46.354Z"
   },
   {
    "duration": 116,
    "start_time": "2023-05-23T21:24:46.404Z"
   },
   {
    "duration": 4706,
    "start_time": "2023-05-23T21:24:46.522Z"
   },
   {
    "duration": 73,
    "start_time": "2023-05-23T21:24:51.230Z"
   },
   {
    "duration": 302,
    "start_time": "2023-05-23T21:24:51.305Z"
   },
   {
    "duration": 310,
    "start_time": "2023-05-23T21:24:51.609Z"
   },
   {
    "duration": 305,
    "start_time": "2023-05-23T21:24:51.921Z"
   },
   {
    "duration": 416,
    "start_time": "2023-05-23T21:24:52.228Z"
   },
   {
    "duration": 75,
    "start_time": "2023-05-23T21:24:52.646Z"
   },
   {
    "duration": 57,
    "start_time": "2023-05-23T21:24:52.722Z"
   },
   {
    "duration": 41,
    "start_time": "2023-05-23T21:24:52.781Z"
   },
   {
    "duration": 74,
    "start_time": "2023-05-23T21:24:52.824Z"
   },
   {
    "duration": 1690,
    "start_time": "2023-05-25T16:36:42.629Z"
   },
   {
    "duration": 2640,
    "start_time": "2023-05-25T16:36:44.321Z"
   },
   {
    "duration": 219,
    "start_time": "2023-05-25T16:36:46.963Z"
   },
   {
    "duration": 267,
    "start_time": "2023-05-25T16:36:47.184Z"
   },
   {
    "duration": 26,
    "start_time": "2023-05-25T16:36:47.453Z"
   },
   {
    "duration": 85,
    "start_time": "2023-05-25T16:36:47.481Z"
   },
   {
    "duration": 403,
    "start_time": "2023-05-25T16:36:47.567Z"
   },
   {
    "duration": 337,
    "start_time": "2023-05-25T16:36:47.972Z"
   },
   {
    "duration": 285,
    "start_time": "2023-05-25T16:36:48.311Z"
   },
   {
    "duration": 65,
    "start_time": "2023-05-25T16:36:48.599Z"
   },
   {
    "duration": 27,
    "start_time": "2023-05-25T16:36:48.666Z"
   },
   {
    "duration": 374,
    "start_time": "2023-05-25T16:36:48.694Z"
   },
   {
    "duration": 379,
    "start_time": "2023-05-25T16:36:49.070Z"
   },
   {
    "duration": 275,
    "start_time": "2023-05-25T16:36:49.457Z"
   },
   {
    "duration": 37,
    "start_time": "2023-05-25T16:36:49.734Z"
   },
   {
    "duration": 8,
    "start_time": "2023-05-25T16:36:49.773Z"
   },
   {
    "duration": 417,
    "start_time": "2023-05-25T16:36:49.782Z"
   },
   {
    "duration": 186,
    "start_time": "2023-05-25T16:36:50.200Z"
   },
   {
    "duration": 166,
    "start_time": "2023-05-25T16:36:50.387Z"
   },
   {
    "duration": 29,
    "start_time": "2023-05-25T16:36:50.557Z"
   },
   {
    "duration": 27,
    "start_time": "2023-05-25T16:36:50.588Z"
   },
   {
    "duration": 116,
    "start_time": "2023-05-25T16:36:50.616Z"
   },
   {
    "duration": 45,
    "start_time": "2023-05-25T16:36:50.734Z"
   },
   {
    "duration": 116,
    "start_time": "2023-05-25T16:36:50.781Z"
   },
   {
    "duration": 15,
    "start_time": "2023-05-25T16:36:50.899Z"
   },
   {
    "duration": 5225,
    "start_time": "2023-05-25T16:36:50.916Z"
   },
   {
    "duration": 50,
    "start_time": "2023-05-25T16:36:56.142Z"
   },
   {
    "duration": 131,
    "start_time": "2023-05-25T16:36:56.195Z"
   },
   {
    "duration": 4788,
    "start_time": "2023-05-25T16:36:56.328Z"
   },
   {
    "duration": 71,
    "start_time": "2023-05-25T16:37:01.118Z"
   },
   {
    "duration": 355,
    "start_time": "2023-05-25T16:37:01.191Z"
   },
   {
    "duration": 358,
    "start_time": "2023-05-25T16:37:01.547Z"
   },
   {
    "duration": 376,
    "start_time": "2023-05-25T16:37:01.906Z"
   },
   {
    "duration": 465,
    "start_time": "2023-05-25T16:37:02.284Z"
   },
   {
    "duration": 80,
    "start_time": "2023-05-25T16:37:02.756Z"
   },
   {
    "duration": 62,
    "start_time": "2023-05-25T16:37:02.838Z"
   },
   {
    "duration": 75,
    "start_time": "2023-05-25T16:37:02.901Z"
   },
   {
    "duration": 85,
    "start_time": "2023-05-25T16:37:02.978Z"
   },
   {
    "duration": 82,
    "start_time": "2023-05-25T17:03:30.275Z"
   },
   {
    "duration": 1628,
    "start_time": "2023-05-25T17:08:57.824Z"
   },
   {
    "duration": 875,
    "start_time": "2023-05-25T17:08:59.454Z"
   },
   {
    "duration": 240,
    "start_time": "2023-05-25T17:09:00.330Z"
   },
   {
    "duration": 341,
    "start_time": "2023-05-25T17:09:00.573Z"
   },
   {
    "duration": 27,
    "start_time": "2023-05-25T17:09:00.917Z"
   },
   {
    "duration": 206,
    "start_time": "2023-05-25T17:09:00.957Z"
   },
   {
    "duration": 525,
    "start_time": "2023-05-25T17:09:01.165Z"
   },
   {
    "duration": 369,
    "start_time": "2023-05-25T17:09:01.693Z"
   },
   {
    "duration": 377,
    "start_time": "2023-05-25T17:09:02.064Z"
   },
   {
    "duration": 63,
    "start_time": "2023-05-25T17:09:02.444Z"
   },
   {
    "duration": 49,
    "start_time": "2023-05-25T17:09:02.508Z"
   },
   {
    "duration": 383,
    "start_time": "2023-05-25T17:09:02.559Z"
   },
   {
    "duration": 412,
    "start_time": "2023-05-25T17:09:02.945Z"
   },
   {
    "duration": 325,
    "start_time": "2023-05-25T17:09:03.359Z"
   },
   {
    "duration": 43,
    "start_time": "2023-05-25T17:09:03.687Z"
   },
   {
    "duration": 31,
    "start_time": "2023-05-25T17:09:03.733Z"
   },
   {
    "duration": 549,
    "start_time": "2023-05-25T17:09:03.766Z"
   },
   {
    "duration": 199,
    "start_time": "2023-05-25T17:09:04.318Z"
   },
   {
    "duration": 176,
    "start_time": "2023-05-25T17:09:04.519Z"
   },
   {
    "duration": 29,
    "start_time": "2023-05-25T17:09:04.696Z"
   },
   {
    "duration": 52,
    "start_time": "2023-05-25T17:09:04.727Z"
   },
   {
    "duration": 114,
    "start_time": "2023-05-25T17:09:04.782Z"
   },
   {
    "duration": 62,
    "start_time": "2023-05-25T17:09:04.897Z"
   },
   {
    "duration": 122,
    "start_time": "2023-05-25T17:09:04.961Z"
   },
   {
    "duration": 14,
    "start_time": "2023-05-25T17:09:05.085Z"
   },
   {
    "duration": 5228,
    "start_time": "2023-05-25T17:09:05.101Z"
   },
   {
    "duration": 47,
    "start_time": "2023-05-25T17:09:10.331Z"
   },
   {
    "duration": 122,
    "start_time": "2023-05-25T17:09:10.383Z"
   },
   {
    "duration": 4964,
    "start_time": "2023-05-25T17:09:10.507Z"
   },
   {
    "duration": 64,
    "start_time": "2023-05-25T17:09:15.473Z"
   },
   {
    "duration": 347,
    "start_time": "2023-05-25T17:09:15.539Z"
   },
   {
    "duration": 348,
    "start_time": "2023-05-25T17:09:15.888Z"
   },
   {
    "duration": 351,
    "start_time": "2023-05-25T17:09:16.238Z"
   },
   {
    "duration": 474,
    "start_time": "2023-05-25T17:09:16.590Z"
   },
   {
    "duration": 91,
    "start_time": "2023-05-25T17:09:17.066Z"
   },
   {
    "duration": 45,
    "start_time": "2023-05-25T17:09:17.159Z"
   },
   {
    "duration": 66,
    "start_time": "2023-05-25T17:09:17.206Z"
   },
   {
    "duration": 157,
    "start_time": "2023-05-25T17:09:17.274Z"
   },
   {
    "duration": 172,
    "start_time": "2023-05-25T17:09:17.433Z"
   },
   {
    "duration": 148,
    "start_time": "2023-05-25T17:12:56.726Z"
   },
   {
    "duration": 139,
    "start_time": "2023-05-25T17:13:24.251Z"
   },
   {
    "duration": 177,
    "start_time": "2023-05-25T17:14:36.320Z"
   },
   {
    "duration": 43,
    "start_time": "2023-05-25T18:42:00.386Z"
   },
   {
    "duration": 7,
    "start_time": "2023-05-25T18:42:25.440Z"
   },
   {
    "duration": 1412,
    "start_time": "2023-05-25T18:42:35.923Z"
   },
   {
    "duration": 2931,
    "start_time": "2023-05-25T18:42:37.337Z"
   },
   {
    "duration": 180,
    "start_time": "2023-05-25T18:42:40.269Z"
   },
   {
    "duration": 229,
    "start_time": "2023-05-25T18:42:40.451Z"
   },
   {
    "duration": 26,
    "start_time": "2023-05-25T18:42:40.682Z"
   },
   {
    "duration": 66,
    "start_time": "2023-05-25T18:42:40.709Z"
   },
   {
    "duration": 392,
    "start_time": "2023-05-25T18:42:40.777Z"
   },
   {
    "duration": 306,
    "start_time": "2023-05-25T18:42:41.170Z"
   },
   {
    "duration": 245,
    "start_time": "2023-05-25T18:42:41.478Z"
   },
   {
    "duration": 46,
    "start_time": "2023-05-25T18:42:41.725Z"
   },
   {
    "duration": 38,
    "start_time": "2023-05-25T18:42:41.772Z"
   },
   {
    "duration": 303,
    "start_time": "2023-05-25T18:42:41.811Z"
   },
   {
    "duration": 319,
    "start_time": "2023-05-25T18:42:42.115Z"
   },
   {
    "duration": 331,
    "start_time": "2023-05-25T18:42:42.436Z"
   },
   {
    "duration": 23,
    "start_time": "2023-05-25T18:42:42.768Z"
   },
   {
    "duration": 17,
    "start_time": "2023-05-25T18:42:42.793Z"
   },
   {
    "duration": 344,
    "start_time": "2023-05-25T18:42:42.811Z"
   },
   {
    "duration": 174,
    "start_time": "2023-05-25T18:42:43.156Z"
   },
   {
    "duration": 156,
    "start_time": "2023-05-25T18:42:43.331Z"
   },
   {
    "duration": 29,
    "start_time": "2023-05-25T18:42:43.488Z"
   },
   {
    "duration": 23,
    "start_time": "2023-05-25T18:42:43.519Z"
   },
   {
    "duration": 101,
    "start_time": "2023-05-25T18:42:43.543Z"
   },
   {
    "duration": 34,
    "start_time": "2023-05-25T18:42:43.646Z"
   },
   {
    "duration": 109,
    "start_time": "2023-05-25T18:42:43.681Z"
   },
   {
    "duration": 17,
    "start_time": "2023-05-25T18:42:43.791Z"
   },
   {
    "duration": 4351,
    "start_time": "2023-05-25T18:42:43.810Z"
   },
   {
    "duration": 44,
    "start_time": "2023-05-25T18:42:48.163Z"
   },
   {
    "duration": 89,
    "start_time": "2023-05-25T18:42:48.210Z"
   },
   {
    "duration": 3975,
    "start_time": "2023-05-25T18:42:48.307Z"
   },
   {
    "duration": 62,
    "start_time": "2023-05-25T18:42:52.283Z"
   },
   {
    "duration": 329,
    "start_time": "2023-05-25T18:42:52.346Z"
   },
   {
    "duration": 290,
    "start_time": "2023-05-25T18:42:52.677Z"
   },
   {
    "duration": 292,
    "start_time": "2023-05-25T18:42:52.968Z"
   },
   {
    "duration": 393,
    "start_time": "2023-05-25T18:42:53.262Z"
   },
   {
    "duration": 81,
    "start_time": "2023-05-25T18:42:53.657Z"
   },
   {
    "duration": 40,
    "start_time": "2023-05-25T18:42:53.740Z"
   },
   {
    "duration": 55,
    "start_time": "2023-05-25T18:42:53.782Z"
   },
   {
    "duration": 153,
    "start_time": "2023-05-25T18:42:53.839Z"
   },
   {
    "duration": 151,
    "start_time": "2023-05-25T18:42:53.993Z"
   },
   {
    "duration": 673,
    "start_time": "2023-05-25T18:42:54.146Z"
   },
   {
    "duration": 667,
    "start_time": "2023-05-25T18:48:28.402Z"
   },
   {
    "duration": 338,
    "start_time": "2023-05-25T18:54:05.823Z"
   },
   {
    "duration": 312,
    "start_time": "2023-05-25T18:54:09.787Z"
   },
   {
    "duration": 102984,
    "start_time": "2023-05-25T18:58:28.227Z"
   },
   {
    "duration": 166,
    "start_time": "2023-05-25T19:07:06.279Z"
   },
   {
    "duration": 180,
    "start_time": "2023-05-25T19:07:12.375Z"
   },
   {
    "duration": 815,
    "start_time": "2023-05-25T19:07:41.906Z"
   },
   {
    "duration": 63875,
    "start_time": "2023-05-25T20:05:19.130Z"
   },
   {
    "duration": 29839,
    "start_time": "2023-05-25T20:07:29.913Z"
   },
   {
    "duration": 861,
    "start_time": "2023-05-25T20:09:25.258Z"
   },
   {
    "duration": 1338,
    "start_time": "2023-05-25T20:09:39.777Z"
   },
   {
    "duration": 729,
    "start_time": "2023-05-25T20:09:41.116Z"
   },
   {
    "duration": 219,
    "start_time": "2023-05-25T20:09:41.847Z"
   },
   {
    "duration": 234,
    "start_time": "2023-05-25T20:09:42.068Z"
   },
   {
    "duration": 20,
    "start_time": "2023-05-25T20:09:42.303Z"
   },
   {
    "duration": 81,
    "start_time": "2023-05-25T20:09:42.325Z"
   },
   {
    "duration": 446,
    "start_time": "2023-05-25T20:09:42.408Z"
   },
   {
    "duration": 332,
    "start_time": "2023-05-25T20:09:42.856Z"
   },
   {
    "duration": 256,
    "start_time": "2023-05-25T20:09:43.190Z"
   },
   {
    "duration": 47,
    "start_time": "2023-05-25T20:09:43.449Z"
   },
   {
    "duration": 27,
    "start_time": "2023-05-25T20:09:43.506Z"
   },
   {
    "duration": 332,
    "start_time": "2023-05-25T20:09:43.535Z"
   },
   {
    "duration": 359,
    "start_time": "2023-05-25T20:09:43.870Z"
   },
   {
    "duration": 253,
    "start_time": "2023-05-25T20:09:44.230Z"
   },
   {
    "duration": 28,
    "start_time": "2023-05-25T20:09:44.484Z"
   },
   {
    "duration": 8,
    "start_time": "2023-05-25T20:09:44.513Z"
   },
   {
    "duration": 367,
    "start_time": "2023-05-25T20:09:44.522Z"
   },
   {
    "duration": 171,
    "start_time": "2023-05-25T20:09:44.891Z"
   },
   {
    "duration": 154,
    "start_time": "2023-05-25T20:09:45.064Z"
   },
   {
    "duration": 24,
    "start_time": "2023-05-25T20:09:45.219Z"
   },
   {
    "duration": 25,
    "start_time": "2023-05-25T20:09:45.245Z"
   },
   {
    "duration": 104,
    "start_time": "2023-05-25T20:09:45.272Z"
   },
   {
    "duration": 40,
    "start_time": "2023-05-25T20:09:45.377Z"
   },
   {
    "duration": 101,
    "start_time": "2023-05-25T20:09:45.418Z"
   },
   {
    "duration": 13,
    "start_time": "2023-05-25T20:09:45.521Z"
   },
   {
    "duration": 4072,
    "start_time": "2023-05-25T20:09:45.535Z"
   },
   {
    "duration": 32,
    "start_time": "2023-05-25T20:09:49.608Z"
   },
   {
    "duration": 101,
    "start_time": "2023-05-25T20:09:49.643Z"
   },
   {
    "duration": 3998,
    "start_time": "2023-05-25T20:09:49.746Z"
   },
   {
    "duration": 62,
    "start_time": "2023-05-25T20:09:53.746Z"
   },
   {
    "duration": 273,
    "start_time": "2023-05-25T20:09:53.809Z"
   },
   {
    "duration": 316,
    "start_time": "2023-05-25T20:09:54.084Z"
   },
   {
    "duration": 295,
    "start_time": "2023-05-25T20:09:54.407Z"
   },
   {
    "duration": 401,
    "start_time": "2023-05-25T20:09:54.706Z"
   },
   {
    "duration": 72,
    "start_time": "2023-05-25T20:09:55.109Z"
   },
   {
    "duration": 52,
    "start_time": "2023-05-25T20:09:55.182Z"
   },
   {
    "duration": 38,
    "start_time": "2023-05-25T20:09:55.235Z"
   },
   {
    "duration": 146,
    "start_time": "2023-05-25T20:09:55.274Z"
   },
   {
    "duration": 151,
    "start_time": "2023-05-25T20:09:55.422Z"
   },
   {
    "duration": 683,
    "start_time": "2023-05-25T20:09:55.574Z"
   },
   {
    "duration": 350,
    "start_time": "2023-05-25T20:09:56.259Z"
   },
   {
    "duration": 809,
    "start_time": "2023-05-25T20:09:56.611Z"
   },
   {
    "duration": 63300,
    "start_time": "2023-05-25T20:09:57.421Z"
   },
   {
    "duration": 5,
    "start_time": "2023-05-25T20:11:52.391Z"
   },
   {
    "duration": 86792,
    "start_time": "2023-05-25T20:16:27.222Z"
   },
   {
    "duration": 73405,
    "start_time": "2023-05-25T21:11:05.206Z"
   },
   {
    "duration": 70950,
    "start_time": "2023-05-25T21:25:50.710Z"
   },
   {
    "duration": 69260,
    "start_time": "2023-05-25T21:35:49.799Z"
   },
   {
    "duration": 69007,
    "start_time": "2023-05-25T21:37:41.790Z"
   },
   {
    "duration": 68995,
    "start_time": "2023-05-25T21:46:15.653Z"
   },
   {
    "duration": 68872,
    "start_time": "2023-05-25T21:48:43.456Z"
   },
   {
    "duration": 69438,
    "start_time": "2023-05-25T21:51:39.353Z"
   },
   {
    "duration": 68764,
    "start_time": "2023-05-25T21:53:14.134Z"
   },
   {
    "duration": 6454,
    "start_time": "2023-05-25T21:59:57.568Z"
   },
   {
    "duration": 1607,
    "start_time": "2023-05-26T08:51:04.904Z"
   },
   {
    "duration": 3188,
    "start_time": "2023-05-26T08:51:06.513Z"
   },
   {
    "duration": 215,
    "start_time": "2023-05-26T08:51:09.703Z"
   },
   {
    "duration": 267,
    "start_time": "2023-05-26T08:51:09.920Z"
   },
   {
    "duration": 25,
    "start_time": "2023-05-26T08:51:10.189Z"
   },
   {
    "duration": 85,
    "start_time": "2023-05-26T08:51:10.215Z"
   },
   {
    "duration": 454,
    "start_time": "2023-05-26T08:51:10.302Z"
   },
   {
    "duration": 366,
    "start_time": "2023-05-26T08:51:10.757Z"
   },
   {
    "duration": 295,
    "start_time": "2023-05-26T08:51:11.125Z"
   },
   {
    "duration": 45,
    "start_time": "2023-05-26T08:51:11.422Z"
   },
   {
    "duration": 32,
    "start_time": "2023-05-26T08:51:11.478Z"
   },
   {
    "duration": 362,
    "start_time": "2023-05-26T08:51:11.512Z"
   },
   {
    "duration": 364,
    "start_time": "2023-05-26T08:51:11.876Z"
   },
   {
    "duration": 269,
    "start_time": "2023-05-26T08:51:12.243Z"
   },
   {
    "duration": 23,
    "start_time": "2023-05-26T08:51:12.514Z"
   },
   {
    "duration": 7,
    "start_time": "2023-05-26T08:51:12.539Z"
   },
   {
    "duration": 403,
    "start_time": "2023-05-26T08:51:12.547Z"
   },
   {
    "duration": 199,
    "start_time": "2023-05-26T08:51:12.951Z"
   },
   {
    "duration": 180,
    "start_time": "2023-05-26T08:51:13.152Z"
   },
   {
    "duration": 25,
    "start_time": "2023-05-26T08:51:13.334Z"
   },
   {
    "duration": 41,
    "start_time": "2023-05-26T08:51:13.361Z"
   },
   {
    "duration": 112,
    "start_time": "2023-05-26T08:51:13.404Z"
   },
   {
    "duration": 37,
    "start_time": "2023-05-26T08:51:13.518Z"
   },
   {
    "duration": 117,
    "start_time": "2023-05-26T08:51:13.556Z"
   },
   {
    "duration": 22,
    "start_time": "2023-05-26T08:51:13.674Z"
   },
   {
    "duration": 5005,
    "start_time": "2023-05-26T08:51:13.698Z"
   },
   {
    "duration": 36,
    "start_time": "2023-05-26T08:51:18.704Z"
   },
   {
    "duration": 116,
    "start_time": "2023-05-26T08:51:18.742Z"
   },
   {
    "duration": 4640,
    "start_time": "2023-05-26T08:51:18.859Z"
   },
   {
    "duration": 86,
    "start_time": "2023-05-26T08:51:23.503Z"
   },
   {
    "duration": 281,
    "start_time": "2023-05-26T08:51:23.592Z"
   },
   {
    "duration": 339,
    "start_time": "2023-05-26T08:51:23.875Z"
   },
   {
    "duration": 353,
    "start_time": "2023-05-26T08:51:24.215Z"
   },
   {
    "duration": 425,
    "start_time": "2023-05-26T08:51:24.569Z"
   },
   {
    "duration": 92,
    "start_time": "2023-05-26T08:51:24.995Z"
   },
   {
    "duration": 46,
    "start_time": "2023-05-26T08:51:25.090Z"
   },
   {
    "duration": 60,
    "start_time": "2023-05-26T08:51:25.138Z"
   },
   {
    "duration": 152,
    "start_time": "2023-05-26T08:51:25.199Z"
   },
   {
    "duration": 183,
    "start_time": "2023-05-26T08:51:25.353Z"
   },
   {
    "duration": 774,
    "start_time": "2023-05-26T08:51:25.537Z"
   },
   {
    "duration": 387,
    "start_time": "2023-05-26T08:51:26.315Z"
   },
   {
    "duration": 913,
    "start_time": "2023-05-26T08:51:26.704Z"
   },
   {
    "duration": 133198,
    "start_time": "2023-05-26T08:51:27.683Z"
   },
   {
    "duration": 148726,
    "start_time": "2023-05-26T08:53:40.892Z"
   },
   {
    "duration": 84626,
    "start_time": "2023-05-26T08:56:09.620Z"
   },
   {
    "duration": 7402,
    "start_time": "2023-05-26T08:57:34.247Z"
   },
   {
    "duration": 27432,
    "start_time": "2023-05-26T10:13:19.709Z"
   },
   {
    "duration": 24835,
    "start_time": "2023-05-26T10:21:12.726Z"
   },
   {
    "duration": 1364,
    "start_time": "2023-05-26T10:22:53.939Z"
   },
   {
    "duration": 761,
    "start_time": "2023-05-26T10:22:55.305Z"
   },
   {
    "duration": 208,
    "start_time": "2023-05-26T10:22:56.067Z"
   },
   {
    "duration": 259,
    "start_time": "2023-05-26T10:22:56.279Z"
   },
   {
    "duration": 19,
    "start_time": "2023-05-26T10:22:56.540Z"
   },
   {
    "duration": 86,
    "start_time": "2023-05-26T10:22:56.561Z"
   },
   {
    "duration": 415,
    "start_time": "2023-05-26T10:22:56.648Z"
   },
   {
    "duration": 379,
    "start_time": "2023-05-26T10:22:57.065Z"
   },
   {
    "duration": 282,
    "start_time": "2023-05-26T10:22:57.446Z"
   },
   {
    "duration": 59,
    "start_time": "2023-05-26T10:22:57.730Z"
   },
   {
    "duration": 29,
    "start_time": "2023-05-26T10:22:57.791Z"
   },
   {
    "duration": 349,
    "start_time": "2023-05-26T10:22:57.822Z"
   },
   {
    "duration": 337,
    "start_time": "2023-05-26T10:22:58.177Z"
   },
   {
    "duration": 247,
    "start_time": "2023-05-26T10:22:58.516Z"
   },
   {
    "duration": 35,
    "start_time": "2023-05-26T10:22:58.764Z"
   },
   {
    "duration": 6,
    "start_time": "2023-05-26T10:22:58.801Z"
   },
   {
    "duration": 370,
    "start_time": "2023-05-26T10:22:58.809Z"
   },
   {
    "duration": 177,
    "start_time": "2023-05-26T10:22:59.181Z"
   },
   {
    "duration": 162,
    "start_time": "2023-05-26T10:22:59.359Z"
   },
   {
    "duration": 29,
    "start_time": "2023-05-26T10:22:59.524Z"
   },
   {
    "duration": 43,
    "start_time": "2023-05-26T10:22:59.555Z"
   },
   {
    "duration": 122,
    "start_time": "2023-05-26T10:22:59.600Z"
   },
   {
    "duration": 37,
    "start_time": "2023-05-26T10:22:59.724Z"
   },
   {
    "duration": 110,
    "start_time": "2023-05-26T10:22:59.762Z"
   },
   {
    "duration": 14,
    "start_time": "2023-05-26T10:22:59.878Z"
   },
   {
    "duration": 4703,
    "start_time": "2023-05-26T10:22:59.893Z"
   },
   {
    "duration": 38,
    "start_time": "2023-05-26T10:23:04.597Z"
   },
   {
    "duration": 120,
    "start_time": "2023-05-26T10:23:04.638Z"
   },
   {
    "duration": 4503,
    "start_time": "2023-05-26T10:23:04.759Z"
   },
   {
    "duration": 65,
    "start_time": "2023-05-26T10:23:09.263Z"
   },
   {
    "duration": 302,
    "start_time": "2023-05-26T10:23:09.330Z"
   },
   {
    "duration": 309,
    "start_time": "2023-05-26T10:23:09.634Z"
   },
   {
    "duration": 320,
    "start_time": "2023-05-26T10:23:09.945Z"
   },
   {
    "duration": 434,
    "start_time": "2023-05-26T10:23:10.267Z"
   },
   {
    "duration": 88,
    "start_time": "2023-05-26T10:23:10.703Z"
   },
   {
    "duration": 46,
    "start_time": "2023-05-26T10:23:10.793Z"
   },
   {
    "duration": 65,
    "start_time": "2023-05-26T10:23:10.841Z"
   },
   {
    "duration": 152,
    "start_time": "2023-05-26T10:23:10.907Z"
   },
   {
    "duration": 178,
    "start_time": "2023-05-26T10:23:11.060Z"
   },
   {
    "duration": 810,
    "start_time": "2023-05-26T10:23:11.239Z"
   },
   {
    "duration": 368,
    "start_time": "2023-05-26T10:23:12.051Z"
   },
   {
    "duration": 870,
    "start_time": "2023-05-26T10:23:12.421Z"
   },
   {
    "duration": 73298,
    "start_time": "2023-05-26T10:23:13.293Z"
   },
   {
    "duration": 147491,
    "start_time": "2023-05-26T10:24:26.593Z"
   },
   {
    "duration": 75815,
    "start_time": "2023-05-26T10:26:54.090Z"
   },
   {
    "duration": 6911,
    "start_time": "2023-05-26T10:28:09.906Z"
   },
   {
    "duration": 26208,
    "start_time": "2023-05-26T10:28:16.818Z"
   },
   {
    "duration": 333883,
    "start_time": "2023-05-26T10:28:43.028Z"
   },
   {
    "duration": 357572,
    "start_time": "2023-05-26T10:34:16.912Z"
   },
   {
    "duration": 26401,
    "start_time": "2023-05-26T10:49:42.452Z"
   },
   {
    "duration": 27348,
    "start_time": "2023-05-26T10:55:52.336Z"
   },
   {
    "duration": 27056,
    "start_time": "2023-05-26T10:56:48.441Z"
   },
   {
    "duration": 354683,
    "start_time": "2023-05-26T11:03:57.401Z"
   },
   {
    "duration": 1426,
    "start_time": "2023-05-26T11:12:31.937Z"
   },
   {
    "duration": 824,
    "start_time": "2023-05-26T11:12:33.365Z"
   },
   {
    "duration": 242,
    "start_time": "2023-05-26T11:12:34.191Z"
   },
   {
    "duration": 280,
    "start_time": "2023-05-26T11:12:34.434Z"
   },
   {
    "duration": 22,
    "start_time": "2023-05-26T11:12:34.716Z"
   },
   {
    "duration": 100,
    "start_time": "2023-05-26T11:12:34.740Z"
   },
   {
    "duration": 490,
    "start_time": "2023-05-26T11:12:34.842Z"
   },
   {
    "duration": 403,
    "start_time": "2023-05-26T11:12:35.334Z"
   },
   {
    "duration": 311,
    "start_time": "2023-05-26T11:12:35.739Z"
   },
   {
    "duration": 64,
    "start_time": "2023-05-26T11:12:36.052Z"
   },
   {
    "duration": 26,
    "start_time": "2023-05-26T11:12:36.118Z"
   },
   {
    "duration": 362,
    "start_time": "2023-05-26T11:12:36.146Z"
   },
   {
    "duration": 380,
    "start_time": "2023-05-26T11:12:36.511Z"
   },
   {
    "duration": 300,
    "start_time": "2023-05-26T11:12:36.894Z"
   },
   {
    "duration": 25,
    "start_time": "2023-05-26T11:12:37.195Z"
   },
   {
    "duration": 11,
    "start_time": "2023-05-26T11:12:37.222Z"
   },
   {
    "duration": 537,
    "start_time": "2023-05-26T11:12:37.235Z"
   },
   {
    "duration": 205,
    "start_time": "2023-05-26T11:12:37.777Z"
   },
   {
    "duration": 174,
    "start_time": "2023-05-26T11:12:37.983Z"
   },
   {
    "duration": 40,
    "start_time": "2023-05-26T11:12:38.159Z"
   },
   {
    "duration": 25,
    "start_time": "2023-05-26T11:12:38.200Z"
   },
   {
    "duration": 127,
    "start_time": "2023-05-26T11:12:38.227Z"
   },
   {
    "duration": 41,
    "start_time": "2023-05-26T11:12:38.355Z"
   },
   {
    "duration": 125,
    "start_time": "2023-05-26T11:12:38.398Z"
   },
   {
    "duration": 15,
    "start_time": "2023-05-26T11:12:38.525Z"
   },
   {
    "duration": 5493,
    "start_time": "2023-05-26T11:12:38.541Z"
   },
   {
    "duration": 56,
    "start_time": "2023-05-26T11:12:44.036Z"
   },
   {
    "duration": 118,
    "start_time": "2023-05-26T11:12:44.094Z"
   },
   {
    "duration": 5427,
    "start_time": "2023-05-26T11:12:44.214Z"
   },
   {
    "duration": 80,
    "start_time": "2023-05-26T11:12:49.642Z"
   },
   {
    "duration": 328,
    "start_time": "2023-05-26T11:12:49.723Z"
   },
   {
    "duration": 376,
    "start_time": "2023-05-26T11:12:50.053Z"
   },
   {
    "duration": 359,
    "start_time": "2023-05-26T11:12:50.430Z"
   },
   {
    "duration": 471,
    "start_time": "2023-05-26T11:12:50.791Z"
   },
   {
    "duration": 84,
    "start_time": "2023-05-26T11:12:51.264Z"
   },
   {
    "duration": 69,
    "start_time": "2023-05-26T11:12:51.349Z"
   },
   {
    "duration": 60,
    "start_time": "2023-05-26T11:12:51.420Z"
   },
   {
    "duration": 169,
    "start_time": "2023-05-26T11:12:51.482Z"
   },
   {
    "duration": 254,
    "start_time": "2023-05-26T11:12:51.654Z"
   },
   {
    "duration": 893,
    "start_time": "2023-05-26T11:12:51.909Z"
   },
   {
    "duration": 465,
    "start_time": "2023-05-26T11:12:52.807Z"
   },
   {
    "duration": 919,
    "start_time": "2023-05-26T11:12:53.273Z"
   },
   {
    "duration": 165582,
    "start_time": "2023-05-26T11:12:54.197Z"
   },
   {
    "duration": 157995,
    "start_time": "2023-05-26T11:15:39.785Z"
   },
   {
    "duration": 90071,
    "start_time": "2023-05-26T11:18:17.782Z"
   },
   {
    "duration": 9186,
    "start_time": "2023-05-26T11:19:47.855Z"
   },
   {
    "duration": 33131,
    "start_time": "2023-05-26T11:19:57.043Z"
   },
   {
    "duration": 432703,
    "start_time": "2023-05-26T11:20:30.176Z"
   },
   {
    "duration": 433971,
    "start_time": "2023-05-26T11:27:42.882Z"
   },
   {
    "duration": 506,
    "start_time": "2023-05-26T11:34:56.855Z"
   },
   {
    "duration": 712659,
    "start_time": "2023-05-26T11:34:57.363Z"
   },
   {
    "duration": 13959,
    "start_time": "2023-05-26T11:46:50.032Z"
   },
   {
    "duration": 1956,
    "start_time": "2023-05-26T11:47:24.626Z"
   },
   {
    "duration": 1053,
    "start_time": "2023-05-26T11:47:26.587Z"
   },
   {
    "duration": 296,
    "start_time": "2023-05-26T11:47:27.643Z"
   },
   {
    "duration": 358,
    "start_time": "2023-05-26T11:47:27.943Z"
   },
   {
    "duration": 40,
    "start_time": "2023-05-26T11:47:28.303Z"
   },
   {
    "duration": 101,
    "start_time": "2023-05-26T11:47:28.345Z"
   },
   {
    "duration": 558,
    "start_time": "2023-05-26T11:47:28.448Z"
   },
   {
    "duration": 474,
    "start_time": "2023-05-26T11:47:29.008Z"
   },
   {
    "duration": 390,
    "start_time": "2023-05-26T11:47:29.484Z"
   },
   {
    "duration": 61,
    "start_time": "2023-05-26T11:47:29.877Z"
   },
   {
    "duration": 39,
    "start_time": "2023-05-26T11:47:29.940Z"
   },
   {
    "duration": 455,
    "start_time": "2023-05-26T11:47:29.981Z"
   },
   {
    "duration": 479,
    "start_time": "2023-05-26T11:47:30.442Z"
   },
   {
    "duration": 345,
    "start_time": "2023-05-26T11:47:30.923Z"
   },
   {
    "duration": 82,
    "start_time": "2023-05-26T11:47:31.269Z"
   },
   {
    "duration": 9,
    "start_time": "2023-05-26T11:47:31.352Z"
   },
   {
    "duration": 550,
    "start_time": "2023-05-26T11:47:31.362Z"
   },
   {
    "duration": 288,
    "start_time": "2023-05-26T11:47:31.914Z"
   },
   {
    "duration": 217,
    "start_time": "2023-05-26T11:47:32.203Z"
   },
   {
    "duration": 34,
    "start_time": "2023-05-26T11:47:32.422Z"
   },
   {
    "duration": 42,
    "start_time": "2023-05-26T11:47:32.457Z"
   },
   {
    "duration": 143,
    "start_time": "2023-05-26T11:47:32.504Z"
   },
   {
    "duration": 63,
    "start_time": "2023-05-26T11:47:32.649Z"
   },
   {
    "duration": 132,
    "start_time": "2023-05-26T11:47:32.715Z"
   },
   {
    "duration": 13,
    "start_time": "2023-05-26T11:47:32.850Z"
   },
   {
    "duration": 6330,
    "start_time": "2023-05-26T11:47:32.865Z"
   },
   {
    "duration": 56,
    "start_time": "2023-05-26T11:47:39.197Z"
   },
   {
    "duration": 159,
    "start_time": "2023-05-26T11:47:39.256Z"
   },
   {
    "duration": 6019,
    "start_time": "2023-05-26T11:47:39.416Z"
   },
   {
    "duration": 85,
    "start_time": "2023-05-26T11:47:45.437Z"
   },
   {
    "duration": 407,
    "start_time": "2023-05-26T11:47:45.524Z"
   },
   {
    "duration": 482,
    "start_time": "2023-05-26T11:47:45.935Z"
   },
   {
    "duration": 443,
    "start_time": "2023-05-26T11:47:46.419Z"
   },
   {
    "duration": 576,
    "start_time": "2023-05-26T11:47:46.864Z"
   },
   {
    "duration": 141,
    "start_time": "2023-05-26T11:47:47.442Z"
   },
   {
    "duration": 66,
    "start_time": "2023-05-26T11:47:47.585Z"
   },
   {
    "duration": 82,
    "start_time": "2023-05-26T11:47:47.653Z"
   },
   {
    "duration": 232,
    "start_time": "2023-05-26T11:47:47.737Z"
   },
   {
    "duration": 269,
    "start_time": "2023-05-26T11:47:47.972Z"
   },
   {
    "duration": 1188,
    "start_time": "2023-05-26T11:47:48.245Z"
   },
   {
    "duration": 470,
    "start_time": "2023-05-26T11:47:49.435Z"
   },
   {
    "duration": 945,
    "start_time": "2023-05-26T11:47:49.907Z"
   },
   {
    "duration": 148867,
    "start_time": "2023-05-26T11:47:50.923Z"
   },
   {
    "duration": 153140,
    "start_time": "2023-05-26T11:50:19.793Z"
   },
   {
    "duration": 98534,
    "start_time": "2023-05-26T11:52:52.935Z"
   },
   {
    "duration": 9174,
    "start_time": "2023-05-26T11:54:31.480Z"
   },
   {
    "duration": 39347,
    "start_time": "2023-05-26T11:54:40.656Z"
   },
   {
    "duration": 442571,
    "start_time": "2023-05-26T11:55:20.005Z"
   },
   {
    "duration": 446136,
    "start_time": "2023-05-26T12:02:42.577Z"
   },
   {
    "duration": 2548245,
    "start_time": "2023-05-26T12:10:08.715Z"
   },
   {
    "duration": 6440,
    "start_time": "2023-05-26T12:52:36.961Z"
   },
   {
    "duration": 6,
    "start_time": "2023-05-26T14:06:00.439Z"
   },
   {
    "duration": 3200,
    "start_time": "2023-05-26T14:06:00.448Z"
   },
   {
    "duration": 208,
    "start_time": "2023-05-26T14:06:03.650Z"
   },
   {
    "duration": 296,
    "start_time": "2023-05-26T14:06:03.860Z"
   },
   {
    "duration": 27,
    "start_time": "2023-05-26T14:06:04.158Z"
   },
   {
    "duration": 93,
    "start_time": "2023-05-26T14:06:04.187Z"
   },
   {
    "duration": 416,
    "start_time": "2023-05-26T14:06:04.282Z"
   },
   {
    "duration": 333,
    "start_time": "2023-05-26T14:06:04.701Z"
   },
   {
    "duration": 294,
    "start_time": "2023-05-26T14:06:05.036Z"
   },
   {
    "duration": 67,
    "start_time": "2023-05-26T14:06:05.331Z"
   },
   {
    "duration": 26,
    "start_time": "2023-05-26T14:06:05.400Z"
   },
   {
    "duration": 342,
    "start_time": "2023-05-26T14:06:05.428Z"
   },
   {
    "duration": 383,
    "start_time": "2023-05-26T14:06:05.777Z"
   },
   {
    "duration": 277,
    "start_time": "2023-05-26T14:06:06.163Z"
   },
   {
    "duration": 38,
    "start_time": "2023-05-26T14:06:06.441Z"
   },
   {
    "duration": 10,
    "start_time": "2023-05-26T14:06:06.481Z"
   },
   {
    "duration": 547,
    "start_time": "2023-05-26T14:06:06.492Z"
   },
   {
    "duration": 207,
    "start_time": "2023-05-26T14:06:07.041Z"
   },
   {
    "duration": 188,
    "start_time": "2023-05-26T14:06:07.251Z"
   },
   {
    "duration": 51,
    "start_time": "2023-05-26T14:06:07.443Z"
   },
   {
    "duration": 34,
    "start_time": "2023-05-26T14:06:07.495Z"
   },
   {
    "duration": 130,
    "start_time": "2023-05-26T14:06:07.531Z"
   },
   {
    "duration": 53,
    "start_time": "2023-05-26T14:06:07.663Z"
   },
   {
    "duration": 138,
    "start_time": "2023-05-26T14:06:07.718Z"
   },
   {
    "duration": 27,
    "start_time": "2023-05-26T14:06:07.858Z"
   },
   {
    "duration": 4890,
    "start_time": "2023-05-26T14:06:07.889Z"
   },
   {
    "duration": 49,
    "start_time": "2023-05-26T14:06:12.781Z"
   },
   {
    "duration": 124,
    "start_time": "2023-05-26T14:06:12.832Z"
   },
   {
    "duration": 4934,
    "start_time": "2023-05-26T14:06:12.958Z"
   },
   {
    "duration": 66,
    "start_time": "2023-05-26T14:06:17.894Z"
   },
   {
    "duration": 304,
    "start_time": "2023-05-26T14:06:17.962Z"
   },
   {
    "duration": 341,
    "start_time": "2023-05-26T14:06:18.268Z"
   },
   {
    "duration": 350,
    "start_time": "2023-05-26T14:06:18.610Z"
   },
   {
    "duration": 360,
    "start_time": "2023-05-26T14:06:18.962Z"
   },
   {
    "duration": 101,
    "start_time": "2023-05-26T14:06:19.324Z"
   },
   {
    "duration": 64,
    "start_time": "2023-05-26T14:06:19.426Z"
   },
   {
    "duration": 64,
    "start_time": "2023-05-26T14:06:19.492Z"
   },
   {
    "duration": 163,
    "start_time": "2023-05-26T14:06:19.581Z"
   },
   {
    "duration": 175,
    "start_time": "2023-05-26T14:06:19.745Z"
   },
   {
    "duration": 91987,
    "start_time": "2023-05-26T14:07:54.861Z"
   },
   {
    "duration": 8207,
    "start_time": "2023-05-26T14:09:26.851Z"
   },
   {
    "duration": 5,
    "start_time": "2023-05-26T14:10:31.656Z"
   },
   {
    "duration": 715,
    "start_time": "2023-05-26T14:10:31.663Z"
   },
   {
    "duration": 183,
    "start_time": "2023-05-26T14:10:32.380Z"
   },
   {
    "duration": 214,
    "start_time": "2023-05-26T14:10:32.565Z"
   },
   {
    "duration": 19,
    "start_time": "2023-05-26T14:10:32.781Z"
   },
   {
    "duration": 89,
    "start_time": "2023-05-26T14:10:32.801Z"
   },
   {
    "duration": 343,
    "start_time": "2023-05-26T14:10:32.891Z"
   },
   {
    "duration": 273,
    "start_time": "2023-05-26T14:10:33.235Z"
   },
   {
    "duration": 248,
    "start_time": "2023-05-26T14:10:33.510Z"
   },
   {
    "duration": 63,
    "start_time": "2023-05-26T14:10:33.760Z"
   },
   {
    "duration": 23,
    "start_time": "2023-05-26T14:10:33.824Z"
   },
   {
    "duration": 354,
    "start_time": "2023-05-26T14:10:33.848Z"
   },
   {
    "duration": 319,
    "start_time": "2023-05-26T14:10:34.204Z"
   },
   {
    "duration": 266,
    "start_time": "2023-05-26T14:10:34.526Z"
   },
   {
    "duration": 24,
    "start_time": "2023-05-26T14:10:34.794Z"
   },
   {
    "duration": 7,
    "start_time": "2023-05-26T14:10:34.820Z"
   },
   {
    "duration": 396,
    "start_time": "2023-05-26T14:10:34.829Z"
   },
   {
    "duration": 181,
    "start_time": "2023-05-26T14:10:35.227Z"
   },
   {
    "duration": 181,
    "start_time": "2023-05-26T14:10:35.410Z"
   },
   {
    "duration": 28,
    "start_time": "2023-05-26T14:10:35.592Z"
   },
   {
    "duration": 27,
    "start_time": "2023-05-26T14:10:35.622Z"
   },
   {
    "duration": 109,
    "start_time": "2023-05-26T14:10:35.651Z"
   },
   {
    "duration": 57,
    "start_time": "2023-05-26T14:10:35.762Z"
   },
   {
    "duration": 112,
    "start_time": "2023-05-26T14:10:35.821Z"
   },
   {
    "duration": 13,
    "start_time": "2023-05-26T14:10:35.935Z"
   },
   {
    "duration": 4384,
    "start_time": "2023-05-26T14:10:35.949Z"
   },
   {
    "duration": 48,
    "start_time": "2023-05-26T14:10:40.335Z"
   },
   {
    "duration": 106,
    "start_time": "2023-05-26T14:10:40.385Z"
   },
   {
    "duration": 4263,
    "start_time": "2023-05-26T14:10:40.493Z"
   },
   {
    "duration": 62,
    "start_time": "2023-05-26T14:10:44.758Z"
   },
   {
    "duration": 317,
    "start_time": "2023-05-26T14:10:44.822Z"
   },
   {
    "duration": 318,
    "start_time": "2023-05-26T14:10:45.140Z"
   },
   {
    "duration": 348,
    "start_time": "2023-05-26T14:10:45.459Z"
   },
   {
    "duration": 453,
    "start_time": "2023-05-26T14:10:45.808Z"
   },
   {
    "duration": 86,
    "start_time": "2023-05-26T14:10:46.262Z"
   },
   {
    "duration": 73,
    "start_time": "2023-05-26T14:10:46.350Z"
   },
   {
    "duration": 66,
    "start_time": "2023-05-26T14:10:46.425Z"
   },
   {
    "duration": 151,
    "start_time": "2023-05-26T14:10:46.493Z"
   },
   {
    "duration": 213,
    "start_time": "2023-05-26T14:10:46.645Z"
   },
   {
    "duration": 748,
    "start_time": "2023-05-26T14:10:46.860Z"
   },
   {
    "duration": 385,
    "start_time": "2023-05-26T14:10:47.613Z"
   },
   {
    "duration": 157229,
    "start_time": "2023-05-26T14:12:49.853Z"
   },
   {
    "duration": 61721,
    "start_time": "2023-05-26T14:16:03.367Z"
   },
   {
    "duration": 117193,
    "start_time": "2023-05-26T14:17:05.090Z"
   },
   {
    "duration": 1342,
    "start_time": "2023-05-26T14:21:31.703Z"
   },
   {
    "duration": 741,
    "start_time": "2023-05-26T14:21:33.047Z"
   },
   {
    "duration": 213,
    "start_time": "2023-05-26T14:21:33.790Z"
   },
   {
    "duration": 256,
    "start_time": "2023-05-26T14:21:34.006Z"
   },
   {
    "duration": 31,
    "start_time": "2023-05-26T14:21:34.264Z"
   },
   {
    "duration": 85,
    "start_time": "2023-05-26T14:21:34.297Z"
   },
   {
    "duration": 429,
    "start_time": "2023-05-26T14:21:34.384Z"
   },
   {
    "duration": 344,
    "start_time": "2023-05-26T14:21:34.814Z"
   },
   {
    "duration": 284,
    "start_time": "2023-05-26T14:21:35.159Z"
   },
   {
    "duration": 59,
    "start_time": "2023-05-26T14:21:35.446Z"
   },
   {
    "duration": 27,
    "start_time": "2023-05-26T14:21:35.507Z"
   },
   {
    "duration": 383,
    "start_time": "2023-05-26T14:21:35.536Z"
   },
   {
    "duration": 338,
    "start_time": "2023-05-26T14:21:35.921Z"
   },
   {
    "duration": 265,
    "start_time": "2023-05-26T14:21:36.261Z"
   },
   {
    "duration": 26,
    "start_time": "2023-05-26T14:21:36.528Z"
   },
   {
    "duration": 24,
    "start_time": "2023-05-26T14:21:36.555Z"
   },
   {
    "duration": 382,
    "start_time": "2023-05-26T14:21:36.581Z"
   },
   {
    "duration": 234,
    "start_time": "2023-05-26T14:21:36.965Z"
   },
   {
    "duration": 189,
    "start_time": "2023-05-26T14:21:37.202Z"
   },
   {
    "duration": 32,
    "start_time": "2023-05-26T14:21:37.394Z"
   },
   {
    "duration": 52,
    "start_time": "2023-05-26T14:21:37.428Z"
   },
   {
    "duration": 129,
    "start_time": "2023-05-26T14:21:37.482Z"
   },
   {
    "duration": 41,
    "start_time": "2023-05-26T14:21:37.613Z"
   },
   {
    "duration": 125,
    "start_time": "2023-05-26T14:21:37.656Z"
   },
   {
    "duration": 13,
    "start_time": "2023-05-26T14:21:37.783Z"
   },
   {
    "duration": 4443,
    "start_time": "2023-05-26T14:21:37.798Z"
   },
   {
    "duration": 43,
    "start_time": "2023-05-26T14:21:42.242Z"
   },
   {
    "duration": 100,
    "start_time": "2023-05-26T14:21:42.289Z"
   },
   {
    "duration": 4256,
    "start_time": "2023-05-26T14:21:42.391Z"
   },
   {
    "duration": 68,
    "start_time": "2023-05-26T14:21:46.649Z"
   },
   {
    "duration": 291,
    "start_time": "2023-05-26T14:21:46.719Z"
   },
   {
    "duration": 309,
    "start_time": "2023-05-26T14:21:47.012Z"
   },
   {
    "duration": 412,
    "start_time": "2023-05-26T14:21:47.323Z"
   },
   {
    "duration": 407,
    "start_time": "2023-05-26T14:21:47.736Z"
   },
   {
    "duration": 93,
    "start_time": "2023-05-26T14:21:48.144Z"
   },
   {
    "duration": 58,
    "start_time": "2023-05-26T14:21:48.239Z"
   },
   {
    "duration": 41,
    "start_time": "2023-05-26T14:21:48.299Z"
   },
   {
    "duration": 159,
    "start_time": "2023-05-26T14:21:48.342Z"
   },
   {
    "duration": 166,
    "start_time": "2023-05-26T14:21:48.503Z"
   },
   {
    "duration": 742,
    "start_time": "2023-05-26T14:21:48.678Z"
   },
   {
    "duration": 371,
    "start_time": "2023-05-26T14:21:49.422Z"
   },
   {
    "duration": 796,
    "start_time": "2023-05-26T14:21:49.795Z"
   },
   {
    "duration": 64917,
    "start_time": "2023-05-26T14:21:50.593Z"
   },
   {
    "duration": 72900,
    "start_time": "2023-05-26T14:22:55.579Z"
   },
   {
    "duration": 75640,
    "start_time": "2023-05-26T14:24:08.483Z"
   },
   {
    "duration": 7261,
    "start_time": "2023-05-26T14:25:24.125Z"
   },
   {
    "duration": 26132,
    "start_time": "2023-05-26T14:25:31.388Z"
   },
   {
    "duration": 342231,
    "start_time": "2023-05-26T14:25:57.523Z"
   },
   {
    "duration": 352765,
    "start_time": "2023-05-26T14:31:39.756Z"
   },
   {
    "duration": 642371,
    "start_time": "2023-05-26T14:37:32.523Z"
   },
   {
    "duration": 653194,
    "start_time": "2023-05-26T14:48:14.898Z"
   },
   {
    "duration": 256417,
    "start_time": "2023-05-26T16:06:05.544Z"
   },
   {
    "duration": 24867,
    "start_time": "2023-05-26T16:10:59.071Z"
   },
   {
    "duration": 15874,
    "start_time": "2023-05-26T16:27:07.913Z"
   },
   {
    "duration": 295,
    "start_time": "2023-05-26T16:27:23.789Z"
   },
   {
    "duration": 4618,
    "start_time": "2023-05-26T16:37:19.015Z"
   },
   {
    "duration": 4733,
    "start_time": "2023-05-26T16:37:35.142Z"
   },
   {
    "duration": 93,
    "start_time": "2023-05-26T16:38:41.348Z"
   },
   {
    "duration": 26544,
    "start_time": "2023-05-26T16:47:37.063Z"
   },
   {
    "duration": 147,
    "start_time": "2023-05-26T16:48:39.964Z"
   },
   {
    "duration": 8921,
    "start_time": "2023-05-26T16:53:48.863Z"
   },
   {
    "duration": 910,
    "start_time": "2023-05-26T16:53:57.787Z"
   },
   {
    "duration": 452,
    "start_time": "2023-05-26T17:05:05.674Z"
   },
   {
    "duration": 23,
    "start_time": "2023-05-26T17:05:31.586Z"
   },
   {
    "duration": 10401,
    "start_time": "2023-05-26T17:09:25.578Z"
   },
   {
    "duration": 907,
    "start_time": "2023-05-26T17:09:35.981Z"
   },
   {
    "duration": 77146,
    "start_time": "2023-05-26T17:11:50.344Z"
   },
   {
    "duration": 105399,
    "start_time": "2023-05-26T17:13:07.492Z"
   },
   {
    "duration": 432,
    "start_time": "2023-05-26T17:22:57.506Z"
   },
   {
    "duration": 16,
    "start_time": "2023-05-26T17:23:02.160Z"
   },
   {
    "duration": 25914,
    "start_time": "2023-05-26T17:23:05.409Z"
   },
   {
    "duration": 136,
    "start_time": "2023-05-26T17:23:31.326Z"
   },
   {
    "duration": 20115,
    "start_time": "2023-05-26T17:23:31.464Z"
   },
   {
    "duration": 921,
    "start_time": "2023-05-26T17:23:51.582Z"
   },
   {
    "duration": 102,
    "start_time": "2023-05-26T17:28:37.084Z"
   },
   {
    "duration": 25,
    "start_time": "2023-05-26T17:29:10.571Z"
   },
   {
    "duration": 4,
    "start_time": "2023-05-26T17:29:20.190Z"
   },
   {
    "duration": 22,
    "start_time": "2023-05-26T17:29:58.241Z"
   },
   {
    "duration": 5,
    "start_time": "2023-05-26T17:30:29.161Z"
   },
   {
    "duration": 5,
    "start_time": "2023-05-26T17:30:34.474Z"
   },
   {
    "duration": 13,
    "start_time": "2023-05-26T17:30:44.067Z"
   },
   {
    "duration": 13,
    "start_time": "2023-05-26T18:27:30.814Z"
   },
   {
    "duration": 12,
    "start_time": "2023-05-26T18:31:50.542Z"
   },
   {
    "duration": 10709,
    "start_time": "2023-05-26T18:35:33.680Z"
   },
   {
    "duration": 1290,
    "start_time": "2023-05-26T18:35:44.390Z"
   },
   {
    "duration": 12,
    "start_time": "2023-05-26T18:36:16.836Z"
   },
   {
    "duration": 49,
    "start_time": "2023-05-28T11:34:20.410Z"
   },
   {
    "duration": 1811,
    "start_time": "2023-05-28T11:34:39.399Z"
   },
   {
    "duration": 3448,
    "start_time": "2023-05-28T11:34:41.213Z"
   },
   {
    "duration": 230,
    "start_time": "2023-05-28T11:34:44.662Z"
   },
   {
    "duration": 256,
    "start_time": "2023-05-28T11:34:44.894Z"
   },
   {
    "duration": 23,
    "start_time": "2023-05-28T11:34:45.152Z"
   },
   {
    "duration": 80,
    "start_time": "2023-05-28T11:34:45.179Z"
   },
   {
    "duration": 458,
    "start_time": "2023-05-28T11:34:45.261Z"
   },
   {
    "duration": 401,
    "start_time": "2023-05-28T11:34:45.720Z"
   },
   {
    "duration": 300,
    "start_time": "2023-05-28T11:34:46.123Z"
   },
   {
    "duration": 70,
    "start_time": "2023-05-28T11:34:46.425Z"
   },
   {
    "duration": 27,
    "start_time": "2023-05-28T11:34:46.496Z"
   },
   {
    "duration": 377,
    "start_time": "2023-05-28T11:34:46.524Z"
   },
   {
    "duration": 393,
    "start_time": "2023-05-28T11:34:46.903Z"
   },
   {
    "duration": 259,
    "start_time": "2023-05-28T11:34:47.300Z"
   },
   {
    "duration": 850,
    "start_time": "2023-05-28T11:34:47.561Z"
   },
   {
    "duration": 0,
    "start_time": "2023-05-28T11:34:48.412Z"
   },
   {
    "duration": 0,
    "start_time": "2023-05-28T11:34:48.414Z"
   },
   {
    "duration": 0,
    "start_time": "2023-05-28T11:34:48.415Z"
   },
   {
    "duration": 0,
    "start_time": "2023-05-28T11:34:48.416Z"
   },
   {
    "duration": 0,
    "start_time": "2023-05-28T11:34:48.416Z"
   },
   {
    "duration": 0,
    "start_time": "2023-05-28T11:34:48.417Z"
   },
   {
    "duration": 0,
    "start_time": "2023-05-28T11:34:48.418Z"
   },
   {
    "duration": 0,
    "start_time": "2023-05-28T11:34:48.419Z"
   },
   {
    "duration": 0,
    "start_time": "2023-05-28T11:34:48.421Z"
   },
   {
    "duration": 0,
    "start_time": "2023-05-28T11:34:48.421Z"
   },
   {
    "duration": 0,
    "start_time": "2023-05-28T11:34:48.423Z"
   },
   {
    "duration": 0,
    "start_time": "2023-05-28T11:34:48.424Z"
   },
   {
    "duration": 0,
    "start_time": "2023-05-28T11:34:48.424Z"
   },
   {
    "duration": 0,
    "start_time": "2023-05-28T11:34:48.426Z"
   },
   {
    "duration": 0,
    "start_time": "2023-05-28T11:34:48.427Z"
   },
   {
    "duration": 0,
    "start_time": "2023-05-28T11:34:48.428Z"
   },
   {
    "duration": 0,
    "start_time": "2023-05-28T11:34:48.429Z"
   },
   {
    "duration": 0,
    "start_time": "2023-05-28T11:34:48.430Z"
   },
   {
    "duration": 0,
    "start_time": "2023-05-28T11:34:48.431Z"
   },
   {
    "duration": 0,
    "start_time": "2023-05-28T11:34:48.432Z"
   },
   {
    "duration": 0,
    "start_time": "2023-05-28T11:34:48.433Z"
   },
   {
    "duration": 0,
    "start_time": "2023-05-28T11:34:48.434Z"
   },
   {
    "duration": 0,
    "start_time": "2023-05-28T11:34:48.435Z"
   },
   {
    "duration": 0,
    "start_time": "2023-05-28T11:34:48.436Z"
   },
   {
    "duration": 0,
    "start_time": "2023-05-28T11:34:48.438Z"
   },
   {
    "duration": 21,
    "start_time": "2023-05-28T11:35:17.053Z"
   },
   {
    "duration": 22,
    "start_time": "2023-05-28T11:35:46.228Z"
   },
   {
    "duration": 345,
    "start_time": "2023-05-28T11:36:05.913Z"
   },
   {
    "duration": 8,
    "start_time": "2023-05-28T11:58:14.697Z"
   },
   {
    "duration": 44,
    "start_time": "2023-05-28T11:58:25.504Z"
   },
   {
    "duration": 3,
    "start_time": "2023-05-28T11:58:50.291Z"
   },
   {
    "duration": 48,
    "start_time": "2023-05-28T12:00:32.402Z"
   },
   {
    "duration": 42,
    "start_time": "2023-05-28T12:00:59.791Z"
   },
   {
    "duration": 50,
    "start_time": "2023-05-28T12:01:11.014Z"
   },
   {
    "duration": 60,
    "start_time": "2023-05-28T12:01:16.774Z"
   },
   {
    "duration": 48,
    "start_time": "2023-05-28T12:01:25.785Z"
   },
   {
    "duration": 43,
    "start_time": "2023-05-28T12:01:44.725Z"
   },
   {
    "duration": 53,
    "start_time": "2023-05-28T12:01:56.662Z"
   },
   {
    "duration": 60,
    "start_time": "2023-05-28T12:02:04.156Z"
   },
   {
    "duration": 5,
    "start_time": "2023-05-28T12:03:17.600Z"
   },
   {
    "duration": 802,
    "start_time": "2023-05-28T12:03:17.607Z"
   },
   {
    "duration": 211,
    "start_time": "2023-05-28T12:03:18.411Z"
   },
   {
    "duration": 234,
    "start_time": "2023-05-28T12:03:18.624Z"
   },
   {
    "duration": 34,
    "start_time": "2023-05-28T12:03:18.860Z"
   },
   {
    "duration": 73,
    "start_time": "2023-05-28T12:03:18.895Z"
   },
   {
    "duration": 398,
    "start_time": "2023-05-28T12:03:18.981Z"
   },
   {
    "duration": 319,
    "start_time": "2023-05-28T12:03:19.385Z"
   },
   {
    "duration": 271,
    "start_time": "2023-05-28T12:03:19.707Z"
   },
   {
    "duration": 56,
    "start_time": "2023-05-28T12:03:19.980Z"
   },
   {
    "duration": 25,
    "start_time": "2023-05-28T12:03:20.037Z"
   },
   {
    "duration": 266,
    "start_time": "2023-05-28T12:03:20.077Z"
   },
   {
    "duration": 375,
    "start_time": "2023-05-28T12:03:20.345Z"
   },
   {
    "duration": 381,
    "start_time": "2023-05-28T12:03:20.722Z"
   },
   {
    "duration": 20,
    "start_time": "2023-05-28T12:03:21.105Z"
   },
   {
    "duration": 24,
    "start_time": "2023-05-28T12:03:21.127Z"
   },
   {
    "duration": 35,
    "start_time": "2023-05-28T12:03:21.152Z"
   },
   {
    "duration": 352,
    "start_time": "2023-05-28T12:03:21.188Z"
   },
   {
    "duration": 186,
    "start_time": "2023-05-28T12:03:21.542Z"
   },
   {
    "duration": 168,
    "start_time": "2023-05-28T12:03:21.729Z"
   },
   {
    "duration": 22,
    "start_time": "2023-05-28T12:03:21.898Z"
   },
   {
    "duration": 24,
    "start_time": "2023-05-28T12:03:21.921Z"
   },
   {
    "duration": 112,
    "start_time": "2023-05-28T12:03:21.947Z"
   },
   {
    "duration": 43,
    "start_time": "2023-05-28T12:03:22.062Z"
   },
   {
    "duration": 2,
    "start_time": "2023-05-28T12:03:22.106Z"
   },
   {
    "duration": 7,
    "start_time": "2023-05-28T12:03:22.110Z"
   },
   {
    "duration": 45,
    "start_time": "2023-05-28T12:03:22.119Z"
   },
   {
    "duration": 0,
    "start_time": "2023-05-28T12:03:22.166Z"
   },
   {
    "duration": 41,
    "start_time": "2023-05-28T12:05:14.776Z"
   },
   {
    "duration": 113,
    "start_time": "2023-05-28T12:05:28.984Z"
   },
   {
    "duration": 31,
    "start_time": "2023-05-28T12:05:37.859Z"
   },
   {
    "duration": 4,
    "start_time": "2023-05-28T12:07:35.494Z"
   },
   {
    "duration": 786,
    "start_time": "2023-05-28T12:07:35.499Z"
   },
   {
    "duration": 249,
    "start_time": "2023-05-28T12:07:36.287Z"
   },
   {
    "duration": 266,
    "start_time": "2023-05-28T12:07:36.538Z"
   },
   {
    "duration": 19,
    "start_time": "2023-05-28T12:07:36.807Z"
   },
   {
    "duration": 85,
    "start_time": "2023-05-28T12:07:36.827Z"
   },
   {
    "duration": 350,
    "start_time": "2023-05-28T12:07:36.914Z"
   },
   {
    "duration": 317,
    "start_time": "2023-05-28T12:07:37.266Z"
   },
   {
    "duration": 305,
    "start_time": "2023-05-28T12:07:37.586Z"
   },
   {
    "duration": 48,
    "start_time": "2023-05-28T12:07:37.893Z"
   },
   {
    "duration": 43,
    "start_time": "2023-05-28T12:07:37.945Z"
   },
   {
    "duration": 246,
    "start_time": "2023-05-28T12:07:37.990Z"
   },
   {
    "duration": 340,
    "start_time": "2023-05-28T12:07:38.238Z"
   },
   {
    "duration": 249,
    "start_time": "2023-05-28T12:07:38.579Z"
   },
   {
    "duration": 22,
    "start_time": "2023-05-28T12:07:38.830Z"
   },
   {
    "duration": 40,
    "start_time": "2023-05-28T12:07:38.854Z"
   },
   {
    "duration": 7,
    "start_time": "2023-05-28T12:07:38.896Z"
   },
   {
    "duration": 347,
    "start_time": "2023-05-28T12:07:38.904Z"
   },
   {
    "duration": 169,
    "start_time": "2023-05-28T12:07:39.252Z"
   },
   {
    "duration": 183,
    "start_time": "2023-05-28T12:07:39.423Z"
   },
   {
    "duration": 25,
    "start_time": "2023-05-28T12:07:39.608Z"
   },
   {
    "duration": 43,
    "start_time": "2023-05-28T12:07:39.635Z"
   },
   {
    "duration": 107,
    "start_time": "2023-05-28T12:07:39.680Z"
   },
   {
    "duration": 31,
    "start_time": "2023-05-28T12:07:39.789Z"
   },
   {
    "duration": 3,
    "start_time": "2023-05-28T12:07:39.821Z"
   },
   {
    "duration": 4,
    "start_time": "2023-05-28T12:07:39.825Z"
   },
   {
    "duration": 129,
    "start_time": "2023-05-28T12:07:39.831Z"
   },
   {
    "duration": 41,
    "start_time": "2023-05-28T12:07:39.962Z"
   },
   {
    "duration": 72,
    "start_time": "2023-05-28T12:07:40.007Z"
   },
   {
    "duration": 122,
    "start_time": "2023-05-28T12:07:40.081Z"
   },
   {
    "duration": 35,
    "start_time": "2023-05-28T12:07:40.205Z"
   },
   {
    "duration": 74,
    "start_time": "2023-05-28T12:07:40.242Z"
   },
   {
    "duration": 448,
    "start_time": "2023-05-28T12:07:40.318Z"
   },
   {
    "duration": 322,
    "start_time": "2023-05-28T12:07:40.768Z"
   },
   {
    "duration": 329,
    "start_time": "2023-05-28T12:07:41.092Z"
   },
   {
    "duration": 306,
    "start_time": "2023-05-28T12:07:41.423Z"
   },
   {
    "duration": 78,
    "start_time": "2023-05-28T12:07:41.731Z"
   },
   {
    "duration": 38,
    "start_time": "2023-05-28T12:07:41.811Z"
   },
   {
    "duration": 59,
    "start_time": "2023-05-28T12:07:41.850Z"
   },
   {
    "duration": 136,
    "start_time": "2023-05-28T12:07:41.911Z"
   },
   {
    "duration": 149,
    "start_time": "2023-05-28T12:07:42.049Z"
   },
   {
    "duration": 96,
    "start_time": "2023-05-28T12:08:39.056Z"
   },
   {
    "duration": 32,
    "start_time": "2023-05-28T12:08:42.750Z"
   },
   {
    "duration": 4,
    "start_time": "2023-05-28T12:08:51.302Z"
   },
   {
    "duration": 747,
    "start_time": "2023-05-28T12:08:51.308Z"
   },
   {
    "duration": 200,
    "start_time": "2023-05-28T12:08:52.056Z"
   },
   {
    "duration": 222,
    "start_time": "2023-05-28T12:08:52.259Z"
   },
   {
    "duration": 20,
    "start_time": "2023-05-28T12:08:52.483Z"
   },
   {
    "duration": 92,
    "start_time": "2023-05-28T12:08:52.504Z"
   },
   {
    "duration": 422,
    "start_time": "2023-05-28T12:08:52.598Z"
   },
   {
    "duration": 295,
    "start_time": "2023-05-28T12:08:53.022Z"
   },
   {
    "duration": 269,
    "start_time": "2023-05-28T12:08:53.319Z"
   },
   {
    "duration": 54,
    "start_time": "2023-05-28T12:08:53.590Z"
   },
   {
    "duration": 47,
    "start_time": "2023-05-28T12:08:53.646Z"
   },
   {
    "duration": 273,
    "start_time": "2023-05-28T12:08:53.695Z"
   },
   {
    "duration": 374,
    "start_time": "2023-05-28T12:08:53.971Z"
   },
   {
    "duration": 368,
    "start_time": "2023-05-28T12:08:54.346Z"
   },
   {
    "duration": 23,
    "start_time": "2023-05-28T12:08:54.715Z"
   },
   {
    "duration": 42,
    "start_time": "2023-05-28T12:08:54.740Z"
   },
   {
    "duration": 7,
    "start_time": "2023-05-28T12:08:54.784Z"
   },
   {
    "duration": 356,
    "start_time": "2023-05-28T12:08:54.793Z"
   },
   {
    "duration": 176,
    "start_time": "2023-05-28T12:08:55.151Z"
   },
   {
    "duration": 154,
    "start_time": "2023-05-28T12:08:55.329Z"
   },
   {
    "duration": 24,
    "start_time": "2023-05-28T12:08:55.484Z"
   },
   {
    "duration": 26,
    "start_time": "2023-05-28T12:08:55.509Z"
   },
   {
    "duration": 159,
    "start_time": "2023-05-28T12:08:55.537Z"
   },
   {
    "duration": 47,
    "start_time": "2023-05-28T12:08:55.698Z"
   },
   {
    "duration": 15,
    "start_time": "2023-05-28T12:08:55.747Z"
   },
   {
    "duration": 9,
    "start_time": "2023-05-28T12:08:55.764Z"
   },
   {
    "duration": 119,
    "start_time": "2023-05-28T12:08:55.775Z"
   },
   {
    "duration": 49,
    "start_time": "2023-05-28T12:08:55.896Z"
   },
   {
    "duration": 44,
    "start_time": "2023-05-28T12:08:55.948Z"
   },
   {
    "duration": 129,
    "start_time": "2023-05-28T12:08:55.994Z"
   },
   {
    "duration": 35,
    "start_time": "2023-05-28T12:08:56.125Z"
   },
   {
    "duration": 72,
    "start_time": "2023-05-28T12:08:56.162Z"
   },
   {
    "duration": 311,
    "start_time": "2023-05-28T12:08:56.236Z"
   },
   {
    "duration": 337,
    "start_time": "2023-05-28T12:08:56.551Z"
   },
   {
    "duration": 321,
    "start_time": "2023-05-28T12:08:56.890Z"
   },
   {
    "duration": 417,
    "start_time": "2023-05-28T12:08:57.213Z"
   },
   {
    "duration": 86,
    "start_time": "2023-05-28T12:08:57.633Z"
   },
   {
    "duration": 60,
    "start_time": "2023-05-28T12:08:57.721Z"
   },
   {
    "duration": 39,
    "start_time": "2023-05-28T12:08:57.783Z"
   },
   {
    "duration": 140,
    "start_time": "2023-05-28T12:08:57.823Z"
   },
   {
    "duration": 159,
    "start_time": "2023-05-28T12:08:57.965Z"
   },
   {
    "duration": 28,
    "start_time": "2023-05-28T12:10:54.557Z"
   },
   {
    "duration": 5,
    "start_time": "2023-05-28T12:11:34.681Z"
   },
   {
    "duration": 726,
    "start_time": "2023-05-28T12:11:34.688Z"
   },
   {
    "duration": 204,
    "start_time": "2023-05-28T12:11:35.416Z"
   },
   {
    "duration": 233,
    "start_time": "2023-05-28T12:11:35.622Z"
   },
   {
    "duration": 27,
    "start_time": "2023-05-28T12:11:35.858Z"
   },
   {
    "duration": 66,
    "start_time": "2023-05-28T12:11:35.887Z"
   },
   {
    "duration": 389,
    "start_time": "2023-05-28T12:11:35.956Z"
   },
   {
    "duration": 348,
    "start_time": "2023-05-28T12:11:36.347Z"
   },
   {
    "duration": 370,
    "start_time": "2023-05-28T12:11:36.696Z"
   },
   {
    "duration": 55,
    "start_time": "2023-05-28T12:11:37.068Z"
   },
   {
    "duration": 23,
    "start_time": "2023-05-28T12:11:37.125Z"
   },
   {
    "duration": 254,
    "start_time": "2023-05-28T12:11:37.150Z"
   },
   {
    "duration": 415,
    "start_time": "2023-05-28T12:11:37.406Z"
   },
   {
    "duration": 248,
    "start_time": "2023-05-28T12:11:37.823Z"
   },
   {
    "duration": 20,
    "start_time": "2023-05-28T12:11:38.077Z"
   },
   {
    "duration": 23,
    "start_time": "2023-05-28T12:11:38.099Z"
   },
   {
    "duration": 6,
    "start_time": "2023-05-28T12:11:38.123Z"
   },
   {
    "duration": 340,
    "start_time": "2023-05-28T12:11:38.131Z"
   },
   {
    "duration": 167,
    "start_time": "2023-05-28T12:11:38.477Z"
   },
   {
    "duration": 146,
    "start_time": "2023-05-28T12:11:38.646Z"
   },
   {
    "duration": 22,
    "start_time": "2023-05-28T12:11:38.794Z"
   },
   {
    "duration": 24,
    "start_time": "2023-05-28T12:11:38.818Z"
   },
   {
    "duration": 95,
    "start_time": "2023-05-28T12:11:38.844Z"
   },
   {
    "duration": 47,
    "start_time": "2023-05-28T12:11:38.941Z"
   },
   {
    "duration": 2,
    "start_time": "2023-05-28T12:11:38.990Z"
   },
   {
    "duration": 4,
    "start_time": "2023-05-28T12:11:38.993Z"
   },
   {
    "duration": 110,
    "start_time": "2023-05-28T12:11:38.998Z"
   },
   {
    "duration": 30,
    "start_time": "2023-05-28T12:11:39.109Z"
   },
   {
    "duration": 43,
    "start_time": "2023-05-28T12:11:39.141Z"
   },
   {
    "duration": 107,
    "start_time": "2023-05-28T12:11:39.185Z"
   },
   {
    "duration": 30,
    "start_time": "2023-05-28T12:11:39.293Z"
   },
   {
    "duration": 65,
    "start_time": "2023-05-28T12:11:39.324Z"
   },
   {
    "duration": 289,
    "start_time": "2023-05-28T12:11:39.391Z"
   },
   {
    "duration": 288,
    "start_time": "2023-05-28T12:11:39.682Z"
   },
   {
    "duration": 407,
    "start_time": "2023-05-28T12:11:39.978Z"
   },
   {
    "duration": 315,
    "start_time": "2023-05-28T12:11:40.386Z"
   },
   {
    "duration": 81,
    "start_time": "2023-05-28T12:11:40.702Z"
   },
   {
    "duration": 42,
    "start_time": "2023-05-28T12:11:40.785Z"
   },
   {
    "duration": 60,
    "start_time": "2023-05-28T12:11:40.828Z"
   },
   {
    "duration": 137,
    "start_time": "2023-05-28T12:11:40.890Z"
   },
   {
    "duration": 142,
    "start_time": "2023-05-28T12:11:41.030Z"
   },
   {
    "duration": 28,
    "start_time": "2023-05-28T12:12:12.962Z"
   },
   {
    "duration": 61,
    "start_time": "2023-05-28T17:04:51.493Z"
   },
   {
    "duration": 16,
    "start_time": "2023-05-28T17:43:52.971Z"
   },
   {
    "duration": 30,
    "start_time": "2023-05-28T17:44:28.297Z"
   },
   {
    "duration": 137,
    "start_time": "2023-05-28T17:44:39.459Z"
   },
   {
    "duration": 132,
    "start_time": "2023-05-28T17:45:40.155Z"
   },
   {
    "duration": 147,
    "start_time": "2023-05-28T17:46:00.671Z"
   },
   {
    "duration": 164,
    "start_time": "2023-05-28T17:46:40.368Z"
   },
   {
    "duration": 136,
    "start_time": "2023-05-28T17:47:55.407Z"
   },
   {
    "duration": 138,
    "start_time": "2023-05-28T17:50:19.603Z"
   },
   {
    "duration": 1039,
    "start_time": "2023-05-28T18:29:31.048Z"
   },
   {
    "duration": 149,
    "start_time": "2023-05-28T18:29:50.863Z"
   },
   {
    "duration": 4,
    "start_time": "2023-05-28T18:31:24.971Z"
   },
   {
    "duration": 6,
    "start_time": "2023-05-28T19:46:37.682Z"
   },
   {
    "duration": 8,
    "start_time": "2023-05-28T19:47:10.379Z"
   },
   {
    "duration": 79,
    "start_time": "2023-05-28T20:01:32.057Z"
   },
   {
    "duration": 79,
    "start_time": "2023-05-28T20:05:26.546Z"
   },
   {
    "duration": 3,
    "start_time": "2023-05-28T20:09:50.189Z"
   },
   {
    "duration": 77,
    "start_time": "2023-05-28T20:15:49.990Z"
   },
   {
    "duration": 3,
    "start_time": "2023-05-28T20:16:29.458Z"
   },
   {
    "duration": 29,
    "start_time": "2023-05-28T20:16:29.911Z"
   },
   {
    "duration": 4,
    "start_time": "2023-05-28T20:26:11.366Z"
   },
   {
    "duration": 76,
    "start_time": "2023-05-28T20:26:14.666Z"
   },
   {
    "duration": 75,
    "start_time": "2023-05-28T20:26:57.066Z"
   },
   {
    "duration": 3,
    "start_time": "2023-05-28T20:42:50.358Z"
   },
   {
    "duration": 68,
    "start_time": "2023-05-28T20:42:51.866Z"
   },
   {
    "duration": 3,
    "start_time": "2023-05-28T20:44:10.299Z"
   },
   {
    "duration": 75,
    "start_time": "2023-05-28T20:44:10.726Z"
   },
   {
    "duration": 14,
    "start_time": "2023-05-28T20:45:11.766Z"
   },
   {
    "duration": 8,
    "start_time": "2023-05-28T20:45:24.366Z"
   },
   {
    "duration": 75,
    "start_time": "2023-05-28T20:45:25.250Z"
   },
   {
    "duration": 7,
    "start_time": "2023-05-28T20:45:41.204Z"
   },
   {
    "duration": 74,
    "start_time": "2023-05-28T20:45:42.258Z"
   },
   {
    "duration": 3,
    "start_time": "2023-05-28T20:45:45.768Z"
   },
   {
    "duration": 73,
    "start_time": "2023-05-28T20:45:46.399Z"
   },
   {
    "duration": 4,
    "start_time": "2023-05-28T20:46:09.880Z"
   },
   {
    "duration": 4,
    "start_time": "2023-05-28T20:46:31.823Z"
   },
   {
    "duration": 96,
    "start_time": "2023-05-28T20:47:44.481Z"
   },
   {
    "duration": 12,
    "start_time": "2023-05-28T20:50:38.995Z"
   },
   {
    "duration": 232,
    "start_time": "2023-05-28T20:51:13.867Z"
   },
   {
    "duration": 3,
    "start_time": "2023-05-28T20:53:39.566Z"
   },
   {
    "duration": 77,
    "start_time": "2023-05-28T20:53:39.999Z"
   },
   {
    "duration": 4,
    "start_time": "2023-05-28T21:00:27.669Z"
   },
   {
    "duration": 4,
    "start_time": "2023-05-28T21:16:52.751Z"
   },
   {
    "duration": 746,
    "start_time": "2023-05-28T21:16:52.757Z"
   },
   {
    "duration": 185,
    "start_time": "2023-05-28T21:16:53.505Z"
   },
   {
    "duration": 206,
    "start_time": "2023-05-28T21:16:53.692Z"
   },
   {
    "duration": 15,
    "start_time": "2023-05-28T21:16:53.900Z"
   },
   {
    "duration": 82,
    "start_time": "2023-05-28T21:16:53.917Z"
   },
   {
    "duration": 368,
    "start_time": "2023-05-28T21:16:54.001Z"
   },
   {
    "duration": 285,
    "start_time": "2023-05-28T21:16:54.371Z"
   },
   {
    "duration": 254,
    "start_time": "2023-05-28T21:16:54.658Z"
   },
   {
    "duration": 48,
    "start_time": "2023-05-28T21:16:54.915Z"
   },
   {
    "duration": 26,
    "start_time": "2023-05-28T21:16:54.977Z"
   },
   {
    "duration": 267,
    "start_time": "2023-05-28T21:16:55.005Z"
   },
   {
    "duration": 339,
    "start_time": "2023-05-28T21:16:55.274Z"
   },
   {
    "duration": 286,
    "start_time": "2023-05-28T21:16:55.615Z"
   },
   {
    "duration": 22,
    "start_time": "2023-05-28T21:16:55.903Z"
   },
   {
    "duration": 26,
    "start_time": "2023-05-28T21:16:55.927Z"
   },
   {
    "duration": 28,
    "start_time": "2023-05-28T21:16:55.954Z"
   },
   {
    "duration": 342,
    "start_time": "2023-05-28T21:16:55.983Z"
   },
   {
    "duration": 178,
    "start_time": "2023-05-28T21:16:56.327Z"
   },
   {
    "duration": 154,
    "start_time": "2023-05-28T21:16:56.506Z"
   },
   {
    "duration": 29,
    "start_time": "2023-05-28T21:16:56.661Z"
   },
   {
    "duration": 28,
    "start_time": "2023-05-28T21:16:56.691Z"
   },
   {
    "duration": 98,
    "start_time": "2023-05-28T21:16:56.721Z"
   },
   {
    "duration": 32,
    "start_time": "2023-05-28T21:16:56.820Z"
   },
   {
    "duration": 2,
    "start_time": "2023-05-28T21:16:56.854Z"
   },
   {
    "duration": 20,
    "start_time": "2023-05-28T21:16:56.858Z"
   },
   {
    "duration": 224,
    "start_time": "2023-05-28T21:16:56.879Z"
   },
   {
    "duration": 32,
    "start_time": "2023-05-28T21:16:57.107Z"
   },
   {
    "duration": 49,
    "start_time": "2023-05-28T21:16:57.141Z"
   },
   {
    "duration": 119,
    "start_time": "2023-05-28T21:16:57.192Z"
   },
   {
    "duration": 47,
    "start_time": "2023-05-28T21:16:57.313Z"
   },
   {
    "duration": 82,
    "start_time": "2023-05-28T21:16:57.361Z"
   },
   {
    "duration": 261,
    "start_time": "2023-05-28T21:16:57.445Z"
   },
   {
    "duration": 284,
    "start_time": "2023-05-28T21:16:57.707Z"
   },
   {
    "duration": 279,
    "start_time": "2023-05-28T21:16:57.992Z"
   },
   {
    "duration": 268,
    "start_time": "2023-05-28T21:16:58.278Z"
   },
   {
    "duration": 74,
    "start_time": "2023-05-28T21:16:58.548Z"
   },
   {
    "duration": 37,
    "start_time": "2023-05-28T21:16:58.623Z"
   },
   {
    "duration": 51,
    "start_time": "2023-05-28T21:16:58.661Z"
   },
   {
    "duration": 134,
    "start_time": "2023-05-28T21:16:58.714Z"
   },
   {
    "duration": 153,
    "start_time": "2023-05-28T21:16:58.850Z"
   },
   {
    "duration": 48,
    "start_time": "2023-05-28T21:16:59.005Z"
   },
   {
    "duration": 138,
    "start_time": "2023-05-28T21:16:59.055Z"
   },
   {
    "duration": 7,
    "start_time": "2023-05-28T21:16:59.195Z"
   },
   {
    "duration": 89,
    "start_time": "2023-05-28T21:16:59.204Z"
   },
   {
    "duration": 3,
    "start_time": "2023-05-28T21:16:59.295Z"
   },
   {
    "duration": 95,
    "start_time": "2023-05-28T21:16:59.300Z"
   },
   {
    "duration": 4,
    "start_time": "2023-05-28T21:16:59.396Z"
   },
   {
    "duration": 9,
    "start_time": "2023-05-28T21:16:59.401Z"
   },
   {
    "duration": 1849,
    "start_time": "2023-05-28T21:34:42.558Z"
   },
   {
    "duration": 1764,
    "start_time": "2023-05-28T21:34:52.814Z"
   },
   {
    "duration": 1965,
    "start_time": "2023-05-28T21:36:39.814Z"
   },
   {
    "duration": 1855,
    "start_time": "2023-05-28T21:36:51.535Z"
   },
   {
    "duration": 49,
    "start_time": "2023-05-28T21:41:58.486Z"
   },
   {
    "duration": 46,
    "start_time": "2023-05-28T21:47:06.798Z"
   },
   {
    "duration": 47,
    "start_time": "2023-05-28T21:49:37.785Z"
   },
   {
    "duration": 56,
    "start_time": "2023-05-28T21:50:09.996Z"
   },
   {
    "duration": 49,
    "start_time": "2023-05-28T21:50:18.020Z"
   },
   {
    "duration": 50,
    "start_time": "2023-05-28T21:50:50.154Z"
   },
   {
    "duration": 117,
    "start_time": "2023-05-28T21:52:20.087Z"
   },
   {
    "duration": 114,
    "start_time": "2023-05-28T21:53:18.104Z"
   },
   {
    "duration": 32227,
    "start_time": "2023-05-28T21:54:45.584Z"
   },
   {
    "duration": 4,
    "start_time": "2023-05-28T21:55:22.586Z"
   },
   {
    "duration": 23570,
    "start_time": "2023-05-28T21:56:03.266Z"
   },
   {
    "duration": 305669,
    "start_time": "2023-05-28T21:57:12.688Z"
   },
   {
    "duration": 4,
    "start_time": "2023-05-28T22:02:18.359Z"
   },
   {
    "duration": 65895,
    "start_time": "2023-05-28T22:07:30.995Z"
   },
   {
    "duration": 5,
    "start_time": "2023-05-28T22:08:36.979Z"
   },
   {
    "duration": 205,
    "start_time": "2023-05-28T22:09:33.483Z"
   },
   {
    "duration": 79,
    "start_time": "2023-05-28T22:10:01.199Z"
   },
   {
    "duration": 556,
    "start_time": "2023-05-28T22:12:26.690Z"
   },
   {
    "duration": 19,
    "start_time": "2023-05-28T22:12:44.347Z"
   },
   {
    "duration": 3,
    "start_time": "2023-05-28T22:13:05.743Z"
   },
   {
    "duration": 4,
    "start_time": "2023-05-28T22:13:19.678Z"
   },
   {
    "duration": 22728,
    "start_time": "2023-05-28T22:15:17.205Z"
   },
   {
    "duration": 63,
    "start_time": "2023-05-28T22:15:39.935Z"
   },
   {
    "duration": 25423,
    "start_time": "2023-05-28T22:16:46.088Z"
   },
   {
    "duration": 59,
    "start_time": "2023-05-28T22:17:11.513Z"
   },
   {
    "duration": 5502,
    "start_time": "2023-05-28T22:17:40.378Z"
   },
   {
    "duration": 497,
    "start_time": "2023-05-28T22:17:45.881Z"
   },
   {
    "duration": 12,
    "start_time": "2023-05-28T22:19:47.944Z"
   },
   {
    "duration": 344,
    "start_time": "2023-05-28T22:20:21.248Z"
   },
   {
    "duration": 11,
    "start_time": "2023-05-28T22:20:26.344Z"
   },
   {
    "duration": 336,
    "start_time": "2023-05-28T22:20:35.661Z"
   },
   {
    "duration": 347,
    "start_time": "2023-05-28T22:20:41.543Z"
   },
   {
    "duration": 42,
    "start_time": "2023-05-28T22:20:45.345Z"
   },
   {
    "duration": 16,
    "start_time": "2023-05-28T22:21:18.241Z"
   },
   {
    "duration": 11,
    "start_time": "2023-05-28T22:21:53.486Z"
   },
   {
    "duration": 11,
    "start_time": "2023-05-28T22:29:24.649Z"
   },
   {
    "duration": 5380,
    "start_time": "2023-05-28T22:30:41.606Z"
   },
   {
    "duration": 65,
    "start_time": "2023-05-28T22:31:01.947Z"
   },
   {
    "duration": 538,
    "start_time": "2023-05-28T22:31:24.741Z"
   },
   {
    "duration": 18,
    "start_time": "2023-05-28T22:31:27.504Z"
   },
   {
    "duration": 22719,
    "start_time": "2023-05-28T22:32:33.184Z"
   },
   {
    "duration": 62,
    "start_time": "2023-05-28T22:32:55.904Z"
   },
   {
    "duration": 13514,
    "start_time": "2023-05-28T22:32:55.968Z"
   },
   {
    "duration": 414,
    "start_time": "2023-05-28T22:33:09.483Z"
   },
   {
    "duration": 90,
    "start_time": "2023-05-28T22:33:09.898Z"
   },
   {
    "duration": 11,
    "start_time": "2023-05-28T22:38:22.488Z"
   },
   {
    "duration": 1343,
    "start_time": "2023-05-28T22:44:29.750Z"
   },
   {
    "duration": 744,
    "start_time": "2023-05-28T22:44:31.095Z"
   },
   {
    "duration": 196,
    "start_time": "2023-05-28T22:44:31.841Z"
   },
   {
    "duration": 231,
    "start_time": "2023-05-28T22:44:32.038Z"
   },
   {
    "duration": 25,
    "start_time": "2023-05-28T22:44:32.271Z"
   },
   {
    "duration": 73,
    "start_time": "2023-05-28T22:44:32.298Z"
   },
   {
    "duration": 393,
    "start_time": "2023-05-28T22:44:32.372Z"
   },
   {
    "duration": 325,
    "start_time": "2023-05-28T22:44:32.767Z"
   },
   {
    "duration": 237,
    "start_time": "2023-05-28T22:44:33.094Z"
   },
   {
    "duration": 61,
    "start_time": "2023-05-28T22:44:33.333Z"
   },
   {
    "duration": 25,
    "start_time": "2023-05-28T22:44:33.395Z"
   },
   {
    "duration": 318,
    "start_time": "2023-05-28T22:44:33.421Z"
   },
   {
    "duration": 317,
    "start_time": "2023-05-28T22:44:33.741Z"
   },
   {
    "duration": 242,
    "start_time": "2023-05-28T22:44:34.061Z"
   },
   {
    "duration": 21,
    "start_time": "2023-05-28T22:44:34.305Z"
   },
   {
    "duration": 25,
    "start_time": "2023-05-28T22:44:34.327Z"
   },
   {
    "duration": 28,
    "start_time": "2023-05-28T22:44:34.353Z"
   },
   {
    "duration": 335,
    "start_time": "2023-05-28T22:44:34.383Z"
   },
   {
    "duration": 178,
    "start_time": "2023-05-28T22:44:34.720Z"
   },
   {
    "duration": 149,
    "start_time": "2023-05-28T22:44:34.900Z"
   },
   {
    "duration": 32,
    "start_time": "2023-05-28T22:44:35.051Z"
   },
   {
    "duration": 29,
    "start_time": "2023-05-28T22:44:35.086Z"
   },
   {
    "duration": 103,
    "start_time": "2023-05-28T22:44:35.117Z"
   },
   {
    "duration": 33,
    "start_time": "2023-05-28T22:44:35.222Z"
   },
   {
    "duration": 3,
    "start_time": "2023-05-28T22:44:35.256Z"
   },
   {
    "duration": 19,
    "start_time": "2023-05-28T22:44:35.261Z"
   },
   {
    "duration": 113,
    "start_time": "2023-05-28T22:44:35.281Z"
   },
   {
    "duration": 31,
    "start_time": "2023-05-28T22:44:35.396Z"
   },
   {
    "duration": 52,
    "start_time": "2023-05-28T22:44:35.429Z"
   },
   {
    "duration": 122,
    "start_time": "2023-05-28T22:44:35.483Z"
   },
   {
    "duration": 36,
    "start_time": "2023-05-28T22:44:35.607Z"
   },
   {
    "duration": 67,
    "start_time": "2023-05-28T22:44:35.645Z"
   },
   {
    "duration": 281,
    "start_time": "2023-05-28T22:44:35.714Z"
   },
   {
    "duration": 274,
    "start_time": "2023-05-28T22:44:35.996Z"
   },
   {
    "duration": 280,
    "start_time": "2023-05-28T22:44:36.277Z"
   },
   {
    "duration": 385,
    "start_time": "2023-05-28T22:44:36.558Z"
   },
   {
    "duration": 77,
    "start_time": "2023-05-28T22:44:36.945Z"
   },
   {
    "duration": 56,
    "start_time": "2023-05-28T22:44:37.023Z"
   },
   {
    "duration": 103,
    "start_time": "2023-05-28T22:44:37.080Z"
   },
   {
    "duration": 221,
    "start_time": "2023-05-28T22:44:37.185Z"
   },
   {
    "duration": 170,
    "start_time": "2023-05-28T22:44:37.410Z"
   },
   {
    "duration": 41,
    "start_time": "2023-05-28T22:44:37.581Z"
   },
   {
    "duration": 225,
    "start_time": "2023-05-28T22:44:37.624Z"
   },
   {
    "duration": 32,
    "start_time": "2023-05-28T22:44:37.850Z"
   },
   {
    "duration": 77,
    "start_time": "2023-05-28T22:44:37.883Z"
   },
   {
    "duration": 3,
    "start_time": "2023-05-28T22:44:37.961Z"
   },
   {
    "duration": 82,
    "start_time": "2023-05-28T22:44:37.978Z"
   },
   {
    "duration": 4,
    "start_time": "2023-05-28T22:44:38.061Z"
   },
   {
    "duration": 5,
    "start_time": "2023-05-28T22:44:38.078Z"
   },
   {
    "duration": 1793,
    "start_time": "2023-05-28T22:44:38.085Z"
   },
   {
    "duration": 4,
    "start_time": "2023-05-28T22:44:39.880Z"
   },
   {
    "duration": 2102,
    "start_time": "2023-05-28T22:44:39.885Z"
   },
   {
    "duration": 31315,
    "start_time": "2023-05-28T22:44:41.989Z"
   },
   {
    "duration": 5,
    "start_time": "2023-05-28T22:45:13.305Z"
   },
   {
    "duration": 23431,
    "start_time": "2023-05-28T22:45:13.312Z"
   },
   {
    "duration": 298588,
    "start_time": "2023-05-28T22:45:36.744Z"
   },
   {
    "duration": 3,
    "start_time": "2023-05-28T22:50:35.334Z"
   },
   {
    "duration": 299439,
    "start_time": "2023-05-28T22:50:35.339Z"
   },
   {
    "duration": 4,
    "start_time": "2023-05-28T22:55:34.780Z"
   },
   {
    "duration": 208,
    "start_time": "2023-05-28T22:55:34.785Z"
   },
   {
    "duration": 16,
    "start_time": "2023-05-28T22:55:35.078Z"
   },
   {
    "duration": 770,
    "start_time": "2023-05-28T22:55:35.095Z"
   },
   {
    "duration": 21,
    "start_time": "2023-05-28T22:55:35.867Z"
   },
   {
    "duration": 3,
    "start_time": "2023-05-28T22:55:35.889Z"
   },
   {
    "duration": 5,
    "start_time": "2023-05-28T22:55:35.893Z"
   },
   {
    "duration": 22357,
    "start_time": "2023-05-28T22:55:35.899Z"
   },
   {
    "duration": 59,
    "start_time": "2023-05-28T22:55:58.257Z"
   },
   {
    "duration": 5568,
    "start_time": "2023-05-28T22:55:58.317Z"
   },
   {
    "duration": 510,
    "start_time": "2023-05-28T22:56:03.887Z"
   },
   {
    "duration": 79,
    "start_time": "2023-05-28T22:56:04.399Z"
   },
   {
    "duration": 160,
    "start_time": "2023-05-29T12:57:27.346Z"
   },
   {
    "duration": 68,
    "start_time": "2023-05-29T12:57:35.740Z"
   },
   {
    "duration": 5,
    "start_time": "2023-05-29T13:23:58.897Z"
   },
   {
    "duration": 11,
    "start_time": "2023-05-29T13:24:27.786Z"
   },
   {
    "duration": 10,
    "start_time": "2023-05-29T13:24:42.403Z"
   },
   {
    "duration": 51,
    "start_time": "2023-05-29T13:25:25.950Z"
   },
   {
    "duration": 7,
    "start_time": "2023-05-29T13:25:45.808Z"
   },
   {
    "duration": 6,
    "start_time": "2023-05-29T13:25:59.886Z"
   },
   {
    "duration": 7,
    "start_time": "2023-05-29T13:27:05.153Z"
   },
   {
    "duration": 7,
    "start_time": "2023-05-29T13:27:26.848Z"
   },
   {
    "duration": 8,
    "start_time": "2023-05-29T13:27:31.349Z"
   },
   {
    "duration": 8,
    "start_time": "2023-05-29T13:27:48.658Z"
   },
   {
    "duration": 3,
    "start_time": "2023-05-29T13:27:57.353Z"
   },
   {
    "duration": 4,
    "start_time": "2023-05-29T13:30:01.191Z"
   },
   {
    "duration": 4,
    "start_time": "2023-05-29T13:30:52.896Z"
   },
   {
    "duration": 8,
    "start_time": "2023-05-29T13:31:06.388Z"
   },
   {
    "duration": 4,
    "start_time": "2023-05-29T13:31:11.171Z"
   },
   {
    "duration": 3,
    "start_time": "2023-05-29T13:31:39.949Z"
   },
   {
    "duration": 3,
    "start_time": "2023-05-29T13:31:51.881Z"
   },
   {
    "duration": 4,
    "start_time": "2023-05-29T13:31:59.596Z"
   },
   {
    "duration": 4,
    "start_time": "2023-05-29T13:32:07.680Z"
   },
   {
    "duration": 3,
    "start_time": "2023-05-29T13:32:18.845Z"
   },
   {
    "duration": 4,
    "start_time": "2023-05-29T13:32:24.944Z"
   },
   {
    "duration": 3,
    "start_time": "2023-05-29T13:33:24.100Z"
   },
   {
    "duration": 2,
    "start_time": "2023-05-29T13:33:34.196Z"
   },
   {
    "duration": 4,
    "start_time": "2023-05-29T13:33:38.793Z"
   },
   {
    "duration": 6,
    "start_time": "2023-05-29T13:33:43.616Z"
   },
   {
    "duration": 3,
    "start_time": "2023-05-29T13:33:57.103Z"
   },
   {
    "duration": 6,
    "start_time": "2023-05-29T13:58:39.746Z"
   },
   {
    "duration": 1776,
    "start_time": "2023-05-29T14:09:23.168Z"
   },
   {
    "duration": 1164,
    "start_time": "2023-05-29T14:09:24.947Z"
   },
   {
    "duration": 227,
    "start_time": "2023-05-29T14:09:26.114Z"
   },
   {
    "duration": 288,
    "start_time": "2023-05-29T14:09:26.342Z"
   },
   {
    "duration": 21,
    "start_time": "2023-05-29T14:09:26.633Z"
   },
   {
    "duration": 99,
    "start_time": "2023-05-29T14:09:26.656Z"
   },
   {
    "duration": 456,
    "start_time": "2023-05-29T14:09:26.757Z"
   },
   {
    "duration": 362,
    "start_time": "2023-05-29T14:09:27.227Z"
   },
   {
    "duration": 269,
    "start_time": "2023-05-29T14:09:27.591Z"
   },
   {
    "duration": 36,
    "start_time": "2023-05-29T14:09:27.863Z"
   },
   {
    "duration": 37,
    "start_time": "2023-05-29T14:09:27.901Z"
   },
   {
    "duration": 330,
    "start_time": "2023-05-29T14:09:27.939Z"
   },
   {
    "duration": 384,
    "start_time": "2023-05-29T14:09:28.271Z"
   },
   {
    "duration": 252,
    "start_time": "2023-05-29T14:09:28.657Z"
   },
   {
    "duration": 34,
    "start_time": "2023-05-29T14:09:28.910Z"
   },
   {
    "duration": 29,
    "start_time": "2023-05-29T14:09:28.946Z"
   },
   {
    "duration": 7,
    "start_time": "2023-05-29T14:09:28.976Z"
   },
   {
    "duration": 393,
    "start_time": "2023-05-29T14:09:28.985Z"
   },
   {
    "duration": 205,
    "start_time": "2023-05-29T14:09:29.380Z"
   },
   {
    "duration": 193,
    "start_time": "2023-05-29T14:09:29.586Z"
   },
   {
    "duration": 26,
    "start_time": "2023-05-29T14:09:29.780Z"
   },
   {
    "duration": 35,
    "start_time": "2023-05-29T14:09:29.807Z"
   },
   {
    "duration": 115,
    "start_time": "2023-05-29T14:09:29.843Z"
   },
   {
    "duration": 36,
    "start_time": "2023-05-29T14:09:29.959Z"
   },
   {
    "duration": 27,
    "start_time": "2023-05-29T14:09:29.996Z"
   },
   {
    "duration": 79,
    "start_time": "2023-05-29T14:09:30.024Z"
   },
   {
    "duration": 226,
    "start_time": "2023-05-29T14:09:30.106Z"
   },
   {
    "duration": 42,
    "start_time": "2023-05-29T14:09:30.337Z"
   },
   {
    "duration": 66,
    "start_time": "2023-05-29T14:09:30.382Z"
   },
   {
    "duration": 145,
    "start_time": "2023-05-29T14:09:30.449Z"
   },
   {
    "duration": 51,
    "start_time": "2023-05-29T14:09:30.596Z"
   },
   {
    "duration": 193,
    "start_time": "2023-05-29T14:09:30.649Z"
   },
   {
    "duration": 365,
    "start_time": "2023-05-29T14:09:30.844Z"
   },
   {
    "duration": 359,
    "start_time": "2023-05-29T14:09:31.211Z"
   },
   {
    "duration": 332,
    "start_time": "2023-05-29T14:09:31.571Z"
   },
   {
    "duration": 418,
    "start_time": "2023-05-29T14:09:31.905Z"
   },
   {
    "duration": 71,
    "start_time": "2023-05-29T14:09:32.329Z"
   },
   {
    "duration": 67,
    "start_time": "2023-05-29T14:09:32.402Z"
   },
   {
    "duration": 66,
    "start_time": "2023-05-29T14:09:32.471Z"
   },
   {
    "duration": 202,
    "start_time": "2023-05-29T14:09:32.538Z"
   },
   {
    "duration": 163,
    "start_time": "2023-05-29T14:09:32.741Z"
   },
   {
    "duration": 22,
    "start_time": "2023-05-29T14:09:32.905Z"
   },
   {
    "duration": 76,
    "start_time": "2023-05-29T14:09:32.929Z"
   },
   {
    "duration": 24,
    "start_time": "2023-05-29T14:09:33.007Z"
   },
   {
    "duration": 47,
    "start_time": "2023-05-29T14:09:33.033Z"
   },
   {
    "duration": 172,
    "start_time": "2023-05-29T14:09:33.082Z"
   },
   {
    "duration": 5,
    "start_time": "2023-05-29T14:09:33.256Z"
   },
   {
    "duration": 45,
    "start_time": "2023-05-29T14:09:33.262Z"
   },
   {
    "duration": 102,
    "start_time": "2023-05-29T14:09:33.309Z"
   },
   {
    "duration": 187,
    "start_time": "2023-05-29T14:09:33.413Z"
   },
   {
    "duration": 5,
    "start_time": "2023-05-29T14:09:33.601Z"
   },
   {
    "duration": 33,
    "start_time": "2023-05-29T14:09:33.609Z"
   },
   {
    "duration": 1901,
    "start_time": "2023-05-29T14:13:50.332Z"
   },
   {
    "duration": 84,
    "start_time": "2023-05-29T14:13:52.237Z"
   },
   {
    "duration": 2008,
    "start_time": "2023-05-29T14:13:52.325Z"
   },
   {
    "duration": 38264,
    "start_time": "2023-05-29T14:13:54.340Z"
   },
   {
    "duration": 5,
    "start_time": "2023-05-29T14:14:32.606Z"
   },
   {
    "duration": 73,
    "start_time": "2023-05-29T14:14:32.612Z"
   },
   {
    "duration": 395772,
    "start_time": "2023-05-29T14:14:32.687Z"
   },
   {
    "duration": 4,
    "start_time": "2023-05-29T14:21:08.461Z"
   },
   {
    "duration": 923780,
    "start_time": "2023-05-29T14:21:08.467Z"
   },
   {
    "duration": 8,
    "start_time": "2023-05-29T14:36:32.250Z"
   },
   {
    "duration": 308,
    "start_time": "2023-05-29T14:36:32.263Z"
   },
   {
    "duration": 56,
    "start_time": "2023-05-29T14:36:32.573Z"
   },
   {
    "duration": 873,
    "start_time": "2023-05-29T14:36:32.635Z"
   },
   {
    "duration": 45,
    "start_time": "2023-05-29T14:36:33.510Z"
   },
   {
    "duration": 14,
    "start_time": "2023-05-29T14:36:33.569Z"
   },
   {
    "duration": 19,
    "start_time": "2023-05-29T14:36:33.585Z"
   },
   {
    "duration": 31082,
    "start_time": "2023-05-29T14:36:33.605Z"
   },
   {
    "duration": 86,
    "start_time": "2023-05-29T14:37:04.689Z"
   },
   {
    "duration": 831531,
    "start_time": "2023-05-29T14:37:04.776Z"
   },
   {
    "duration": 149,
    "start_time": "2023-05-29T14:50:56.308Z"
   },
   {
    "duration": 6,
    "start_time": "2023-05-29T14:50:56.458Z"
   },
   {
    "duration": 7,
    "start_time": "2023-05-29T14:50:56.466Z"
   },
   {
    "duration": 12,
    "start_time": "2023-05-29T14:50:56.475Z"
   },
   {
    "duration": 0,
    "start_time": "2023-05-29T14:50:56.489Z"
   },
   {
    "duration": 0,
    "start_time": "2023-05-29T14:50:56.491Z"
   },
   {
    "duration": 1703,
    "start_time": "2023-05-29T14:52:38.265Z"
   },
   {
    "duration": 1206,
    "start_time": "2023-05-29T14:52:39.969Z"
   },
   {
    "duration": 240,
    "start_time": "2023-05-29T14:52:41.177Z"
   },
   {
    "duration": 358,
    "start_time": "2023-05-29T14:52:41.437Z"
   },
   {
    "duration": 19,
    "start_time": "2023-05-29T14:52:41.797Z"
   },
   {
    "duration": 115,
    "start_time": "2023-05-29T14:52:41.820Z"
   },
   {
    "duration": 534,
    "start_time": "2023-05-29T14:52:41.937Z"
   },
   {
    "duration": 442,
    "start_time": "2023-05-29T14:52:42.473Z"
   },
   {
    "duration": 279,
    "start_time": "2023-05-29T14:52:42.917Z"
   },
   {
    "duration": 65,
    "start_time": "2023-05-29T14:52:43.198Z"
   },
   {
    "duration": 29,
    "start_time": "2023-05-29T14:52:43.265Z"
   },
   {
    "duration": 359,
    "start_time": "2023-05-29T14:52:43.296Z"
   },
   {
    "duration": 431,
    "start_time": "2023-05-29T14:52:43.657Z"
   },
   {
    "duration": 298,
    "start_time": "2023-05-29T14:52:44.090Z"
   },
   {
    "duration": 24,
    "start_time": "2023-05-29T14:52:44.389Z"
   },
   {
    "duration": 70,
    "start_time": "2023-05-29T14:52:44.417Z"
   },
   {
    "duration": 9,
    "start_time": "2023-05-29T14:52:44.488Z"
   },
   {
    "duration": 464,
    "start_time": "2023-05-29T14:52:44.499Z"
   },
   {
    "duration": 284,
    "start_time": "2023-05-29T14:52:44.973Z"
   },
   {
    "duration": 228,
    "start_time": "2023-05-29T14:52:45.265Z"
   },
   {
    "duration": 61,
    "start_time": "2023-05-29T14:52:45.494Z"
   },
   {
    "duration": 32,
    "start_time": "2023-05-29T14:52:45.563Z"
   },
   {
    "duration": 139,
    "start_time": "2023-05-29T14:52:45.596Z"
   },
   {
    "duration": 49,
    "start_time": "2023-05-29T14:52:45.737Z"
   },
   {
    "duration": 5,
    "start_time": "2023-05-29T14:52:45.788Z"
   },
   {
    "duration": 7,
    "start_time": "2023-05-29T14:52:45.794Z"
   },
   {
    "duration": 157,
    "start_time": "2023-05-29T14:52:45.802Z"
   },
   {
    "duration": 35,
    "start_time": "2023-05-29T14:52:45.964Z"
   },
   {
    "duration": 73,
    "start_time": "2023-05-29T14:52:46.001Z"
   },
   {
    "duration": 157,
    "start_time": "2023-05-29T14:52:46.076Z"
   },
   {
    "duration": 53,
    "start_time": "2023-05-29T14:52:46.234Z"
   },
   {
    "duration": 89,
    "start_time": "2023-05-29T14:52:46.289Z"
   },
   {
    "duration": 322,
    "start_time": "2023-05-29T14:52:46.380Z"
   },
   {
    "duration": 396,
    "start_time": "2023-05-29T14:52:46.704Z"
   },
   {
    "duration": 368,
    "start_time": "2023-05-29T14:52:47.102Z"
   },
   {
    "duration": 432,
    "start_time": "2023-05-29T14:52:47.472Z"
   },
   {
    "duration": 109,
    "start_time": "2023-05-29T14:52:47.906Z"
   },
   {
    "duration": 73,
    "start_time": "2023-05-29T14:52:48.016Z"
   },
   {
    "duration": 69,
    "start_time": "2023-05-29T14:52:48.091Z"
   },
   {
    "duration": 155,
    "start_time": "2023-05-29T14:52:48.161Z"
   },
   {
    "duration": 215,
    "start_time": "2023-05-29T14:52:48.335Z"
   },
   {
    "duration": 13,
    "start_time": "2023-05-29T14:52:48.560Z"
   },
   {
    "duration": 64,
    "start_time": "2023-05-29T14:52:48.575Z"
   },
   {
    "duration": 21,
    "start_time": "2023-05-29T14:52:48.650Z"
   },
   {
    "duration": 31,
    "start_time": "2023-05-29T14:52:48.673Z"
   },
   {
    "duration": 157,
    "start_time": "2023-05-29T14:52:48.706Z"
   },
   {
    "duration": 7,
    "start_time": "2023-05-29T14:52:48.865Z"
   },
   {
    "duration": 24,
    "start_time": "2023-05-29T14:52:48.873Z"
   },
   {
    "duration": 15,
    "start_time": "2023-05-29T14:52:48.899Z"
   },
   {
    "duration": 166,
    "start_time": "2023-05-29T14:52:48.916Z"
   },
   {
    "duration": 4,
    "start_time": "2023-05-29T14:52:49.083Z"
   },
   {
    "duration": 14,
    "start_time": "2023-05-29T14:52:49.089Z"
   },
   {
    "duration": 1750,
    "start_time": "2023-05-29T14:52:49.105Z"
   },
   {
    "duration": 20,
    "start_time": "2023-05-29T14:52:50.923Z"
   },
   {
    "duration": 2608,
    "start_time": "2023-05-29T14:52:50.946Z"
   },
   {
    "duration": 41216,
    "start_time": "2023-05-29T14:52:53.562Z"
   },
   {
    "duration": 4,
    "start_time": "2023-05-29T14:53:34.780Z"
   },
   {
    "duration": 22,
    "start_time": "2023-05-29T14:53:34.786Z"
   },
   {
    "duration": 405212,
    "start_time": "2023-05-29T14:53:34.810Z"
   },
   {
    "duration": 7,
    "start_time": "2023-05-29T15:00:20.025Z"
   },
   {
    "duration": 4193093,
    "start_time": "2023-05-29T15:00:20.034Z"
   },
   {
    "duration": 27,
    "start_time": "2023-05-29T16:10:13.140Z"
   },
   {
    "duration": 358,
    "start_time": "2023-05-29T16:10:13.169Z"
   },
   {
    "duration": 32,
    "start_time": "2023-05-29T16:10:13.532Z"
   },
   {
    "duration": 865,
    "start_time": "2023-05-29T16:10:13.571Z"
   },
   {
    "duration": 36,
    "start_time": "2023-05-29T16:10:14.437Z"
   },
   {
    "duration": 15,
    "start_time": "2023-05-29T16:10:14.475Z"
   },
   {
    "duration": 6,
    "start_time": "2023-05-29T16:10:14.492Z"
   },
   {
    "duration": 30990,
    "start_time": "2023-05-29T16:10:14.500Z"
   },
   {
    "duration": 90,
    "start_time": "2023-05-29T16:10:45.492Z"
   },
   {
    "duration": 175086,
    "start_time": "2023-05-29T16:10:45.583Z"
   },
   {
    "duration": 117,
    "start_time": "2023-05-29T16:13:40.671Z"
   },
   {
    "duration": 11,
    "start_time": "2023-05-29T16:13:40.789Z"
   },
   {
    "duration": 1162129,
    "start_time": "2023-05-29T16:14:12.151Z"
   },
   {
    "duration": 4,
    "start_time": "2023-05-29T16:36:33.155Z"
   },
   {
    "duration": 870,
    "start_time": "2023-05-29T16:36:33.161Z"
   },
   {
    "duration": 256,
    "start_time": "2023-05-29T16:36:34.033Z"
   },
   {
    "duration": 311,
    "start_time": "2023-05-29T16:36:34.290Z"
   },
   {
    "duration": 52,
    "start_time": "2023-05-29T16:36:34.603Z"
   },
   {
    "duration": 113,
    "start_time": "2023-05-29T16:36:34.658Z"
   },
   {
    "duration": 467,
    "start_time": "2023-05-29T16:36:34.773Z"
   },
   {
    "duration": 343,
    "start_time": "2023-05-29T16:36:35.249Z"
   },
   {
    "duration": 265,
    "start_time": "2023-05-29T16:36:35.594Z"
   },
   {
    "duration": 37,
    "start_time": "2023-05-29T16:36:35.861Z"
   },
   {
    "duration": 49,
    "start_time": "2023-05-29T16:36:35.900Z"
   },
   {
    "duration": 293,
    "start_time": "2023-05-29T16:36:35.951Z"
   },
   {
    "duration": 397,
    "start_time": "2023-05-29T16:36:36.246Z"
   },
   {
    "duration": 258,
    "start_time": "2023-05-29T16:36:36.647Z"
   },
   {
    "duration": 41,
    "start_time": "2023-05-29T16:36:36.906Z"
   },
   {
    "duration": 32,
    "start_time": "2023-05-29T16:36:36.949Z"
   },
   {
    "duration": 7,
    "start_time": "2023-05-29T16:36:36.983Z"
   },
   {
    "duration": 406,
    "start_time": "2023-05-29T16:36:36.992Z"
   },
   {
    "duration": 218,
    "start_time": "2023-05-29T16:36:37.400Z"
   },
   {
    "duration": 196,
    "start_time": "2023-05-29T16:36:37.620Z"
   },
   {
    "duration": 42,
    "start_time": "2023-05-29T16:36:37.824Z"
   },
   {
    "duration": 27,
    "start_time": "2023-05-29T16:36:37.867Z"
   },
   {
    "duration": 116,
    "start_time": "2023-05-29T16:36:37.895Z"
   },
   {
    "duration": 54,
    "start_time": "2023-05-29T16:36:38.017Z"
   },
   {
    "duration": 2,
    "start_time": "2023-05-29T16:36:38.072Z"
   },
   {
    "duration": 24,
    "start_time": "2023-05-29T16:36:38.076Z"
   },
   {
    "duration": 150,
    "start_time": "2023-05-29T16:36:38.102Z"
   },
   {
    "duration": 35,
    "start_time": "2023-05-29T16:36:38.253Z"
   },
   {
    "duration": 61,
    "start_time": "2023-05-29T16:36:38.289Z"
   },
   {
    "duration": 116,
    "start_time": "2023-05-29T16:36:38.352Z"
   },
   {
    "duration": 33,
    "start_time": "2023-05-29T16:36:38.471Z"
   },
   {
    "duration": 79,
    "start_time": "2023-05-29T16:36:38.506Z"
   },
   {
    "duration": 386,
    "start_time": "2023-05-29T16:36:38.587Z"
   },
   {
    "duration": 380,
    "start_time": "2023-05-29T16:36:38.975Z"
   },
   {
    "duration": 319,
    "start_time": "2023-05-29T16:36:39.357Z"
   },
   {
    "duration": 316,
    "start_time": "2023-05-29T16:36:39.678Z"
   },
   {
    "duration": 102,
    "start_time": "2023-05-29T16:36:39.996Z"
   },
   {
    "duration": 70,
    "start_time": "2023-05-29T16:36:40.100Z"
   },
   {
    "duration": 84,
    "start_time": "2023-05-29T16:36:40.171Z"
   },
   {
    "duration": 169,
    "start_time": "2023-05-29T16:36:40.262Z"
   },
   {
    "duration": 188,
    "start_time": "2023-05-29T16:36:40.438Z"
   },
   {
    "duration": 15,
    "start_time": "2023-05-29T16:36:40.646Z"
   },
   {
    "duration": 68,
    "start_time": "2023-05-29T16:36:40.663Z"
   },
   {
    "duration": 23,
    "start_time": "2023-05-29T16:36:40.734Z"
   },
   {
    "duration": 41,
    "start_time": "2023-05-29T16:36:40.759Z"
   },
   {
    "duration": 188,
    "start_time": "2023-05-29T16:36:40.802Z"
   },
   {
    "duration": 7,
    "start_time": "2023-05-29T16:36:40.991Z"
   },
   {
    "duration": 35,
    "start_time": "2023-05-29T16:36:41.000Z"
   },
   {
    "duration": 28,
    "start_time": "2023-05-29T16:36:41.037Z"
   },
   {
    "duration": 116,
    "start_time": "2023-05-29T16:36:41.067Z"
   },
   {
    "duration": 4,
    "start_time": "2023-05-29T16:36:41.185Z"
   },
   {
    "duration": 15,
    "start_time": "2023-05-29T16:36:41.191Z"
   },
   {
    "duration": 2474106,
    "start_time": "2023-05-29T16:41:40.171Z"
   },
   {
    "duration": 1559,
    "start_time": "2023-05-29T17:33:42.106Z"
   },
   {
    "duration": 855,
    "start_time": "2023-05-29T17:33:47.615Z"
   },
   {
    "duration": 243,
    "start_time": "2023-05-29T17:33:52.693Z"
   },
   {
    "duration": 320,
    "start_time": "2023-05-29T17:33:56.833Z"
   },
   {
    "duration": 23,
    "start_time": "2023-05-29T17:34:02.389Z"
   },
   {
    "duration": 84,
    "start_time": "2023-05-29T17:35:32.553Z"
   },
   {
    "duration": 474,
    "start_time": "2023-05-29T17:35:32.639Z"
   },
   {
    "duration": 381,
    "start_time": "2023-05-29T17:35:33.115Z"
   },
   {
    "duration": 284,
    "start_time": "2023-05-29T17:35:33.499Z"
   },
   {
    "duration": 56,
    "start_time": "2023-05-29T17:35:33.784Z"
   },
   {
    "duration": 27,
    "start_time": "2023-05-29T17:35:33.841Z"
   },
   {
    "duration": 335,
    "start_time": "2023-05-29T17:35:33.870Z"
   },
   {
    "duration": 383,
    "start_time": "2023-05-29T17:35:34.206Z"
   },
   {
    "duration": 353,
    "start_time": "2023-05-29T17:35:34.592Z"
   },
   {
    "duration": 30,
    "start_time": "2023-05-29T17:35:34.949Z"
   },
   {
    "duration": 33,
    "start_time": "2023-05-29T17:35:34.980Z"
   },
   {
    "duration": 14,
    "start_time": "2023-05-29T17:35:35.024Z"
   },
   {
    "duration": 394,
    "start_time": "2023-05-29T17:35:35.041Z"
   },
   {
    "duration": 220,
    "start_time": "2023-05-29T17:35:35.437Z"
   },
   {
    "duration": 204,
    "start_time": "2023-05-29T17:35:35.658Z"
   },
   {
    "duration": 68,
    "start_time": "2023-05-29T17:35:35.863Z"
   },
   {
    "duration": 39,
    "start_time": "2023-05-29T17:35:35.934Z"
   },
   {
    "duration": 140,
    "start_time": "2023-05-29T17:35:35.975Z"
   },
   {
    "duration": 52,
    "start_time": "2023-05-29T17:35:36.117Z"
   },
   {
    "duration": 3,
    "start_time": "2023-05-29T17:35:36.171Z"
   },
   {
    "duration": 15,
    "start_time": "2023-05-29T17:35:36.175Z"
   },
   {
    "duration": 156,
    "start_time": "2023-05-29T17:35:36.192Z"
   },
   {
    "duration": 36,
    "start_time": "2023-05-29T17:35:36.349Z"
   },
   {
    "duration": 58,
    "start_time": "2023-05-29T17:35:36.387Z"
   },
   {
    "duration": 131,
    "start_time": "2023-05-29T17:35:36.447Z"
   },
   {
    "duration": 43,
    "start_time": "2023-05-29T17:35:36.580Z"
   },
   {
    "duration": 72,
    "start_time": "2023-05-29T17:35:36.625Z"
   },
   {
    "duration": 307,
    "start_time": "2023-05-29T17:35:36.701Z"
   },
   {
    "duration": 349,
    "start_time": "2023-05-29T17:35:37.010Z"
   },
   {
    "duration": 330,
    "start_time": "2023-05-29T17:35:37.361Z"
   },
   {
    "duration": 396,
    "start_time": "2023-05-29T17:35:37.693Z"
   },
   {
    "duration": 102,
    "start_time": "2023-05-29T17:35:38.091Z"
   },
   {
    "duration": 53,
    "start_time": "2023-05-29T17:35:38.195Z"
   },
   {
    "duration": 42,
    "start_time": "2023-05-29T17:35:38.250Z"
   },
   {
    "duration": 161,
    "start_time": "2023-05-29T17:35:38.293Z"
   },
   {
    "duration": 153,
    "start_time": "2023-05-29T17:35:38.455Z"
   },
   {
    "duration": 16,
    "start_time": "2023-05-29T17:35:38.620Z"
   },
   {
    "duration": 73,
    "start_time": "2023-05-29T17:35:38.638Z"
   },
   {
    "duration": 26,
    "start_time": "2023-05-29T17:35:38.712Z"
   },
   {
    "duration": 28,
    "start_time": "2023-05-29T17:35:38.740Z"
   },
   {
    "duration": 137,
    "start_time": "2023-05-29T17:35:38.770Z"
   },
   {
    "duration": 27,
    "start_time": "2023-05-29T17:35:38.909Z"
   },
   {
    "duration": 14,
    "start_time": "2023-05-29T17:35:38.941Z"
   },
   {
    "duration": 9,
    "start_time": "2023-05-29T17:35:38.957Z"
   },
   {
    "duration": 110,
    "start_time": "2023-05-29T17:35:38.967Z"
   },
   {
    "duration": 4,
    "start_time": "2023-05-29T17:35:39.079Z"
   },
   {
    "duration": 12,
    "start_time": "2023-05-29T17:35:39.085Z"
   },
   {
    "duration": 1904527,
    "start_time": "2023-05-29T17:37:53.015Z"
   },
   {
    "duration": 436340,
    "start_time": "2023-05-29T18:18:32.286Z"
   },
   {
    "duration": 580,
    "start_time": "2023-05-29T18:46:16.943Z"
   },
   {
    "duration": 12,
    "start_time": "2023-05-29T18:46:23.122Z"
   },
   {
    "duration": 167,
    "start_time": "2023-05-29T18:46:50.657Z"
   },
   {
    "duration": 96,
    "start_time": "2023-05-29T18:46:50.826Z"
   },
   {
    "duration": 816,
    "start_time": "2023-05-29T18:46:50.924Z"
   },
   {
    "duration": 18,
    "start_time": "2023-05-29T18:46:51.742Z"
   },
   {
    "duration": 25659,
    "start_time": "2023-05-29T18:46:59.094Z"
   },
   {
    "duration": 68,
    "start_time": "2023-05-29T18:47:24.754Z"
   },
   {
    "duration": 10,
    "start_time": "2023-05-29T18:51:59.746Z"
   },
   {
    "duration": 1451,
    "start_time": "2023-05-29T18:52:12.767Z"
   },
   {
    "duration": 1782,
    "start_time": "2023-05-29T18:52:24.746Z"
   },
   {
    "duration": 39442,
    "start_time": "2023-05-29T18:52:34.990Z"
   },
   {
    "duration": 1273137,
    "start_time": "2023-05-29T18:53:26.082Z"
   },
   {
    "duration": 353144,
    "start_time": "2023-05-29T19:14:55.121Z"
   },
   {
    "duration": 36,
    "start_time": "2023-05-29T19:21:08.809Z"
   }
  ],
  "kernelspec": {
   "display_name": "Python 3 (ipykernel)",
   "language": "python",
   "name": "python3"
  },
  "language_info": {
   "codemirror_mode": {
    "name": "ipython",
    "version": 3
   },
   "file_extension": ".py",
   "mimetype": "text/x-python",
   "name": "python",
   "nbconvert_exporter": "python",
   "pygments_lexer": "ipython3",
   "version": "3.9.16"
  },
  "toc": {
   "base_numbering": 1,
   "nav_menu": {},
   "number_sections": true,
   "sideBar": true,
   "skip_h1_title": true,
   "title_cell": "Table of Contents",
   "title_sidebar": "Contents",
   "toc_cell": false,
   "toc_position": {
    "height": "calc(100% - 180px)",
    "left": "10px",
    "top": "150px",
    "width": "371px"
   },
   "toc_section_display": true,
   "toc_window_display": true
  }
 },
 "nbformat": 4,
 "nbformat_minor": 2
}
